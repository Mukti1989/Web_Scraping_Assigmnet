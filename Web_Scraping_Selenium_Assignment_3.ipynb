{
 "cells": [
  {
   "cell_type": "markdown",
   "id": "d62cb08c",
   "metadata": {},
   "source": [
    "# Web_Scraping_Selenium"
   ]
  },
  {
   "cell_type": "code",
   "execution_count": 1,
   "id": "b31f213d",
   "metadata": {},
   "outputs": [
    {
     "name": "stdout",
     "output_type": "stream",
     "text": [
      "Requirement already satisfied: selenium in c:\\programdata\\anaconda3\\lib\\site-packages (4.1.0)\n",
      "Requirement already satisfied: urllib3[secure]~=1.26 in c:\\programdata\\anaconda3\\lib\\site-packages (from selenium) (1.26.4)\n",
      "Requirement already satisfied: trio-websocket~=0.9 in c:\\programdata\\anaconda3\\lib\\site-packages (from selenium) (0.9.2)\n",
      "Requirement already satisfied: trio~=0.17 in c:\\programdata\\anaconda3\\lib\\site-packages (from selenium) (0.19.0)\n",
      "Requirement already satisfied: sniffio in c:\\programdata\\anaconda3\\lib\\site-packages (from trio~=0.17->selenium) (1.2.0)\n",
      "Requirement already satisfied: async-generator>=1.9 in c:\\programdata\\anaconda3\\lib\\site-packages (from trio~=0.17->selenium) (1.10)\n",
      "Requirement already satisfied: outcome in c:\\programdata\\anaconda3\\lib\\site-packages (from trio~=0.17->selenium) (1.1.0)\n",
      "Requirement already satisfied: cffi>=1.14 in c:\\programdata\\anaconda3\\lib\\site-packages (from trio~=0.17->selenium) (1.14.5)\n",
      "Requirement already satisfied: sortedcontainers in c:\\programdata\\anaconda3\\lib\\site-packages (from trio~=0.17->selenium) (2.3.0)\n",
      "Requirement already satisfied: attrs>=19.2.0 in c:\\programdata\\anaconda3\\lib\\site-packages (from trio~=0.17->selenium) (20.3.0)\n",
      "Requirement already satisfied: idna in c:\\programdata\\anaconda3\\lib\\site-packages (from trio~=0.17->selenium) (2.10)\n",
      "Requirement already satisfied: pycparser in c:\\programdata\\anaconda3\\lib\\site-packages (from cffi>=1.14->trio~=0.17->selenium) (2.20)\n",
      "Requirement already satisfied: wsproto>=0.14 in c:\\programdata\\anaconda3\\lib\\site-packages (from trio-websocket~=0.9->selenium) (1.0.0)\n",
      "Requirement already satisfied: pyOpenSSL>=0.14 in c:\\programdata\\anaconda3\\lib\\site-packages (from urllib3[secure]~=1.26->selenium) (20.0.1)\n",
      "Requirement already satisfied: certifi in c:\\programdata\\anaconda3\\lib\\site-packages (from urllib3[secure]~=1.26->selenium) (2020.12.5)\n",
      "Requirement already satisfied: cryptography>=1.3.4 in c:\\programdata\\anaconda3\\lib\\site-packages (from urllib3[secure]~=1.26->selenium) (3.4.7)\n",
      "Requirement already satisfied: six>=1.5.2 in c:\\programdata\\anaconda3\\lib\\site-packages (from pyOpenSSL>=0.14->urllib3[secure]~=1.26->selenium) (1.15.0)\n",
      "Requirement already satisfied: h11<1,>=0.9.0 in c:\\programdata\\anaconda3\\lib\\site-packages (from wsproto>=0.14->trio-websocket~=0.9->selenium) (0.12.0)\n"
     ]
    }
   ],
   "source": [
    "!pip install selenium"
   ]
  },
  {
   "cell_type": "code",
   "execution_count": 2,
   "id": "b3389a91",
   "metadata": {},
   "outputs": [],
   "source": [
    "# Lets import all required libraries\n",
    "import selenium\n",
    "from selenium import webdriver\n",
    "import pandas as pd\n",
    "import warnings\n",
    "warnings.filterwarnings('ignore')"
   ]
  },
  {
   "cell_type": "markdown",
   "id": "78cf42a2",
   "metadata": {},
   "source": [
    "# Q-1 Write a python program to scrape data for “Data Analyst” Job position in “Bangalore” location. You have to scrape the job-title, job-location, company_name, experience_required. You have to scrape first 10 jobs data.\n",
    "\n",
    "    .1 First get the webpage https://www.naukri.com/\n",
    "    .2 Enter “Data Analyst” in “Skill, Designations, Companies” field and enter “Bangalore” in “enter the location” field.\n",
    "    .3 Then click the search button\n",
    "    .4 Then scrape the data for the first 10 jobs results you get.\n",
    "    .5 Finally create a dataframe of the scraped data.\n",
    "\n",
    "    . Note: All of the above steps have to be done in code. No step is to be done manually."
   ]
  },
  {
   "cell_type": "code",
   "execution_count": 9,
   "id": "845a3e17",
   "metadata": {},
   "outputs": [],
   "source": [
    "driver = webdriver.Chrome(r'C:\\Users\\Mukti\\Downloads\\chromedriver_win32\\chromedriver.exe')"
   ]
  },
  {
   "cell_type": "code",
   "execution_count": 10,
   "id": "e283ea72",
   "metadata": {},
   "outputs": [],
   "source": [
    "# Connect the URL\n",
    "url = 'https://www.naukri.com/'\n",
    "driver.get(url)\n",
    "\n",
    "# Finding Web elements for each job bar using id\n",
    "search_job = driver.find_element_by_id(\"qsb-keyword-sugg\")\n",
    "search_job\n",
    "\n",
    "# Write a Search Bar\n",
    "search_job.send_keys(\"Data Analyst\")\n"
   ]
  },
  {
   "cell_type": "code",
   "execution_count": 11,
   "id": "c26c6e55",
   "metadata": {},
   "outputs": [
    {
     "data": {
      "text/plain": [
       "<selenium.webdriver.remote.webelement.WebElement (session=\"791e014b588409fed4d40ef6a35851b9\", element=\"74a5f23c-4646-4e7c-941a-340a77de4125\")>"
      ]
     },
     "execution_count": 11,
     "metadata": {},
     "output_type": "execute_result"
    }
   ],
   "source": [
    "# Serch Location\n",
    "Serch_location = driver.find_element_by_xpath('/html/body/div[1]/div[3]/div[2]/section/div/form/div[2]/div/div/div/div[1]/div[2]/input')\n",
    "Serch_location"
   ]
  },
  {
   "cell_type": "code",
   "execution_count": 13,
   "id": "686a7e1e",
   "metadata": {},
   "outputs": [],
   "source": [
    "Serch_location.send_keys(\"Bangalore\")"
   ]
  },
  {
   "cell_type": "code",
   "execution_count": 14,
   "id": "0ab8ee59",
   "metadata": {},
   "outputs": [],
   "source": [
    "# Search Btn\n",
    "search_btn = driver.find_element_by_xpath('/html/body/div[1]/div[3]/div[2]/section/div/form/div[3]/button')\n",
    "search_btn\n",
    "search_btn.click()"
   ]
  },
  {
   "cell_type": "code",
   "execution_count": 18,
   "id": "bfe81c51",
   "metadata": {},
   "outputs": [
    {
     "data": {
      "text/plain": [
       "['Lead - Data Analyst / Scientist',\n",
       " 'Senior Data Analyst - Supporting Audits',\n",
       " 'Senior Data Analyst - KPO',\n",
       " 'Data Analyst',\n",
       " 'Financial Data Analyst',\n",
       " 'Tcs Hiring For Data Analyst / Engineers',\n",
       " 'Business Data Analyst - Database Design/Mining',\n",
       " 'BUSINESS ANALYST -DATA SCIENCE-CONSUMER',\n",
       " 'Financial Data Analyst',\n",
       " 'Data Analyst']"
      ]
     },
     "execution_count": 18,
     "metadata": {},
     "output_type": "execute_result"
    }
   ],
   "source": [
    "# job titles\n",
    "title_tags = driver.find_elements_by_xpath('//a[@class=\"title fw500 ellipsis\"]')\n",
    "job_titles = []\n",
    "\n",
    "for i in title_tags:\n",
    "    job_titles.append(i.text)\n",
    "job_titles[0:10]"
   ]
  },
  {
   "cell_type": "code",
   "execution_count": 26,
   "id": "1282593b",
   "metadata": {},
   "outputs": [
    {
     "data": {
      "text/plain": [
       "['Bangalore/Bengaluru',\n",
       " 'Bangalore/Bengaluru',\n",
       " 'Gurgaon/Gurugram, Bangalore/Bengaluru',\n",
       " 'Bangalore/Bengaluru',\n",
       " 'Bangalore/Bengaluru',\n",
       " 'Pune, Bangalore/Bengaluru, Delhi / NCR',\n",
       " 'Bangalore/Bengaluru',\n",
       " 'Bangalore/Bengaluru',\n",
       " 'Bangalore/Bengaluru',\n",
       " 'Bangalore/Bengaluru']"
      ]
     },
     "execution_count": 26,
     "metadata": {},
     "output_type": "execute_result"
    }
   ],
   "source": [
    "# Job_Location\n",
    "location = driver.find_elements_by_xpath('//li[@class=\"fleft grey-text br2 placeHolderLi location\"]')\n",
    "locations = []\n",
    "\n",
    "for i in location:\n",
    "    locations.append(i.text)\n",
    "locations[0:10]"
   ]
  },
  {
   "cell_type": "code",
   "execution_count": 28,
   "id": "20c835e5",
   "metadata": {},
   "outputs": [
    {
     "data": {
      "text/plain": [
       "['Axim Technologies',\n",
       " 'Visa',\n",
       " 'Huquo Consulting Pvt. Ltd',\n",
       " 'Snaphunt',\n",
       " \"Moody's\",\n",
       " 'TCS',\n",
       " 'AugmatrixGo',\n",
       " 'BRIDGEi2i Analytics Solutions Private Limited',\n",
       " \"Moody's\",\n",
       " 'Jeeva Organic']"
      ]
     },
     "execution_count": 28,
     "metadata": {},
     "output_type": "execute_result"
    }
   ],
   "source": [
    "# Company Name\n",
    "Comp_name = driver.find_elements_by_xpath('//a[@class=\"subTitle ellipsis fleft\"]')\n",
    "Comp_names = []\n",
    "\n",
    "for i in Comp_name:\n",
    "    Comp_names.append(i.text)\n",
    "Comp_names[0:10]"
   ]
  },
  {
   "cell_type": "code",
   "execution_count": 29,
   "id": "55a33038",
   "metadata": {},
   "outputs": [
    {
     "data": {
      "text/plain": [
       "['12-14 Yrs',\n",
       " '5-8 Yrs',\n",
       " '7-12 Yrs',\n",
       " '0-2 Yrs',\n",
       " '0-2 Yrs',\n",
       " '4-9 Yrs',\n",
       " '2-5 Yrs',\n",
       " '0-2 Yrs',\n",
       " '0-2 Yrs',\n",
       " '3-8 Yrs']"
      ]
     },
     "execution_count": 29,
     "metadata": {},
     "output_type": "execute_result"
    }
   ],
   "source": [
    "# Experience\n",
    "experience = driver.find_elements_by_xpath('//li[@class=\"fleft grey-text br2 placeHolderLi experience\"]')\n",
    "exps = []\n",
    "\n",
    "for i in experience:\n",
    "    exps.append(i.text)\n",
    "exps[0:10]"
   ]
  },
  {
   "cell_type": "code",
   "execution_count": 30,
   "id": "d9ebb0c5",
   "metadata": {},
   "outputs": [
    {
     "data": {
      "text/html": [
       "<div>\n",
       "<style scoped>\n",
       "    .dataframe tbody tr th:only-of-type {\n",
       "        vertical-align: middle;\n",
       "    }\n",
       "\n",
       "    .dataframe tbody tr th {\n",
       "        vertical-align: top;\n",
       "    }\n",
       "\n",
       "    .dataframe thead th {\n",
       "        text-align: right;\n",
       "    }\n",
       "</style>\n",
       "<table border=\"1\" class=\"dataframe\">\n",
       "  <thead>\n",
       "    <tr style=\"text-align: right;\">\n",
       "      <th></th>\n",
       "      <th>Job Title</th>\n",
       "      <th>Company</th>\n",
       "      <th>Experience</th>\n",
       "      <th>Location</th>\n",
       "    </tr>\n",
       "  </thead>\n",
       "  <tbody>\n",
       "    <tr>\n",
       "      <th>0</th>\n",
       "      <td>Lead - Data Analyst / Scientist</td>\n",
       "      <td>Axim Technologies</td>\n",
       "      <td>12-14 Yrs</td>\n",
       "      <td>Bangalore/Bengaluru</td>\n",
       "    </tr>\n",
       "    <tr>\n",
       "      <th>1</th>\n",
       "      <td>Senior Data Analyst - Supporting Audits</td>\n",
       "      <td>Visa</td>\n",
       "      <td>5-8 Yrs</td>\n",
       "      <td>Bangalore/Bengaluru</td>\n",
       "    </tr>\n",
       "    <tr>\n",
       "      <th>2</th>\n",
       "      <td>Senior Data Analyst - KPO</td>\n",
       "      <td>Huquo Consulting Pvt. Ltd</td>\n",
       "      <td>7-12 Yrs</td>\n",
       "      <td>Gurgaon/Gurugram, Bangalore/Bengaluru</td>\n",
       "    </tr>\n",
       "    <tr>\n",
       "      <th>3</th>\n",
       "      <td>Data Analyst</td>\n",
       "      <td>Snaphunt</td>\n",
       "      <td>0-2 Yrs</td>\n",
       "      <td>Bangalore/Bengaluru</td>\n",
       "    </tr>\n",
       "    <tr>\n",
       "      <th>4</th>\n",
       "      <td>Financial Data Analyst</td>\n",
       "      <td>Moody's</td>\n",
       "      <td>0-2 Yrs</td>\n",
       "      <td>Bangalore/Bengaluru</td>\n",
       "    </tr>\n",
       "    <tr>\n",
       "      <th>5</th>\n",
       "      <td>Tcs Hiring For Data Analyst / Engineers</td>\n",
       "      <td>TCS</td>\n",
       "      <td>4-9 Yrs</td>\n",
       "      <td>Pune, Bangalore/Bengaluru, Delhi / NCR</td>\n",
       "    </tr>\n",
       "    <tr>\n",
       "      <th>6</th>\n",
       "      <td>Business Data Analyst - Database Design/Mining</td>\n",
       "      <td>AugmatrixGo</td>\n",
       "      <td>2-5 Yrs</td>\n",
       "      <td>Bangalore/Bengaluru</td>\n",
       "    </tr>\n",
       "    <tr>\n",
       "      <th>7</th>\n",
       "      <td>BUSINESS ANALYST -DATA SCIENCE-CONSUMER</td>\n",
       "      <td>BRIDGEi2i Analytics Solutions Private Limited</td>\n",
       "      <td>0-2 Yrs</td>\n",
       "      <td>Bangalore/Bengaluru</td>\n",
       "    </tr>\n",
       "    <tr>\n",
       "      <th>8</th>\n",
       "      <td>Financial Data Analyst</td>\n",
       "      <td>Moody's</td>\n",
       "      <td>0-2 Yrs</td>\n",
       "      <td>Bangalore/Bengaluru</td>\n",
       "    </tr>\n",
       "    <tr>\n",
       "      <th>9</th>\n",
       "      <td>Data Analyst</td>\n",
       "      <td>Jeeva Organic</td>\n",
       "      <td>3-8 Yrs</td>\n",
       "      <td>Bangalore/Bengaluru</td>\n",
       "    </tr>\n",
       "  </tbody>\n",
       "</table>\n",
       "</div>"
      ],
      "text/plain": [
       "                                        Job Title  \\\n",
       "0                 Lead - Data Analyst / Scientist   \n",
       "1         Senior Data Analyst - Supporting Audits   \n",
       "2                       Senior Data Analyst - KPO   \n",
       "3                                    Data Analyst   \n",
       "4                          Financial Data Analyst   \n",
       "5         Tcs Hiring For Data Analyst / Engineers   \n",
       "6  Business Data Analyst - Database Design/Mining   \n",
       "7         BUSINESS ANALYST -DATA SCIENCE-CONSUMER   \n",
       "8                          Financial Data Analyst   \n",
       "9                                    Data Analyst   \n",
       "\n",
       "                                         Company Experience  \\\n",
       "0                              Axim Technologies  12-14 Yrs   \n",
       "1                                           Visa    5-8 Yrs   \n",
       "2                      Huquo Consulting Pvt. Ltd   7-12 Yrs   \n",
       "3                                       Snaphunt    0-2 Yrs   \n",
       "4                                        Moody's    0-2 Yrs   \n",
       "5                                            TCS    4-9 Yrs   \n",
       "6                                    AugmatrixGo    2-5 Yrs   \n",
       "7  BRIDGEi2i Analytics Solutions Private Limited    0-2 Yrs   \n",
       "8                                        Moody's    0-2 Yrs   \n",
       "9                                  Jeeva Organic    3-8 Yrs   \n",
       "\n",
       "                                 Location  \n",
       "0                     Bangalore/Bengaluru  \n",
       "1                     Bangalore/Bengaluru  \n",
       "2   Gurgaon/Gurugram, Bangalore/Bengaluru  \n",
       "3                     Bangalore/Bengaluru  \n",
       "4                     Bangalore/Bengaluru  \n",
       "5  Pune, Bangalore/Bengaluru, Delhi / NCR  \n",
       "6                     Bangalore/Bengaluru  \n",
       "7                     Bangalore/Bengaluru  \n",
       "8                     Bangalore/Bengaluru  \n",
       "9                     Bangalore/Bengaluru  "
      ]
     },
     "execution_count": 30,
     "metadata": {},
     "output_type": "execute_result"
    }
   ],
   "source": [
    "# Create a Data Frame\n",
    "jobs = pd.DataFrame()\n",
    "jobs['Job Title'] = job_titles\n",
    "jobs['Company'] = Comp_names\n",
    "jobs['Experience'] = exps\n",
    "jobs['Location'] = locations\n",
    "jobs[0:10]"
   ]
  },
  {
   "cell_type": "markdown",
   "id": "57e35294",
   "metadata": {},
   "source": [
    "# Q-2. Q2: Write a python program to scrape data for “Data Scientist” Job position in “Bangalore” location. You have to scrape the job-title, job-location, company_name. You have to scrape first 10 jobs data.\n",
    "This task will be done in following steps:\n",
    "    \n",
    "    . First get the webpage https://www.naukri.com/\n",
    "    . Enter “Data Scientist” in “Skill, Designations, Companies” field and enter “Bangalore” in “enter the location” field.\n",
    "    . Then click the search button\n",
    "    . Then scrape the data for the first 10 jobs results you get.\n",
    "    . Finally create a dataframe of the scraped data."
   ]
  },
  {
   "cell_type": "code",
   "execution_count": 42,
   "id": "4f1a1cb5",
   "metadata": {},
   "outputs": [],
   "source": [
    "driver = webdriver.Chrome(r'C:\\Users\\Mukti\\Downloads\\chromedriver_win32\\chromedriver.exe')\n",
    "# Connect the URL\n",
    "url = 'https://www.naukri.com/'\n",
    "driver.get(url)\n",
    "\n",
    "# Finding Web elements for each job bar using id\n",
    "search_job = driver.find_element_by_id(\"qsb-keyword-sugg\")\n",
    "search_job\n",
    "\n",
    "# Write a Search Bar\n",
    "search_job.send_keys(\"Data Scientist\")\n",
    "\n",
    "# Serch Location\n",
    "Serch_location = driver.find_element_by_xpath('/html/body/div[1]/div[3]/div[2]/section/div/form/div[2]/div/div/div/div[1]/div[2]/input')\n",
    "\n",
    "Serch_location.send_keys(\"Bangalore\")\n",
    "\n",
    "# Search Btn\n",
    "search_btn = driver.find_element_by_xpath('/html/body/div[1]/div[3]/div[2]/section/div/form/div[3]/button')\n",
    "search_btn\n",
    "search_btn.click()\n",
    "\n",
    "\n"
   ]
  },
  {
   "cell_type": "code",
   "execution_count": 46,
   "id": "0b27f06c",
   "metadata": {},
   "outputs": [
    {
     "data": {
      "text/plain": [
       "['Lead/Senior Data Scientist (NLP)',\n",
       " 'Commercial Analytics Data Scientist',\n",
       " 'Lead Data Scientist - NLP/OpenCV',\n",
       " 'Lead Data Scientist',\n",
       " 'Lead Data Scientist - Prescriptive Analytics/Predictive Modeling',\n",
       " 'Lead - Data Analyst / Scientist',\n",
       " 'Job opening with Wipro For Data Scientist',\n",
       " 'Data Scientist I',\n",
       " 'Spark ML Data Scientist',\n",
       " 'Azure ML Data Scientist']"
      ]
     },
     "execution_count": 46,
     "metadata": {},
     "output_type": "execute_result"
    }
   ],
   "source": [
    "# job titles\n",
    "title_tags1 = driver.find_elements_by_xpath('//a[@class=\"title fw500 ellipsis\"]')\n",
    "job_titles1 = []\n",
    "\n",
    "for i in title_tags1:\n",
    "    job_titles1.append(i.text)\n",
    "job_titles1[0:10]"
   ]
  },
  {
   "cell_type": "code",
   "execution_count": 47,
   "id": "4fbc371c",
   "metadata": {},
   "outputs": [
    {
     "data": {
      "text/plain": [
       "['Bangalore/Bengaluru\\n(WFH during Covid)',\n",
       " 'Bangalore/Bengaluru',\n",
       " 'Hyderabad/Secunderabad, Bangalore/Bengaluru',\n",
       " 'Bangalore/Bengaluru',\n",
       " 'Hyderabad/Secunderabad, Bangalore/Bengaluru',\n",
       " 'Bangalore/Bengaluru',\n",
       " 'Hyderabad/Secunderabad, Pune, Chennai, Bangalore/Bengaluru',\n",
       " 'Bangalore/Bengaluru',\n",
       " 'Hyderabad/Secunderabad, Pune, Bangalore/Bengaluru',\n",
       " 'Hyderabad/Secunderabad, Bangalore/Bengaluru']"
      ]
     },
     "execution_count": 47,
     "metadata": {},
     "output_type": "execute_result"
    }
   ],
   "source": [
    "# Job_Location\n",
    "loc = driver.find_elements_by_xpath('//li[@class=\"fleft grey-text br2 placeHolderLi location\"]')\n",
    "location = []\n",
    "\n",
    "for i in loc:\n",
    "    location.append(i.text)\n",
    "location[0:10]"
   ]
  },
  {
   "cell_type": "code",
   "execution_count": 48,
   "id": "7bb003b8",
   "metadata": {},
   "outputs": [
    {
     "data": {
      "text/plain": [
       "['Samya.AI A FRACTAL Entity',\n",
       " 'Dell',\n",
       " 'Codersbrain',\n",
       " 'First American',\n",
       " 'Codersbrain',\n",
       " 'Axim Technologies',\n",
       " 'Wipro',\n",
       " 'Delhivery',\n",
       " 'Wipro',\n",
       " 'TCS']"
      ]
     },
     "execution_count": 48,
     "metadata": {},
     "output_type": "execute_result"
    }
   ],
   "source": [
    "\n",
    "# Company Name\n",
    "Comp_name1 = driver.find_elements_by_xpath('//a[@class=\"subTitle ellipsis fleft\"]')\n",
    "Comp_names1 = []\n",
    "\n",
    "for i in Comp_name1:\n",
    "    Comp_names1.append(i.text)\n",
    "Comp_names1[0:10]"
   ]
  },
  {
   "cell_type": "code",
   "execution_count": 49,
   "id": "e5d3024c",
   "metadata": {},
   "outputs": [
    {
     "data": {
      "text/html": [
       "<div>\n",
       "<style scoped>\n",
       "    .dataframe tbody tr th:only-of-type {\n",
       "        vertical-align: middle;\n",
       "    }\n",
       "\n",
       "    .dataframe tbody tr th {\n",
       "        vertical-align: top;\n",
       "    }\n",
       "\n",
       "    .dataframe thead th {\n",
       "        text-align: right;\n",
       "    }\n",
       "</style>\n",
       "<table border=\"1\" class=\"dataframe\">\n",
       "  <thead>\n",
       "    <tr style=\"text-align: right;\">\n",
       "      <th></th>\n",
       "      <th>Job Title</th>\n",
       "      <th>Location</th>\n",
       "      <th>Company</th>\n",
       "    </tr>\n",
       "  </thead>\n",
       "  <tbody>\n",
       "    <tr>\n",
       "      <th>0</th>\n",
       "      <td>Lead/Senior Data Scientist (NLP)</td>\n",
       "      <td>Bangalore/Bengaluru\\n(WFH during Covid)</td>\n",
       "      <td>Samya.AI A FRACTAL Entity</td>\n",
       "    </tr>\n",
       "    <tr>\n",
       "      <th>1</th>\n",
       "      <td>Commercial Analytics Data Scientist</td>\n",
       "      <td>Bangalore/Bengaluru</td>\n",
       "      <td>Dell</td>\n",
       "    </tr>\n",
       "    <tr>\n",
       "      <th>2</th>\n",
       "      <td>Lead Data Scientist - NLP/OpenCV</td>\n",
       "      <td>Hyderabad/Secunderabad, Bangalore/Bengaluru</td>\n",
       "      <td>Codersbrain</td>\n",
       "    </tr>\n",
       "    <tr>\n",
       "      <th>3</th>\n",
       "      <td>Lead Data Scientist</td>\n",
       "      <td>Bangalore/Bengaluru</td>\n",
       "      <td>First American</td>\n",
       "    </tr>\n",
       "    <tr>\n",
       "      <th>4</th>\n",
       "      <td>Lead Data Scientist - Prescriptive Analytics/P...</td>\n",
       "      <td>Hyderabad/Secunderabad, Bangalore/Bengaluru</td>\n",
       "      <td>Codersbrain</td>\n",
       "    </tr>\n",
       "    <tr>\n",
       "      <th>5</th>\n",
       "      <td>Lead - Data Analyst / Scientist</td>\n",
       "      <td>Bangalore/Bengaluru</td>\n",
       "      <td>Axim Technologies</td>\n",
       "    </tr>\n",
       "    <tr>\n",
       "      <th>6</th>\n",
       "      <td>Job opening with Wipro For Data Scientist</td>\n",
       "      <td>Hyderabad/Secunderabad, Pune, Chennai, Bangalo...</td>\n",
       "      <td>Wipro</td>\n",
       "    </tr>\n",
       "    <tr>\n",
       "      <th>7</th>\n",
       "      <td>Data Scientist I</td>\n",
       "      <td>Bangalore/Bengaluru</td>\n",
       "      <td>Delhivery</td>\n",
       "    </tr>\n",
       "    <tr>\n",
       "      <th>8</th>\n",
       "      <td>Spark ML Data Scientist</td>\n",
       "      <td>Hyderabad/Secunderabad, Pune, Bangalore/Bengaluru</td>\n",
       "      <td>Wipro</td>\n",
       "    </tr>\n",
       "    <tr>\n",
       "      <th>9</th>\n",
       "      <td>Azure ML Data Scientist</td>\n",
       "      <td>Hyderabad/Secunderabad, Bangalore/Bengaluru</td>\n",
       "      <td>TCS</td>\n",
       "    </tr>\n",
       "  </tbody>\n",
       "</table>\n",
       "</div>"
      ],
      "text/plain": [
       "                                           Job Title  \\\n",
       "0                   Lead/Senior Data Scientist (NLP)   \n",
       "1                Commercial Analytics Data Scientist   \n",
       "2                   Lead Data Scientist - NLP/OpenCV   \n",
       "3                                Lead Data Scientist   \n",
       "4  Lead Data Scientist - Prescriptive Analytics/P...   \n",
       "5                    Lead - Data Analyst / Scientist   \n",
       "6          Job opening with Wipro For Data Scientist   \n",
       "7                                   Data Scientist I   \n",
       "8                            Spark ML Data Scientist   \n",
       "9                            Azure ML Data Scientist   \n",
       "\n",
       "                                            Location  \\\n",
       "0            Bangalore/Bengaluru\\n(WFH during Covid)   \n",
       "1                                Bangalore/Bengaluru   \n",
       "2        Hyderabad/Secunderabad, Bangalore/Bengaluru   \n",
       "3                                Bangalore/Bengaluru   \n",
       "4        Hyderabad/Secunderabad, Bangalore/Bengaluru   \n",
       "5                                Bangalore/Bengaluru   \n",
       "6  Hyderabad/Secunderabad, Pune, Chennai, Bangalo...   \n",
       "7                                Bangalore/Bengaluru   \n",
       "8  Hyderabad/Secunderabad, Pune, Bangalore/Bengaluru   \n",
       "9        Hyderabad/Secunderabad, Bangalore/Bengaluru   \n",
       "\n",
       "                     Company  \n",
       "0  Samya.AI A FRACTAL Entity  \n",
       "1                       Dell  \n",
       "2                Codersbrain  \n",
       "3             First American  \n",
       "4                Codersbrain  \n",
       "5          Axim Technologies  \n",
       "6                      Wipro  \n",
       "7                  Delhivery  \n",
       "8                      Wipro  \n",
       "9                        TCS  "
      ]
     },
     "execution_count": 49,
     "metadata": {},
     "output_type": "execute_result"
    }
   ],
   "source": [
    "# Create a Data Frame\n",
    "jobs = pd.DataFrame()\n",
    "jobs['Job Title'] = job_titles1\n",
    "jobs['Location'] = location\n",
    "jobs['Company'] = Comp_names1\n",
    "jobs[0:10]"
   ]
  },
  {
   "cell_type": "markdown",
   "id": "82bba577",
   "metadata": {},
   "source": [
    "# Q.3. In this question you have to scrape data using the filters available on the webpage as shown below:\n",
    " - You have to use the location and salary filter.\n",
    " - You have to scrape data for “Data Scientist” designation for first 10 job results.\n",
    " - You have to scrape the job-title, job-location, company name, experience required.\n",
    " -The location filter to be used is “Delhi/NCR”. The salary filter to be used is “3-6” lakhs"
   ]
  },
  {
   "cell_type": "code",
   "execution_count": 82,
   "id": "4f2075b7",
   "metadata": {},
   "outputs": [],
   "source": [
    "driver = webdriver.Chrome(r'C:\\Users\\Mukti\\Downloads\\chromedriver_win32\\chromedriver.exe')\n",
    "# Connect the URL\n",
    "url = 'https://www.naukri.com/'\n",
    "driver.get(url)\n",
    "\n",
    "# Finding Web elements for each job bar using id\n",
    "search_job = driver.find_element_by_id(\"qsb-keyword-sugg\")\n",
    "search_job\n",
    "\n",
    "# Write a Search Bar\n",
    "search_job.send_keys(\"Data Scientist\")\n",
    "\n",
    "# Search Btn\n",
    "search_btn = driver.find_element_by_xpath('/html/body/div[1]/div[3]/div[2]/section/div/form/div[3]/button')\n",
    "search_btn\n",
    "search_btn.click()"
   ]
  },
  {
   "cell_type": "code",
   "execution_count": 69,
   "id": "71d77acb",
   "metadata": {},
   "outputs": [],
   "source": [
    "# Serch Location\n",
    "Serch_location = driver.find_element_by_xpath('/html/body/div[1]/div[3]/div[2]/section[1]/div[2]/div[3]/div[2]/div[3]/label/i')\n",
    "\n",
    "Serch_location.click()"
   ]
  },
  {
   "cell_type": "code",
   "execution_count": 70,
   "id": "23560d51",
   "metadata": {},
   "outputs": [],
   "source": [
    "salary_check = driver.find_element_by_xpath('/html/body/div[1]/div[3]/div[2]/section[1]/div[2]/div[4]/div[2]/div[2]/label/i')\n",
    "salary_check\n",
    "\n",
    "salary_check.click()"
   ]
  },
  {
   "cell_type": "code",
   "execution_count": 73,
   "id": "22090c18",
   "metadata": {},
   "outputs": [
    {
     "data": {
      "text/plain": [
       "['Data Science Intern',\n",
       " 'Data Science - Intern',\n",
       " 'Data Science Interns',\n",
       " 'Data Science : Analyst - Manager',\n",
       " 'Data insight intern',\n",
       " 'Data Evangelist ( Trainee / Interns)',\n",
       " 'Senior Data Scientist I',\n",
       " 'Data Scientist Internship',\n",
       " 'Data Scientist | Python | Machine Learning | Deep Learning- Fresher',\n",
       " 'Data Analyst / Data Scientist / Business Analytics / Fresher - MNC']"
      ]
     },
     "execution_count": 73,
     "metadata": {},
     "output_type": "execute_result"
    }
   ],
   "source": [
    "# job titles\n",
    "Title = driver.find_elements_by_xpath('//a[@class=\"title fw500 ellipsis\"]')\n",
    "Titles = []\n",
    "\n",
    "for i in Title:\n",
    "    Titles.append(i.text)\n",
    "Titles[0:10]"
   ]
  },
  {
   "cell_type": "code",
   "execution_count": 76,
   "id": "2148796d",
   "metadata": {},
   "outputs": [
    {
     "data": {
      "text/plain": [
       "['Noida, Bengaluru',\n",
       " 'Noida',\n",
       " 'Delhi',\n",
       " 'Gurgaon/Gurugram',\n",
       " 'Gurgaon/Gurugram',\n",
       " 'Gurgaon',\n",
       " 'Gurgaon/Gurugram',\n",
       " 'New Delhi',\n",
       " 'Noida, Gurgaon/Gurugram, Delhi / NCR',\n",
       " 'Noida, New Delhi, Delhi / NCR']"
      ]
     },
     "execution_count": 76,
     "metadata": {},
     "output_type": "execute_result"
    }
   ],
   "source": [
    "# Location\n",
    "loc = driver.find_elements_by_xpath('//li[@class=\"fleft grey-text br2 placeHolderLi location\"]')\n",
    "location = []\n",
    "\n",
    "for i in loc:\n",
    "    location.append(i.text)\n",
    "location[0:10]"
   ]
  },
  {
   "cell_type": "code",
   "execution_count": 72,
   "id": "0a21ae00",
   "metadata": {},
   "outputs": [
    {
     "data": {
      "text/plain": [
       "['DataTrained',\n",
       " 'Mindworksglobal',\n",
       " 'SiCureMi Healthcare Technologies',\n",
       " 'Aye Finance (P) Ltd',\n",
       " 'KocharTech',\n",
       " 'Right Step Consulting',\n",
       " 'Delhivery',\n",
       " 'iHackers Inc',\n",
       " 'Schlesinger Group',\n",
       " 'GABA Consultancy services']"
      ]
     },
     "execution_count": 72,
     "metadata": {},
     "output_type": "execute_result"
    }
   ],
   "source": [
    "# Company Name\n",
    "Comp = driver.find_elements_by_xpath('//a[@class=\"subTitle ellipsis fleft\"]')\n",
    "C_names = []\n",
    "\n",
    "for i in Comp:\n",
    "    C_names.append(i.text)\n",
    "C_names[0:10]"
   ]
  },
  {
   "cell_type": "code",
   "execution_count": 77,
   "id": "bb9798f3",
   "metadata": {},
   "outputs": [
    {
     "data": {
      "text/plain": [
       "['0-2 Yrs',\n",
       " '0-0 Yrs',\n",
       " '3-4 Yrs',\n",
       " '0-3 Yrs',\n",
       " '0-1 Yrs',\n",
       " '0-1 Yrs',\n",
       " '3-7 Yrs',\n",
       " '0-1 Yrs',\n",
       " '0-3 Yrs',\n",
       " '0-0 Yrs']"
      ]
     },
     "execution_count": 77,
     "metadata": {},
     "output_type": "execute_result"
    }
   ],
   "source": [
    "# Experience\n",
    "experience = driver.find_elements_by_xpath('//li[@class=\"fleft grey-text br2 placeHolderLi experience\"]')\n",
    "exps = []\n",
    "\n",
    "for i in experience:\n",
    "    exps.append(i.text)\n",
    "exps[0:10]"
   ]
  },
  {
   "cell_type": "code",
   "execution_count": 78,
   "id": "207c5ff7",
   "metadata": {},
   "outputs": [
    {
     "data": {
      "text/plain": [
       "['Not disclosed',\n",
       " 'Not disclosed',\n",
       " 'Not disclosed',\n",
       " 'Not disclosed',\n",
       " 'Not disclosed',\n",
       " 'Not disclosed',\n",
       " 'Not disclosed',\n",
       " 'Not disclosed',\n",
       " 'Not disclosed',\n",
       " '2,25,000 - 4,75,000 PA.']"
      ]
     },
     "execution_count": 78,
     "metadata": {},
     "output_type": "execute_result"
    }
   ],
   "source": [
    "# Salary\n",
    "Sal = driver.find_elements_by_xpath('//li[@class=\"fleft grey-text br2 placeHolderLi salary\"]')\n",
    "Salary = []\n",
    "\n",
    "for i in Sal:\n",
    "    Salary.append(i.text)\n",
    "Salary[0:10]"
   ]
  },
  {
   "cell_type": "code",
   "execution_count": 83,
   "id": "537e822f",
   "metadata": {},
   "outputs": [
    {
     "data": {
      "text/html": [
       "<div>\n",
       "<style scoped>\n",
       "    .dataframe tbody tr th:only-of-type {\n",
       "        vertical-align: middle;\n",
       "    }\n",
       "\n",
       "    .dataframe tbody tr th {\n",
       "        vertical-align: top;\n",
       "    }\n",
       "\n",
       "    .dataframe thead th {\n",
       "        text-align: right;\n",
       "    }\n",
       "</style>\n",
       "<table border=\"1\" class=\"dataframe\">\n",
       "  <thead>\n",
       "    <tr style=\"text-align: right;\">\n",
       "      <th></th>\n",
       "      <th>Job Title</th>\n",
       "      <th>Location</th>\n",
       "      <th>Company</th>\n",
       "      <th>Experience</th>\n",
       "      <th>Salary</th>\n",
       "    </tr>\n",
       "  </thead>\n",
       "  <tbody>\n",
       "    <tr>\n",
       "      <th>0</th>\n",
       "      <td>Data Science Intern</td>\n",
       "      <td>Noida, Bengaluru</td>\n",
       "      <td>DataTrained</td>\n",
       "      <td>0-2 Yrs</td>\n",
       "      <td>Not disclosed</td>\n",
       "    </tr>\n",
       "    <tr>\n",
       "      <th>1</th>\n",
       "      <td>Data Science - Intern</td>\n",
       "      <td>Noida</td>\n",
       "      <td>Mindworksglobal</td>\n",
       "      <td>0-0 Yrs</td>\n",
       "      <td>Not disclosed</td>\n",
       "    </tr>\n",
       "    <tr>\n",
       "      <th>2</th>\n",
       "      <td>Data Science Interns</td>\n",
       "      <td>Delhi</td>\n",
       "      <td>SiCureMi Healthcare Technologies</td>\n",
       "      <td>3-4 Yrs</td>\n",
       "      <td>Not disclosed</td>\n",
       "    </tr>\n",
       "    <tr>\n",
       "      <th>3</th>\n",
       "      <td>Data Science : Analyst - Manager</td>\n",
       "      <td>Gurgaon/Gurugram</td>\n",
       "      <td>Aye Finance (P) Ltd</td>\n",
       "      <td>0-3 Yrs</td>\n",
       "      <td>Not disclosed</td>\n",
       "    </tr>\n",
       "    <tr>\n",
       "      <th>4</th>\n",
       "      <td>Data insight intern</td>\n",
       "      <td>Gurgaon/Gurugram</td>\n",
       "      <td>KocharTech</td>\n",
       "      <td>0-1 Yrs</td>\n",
       "      <td>Not disclosed</td>\n",
       "    </tr>\n",
       "    <tr>\n",
       "      <th>5</th>\n",
       "      <td>Data Evangelist ( Trainee / Interns)</td>\n",
       "      <td>Gurgaon</td>\n",
       "      <td>Right Step Consulting</td>\n",
       "      <td>0-1 Yrs</td>\n",
       "      <td>Not disclosed</td>\n",
       "    </tr>\n",
       "    <tr>\n",
       "      <th>6</th>\n",
       "      <td>Senior Data Scientist I</td>\n",
       "      <td>Gurgaon/Gurugram</td>\n",
       "      <td>Delhivery</td>\n",
       "      <td>3-7 Yrs</td>\n",
       "      <td>Not disclosed</td>\n",
       "    </tr>\n",
       "    <tr>\n",
       "      <th>7</th>\n",
       "      <td>Data Scientist Internship</td>\n",
       "      <td>New Delhi</td>\n",
       "      <td>iHackers Inc</td>\n",
       "      <td>0-1 Yrs</td>\n",
       "      <td>Not disclosed</td>\n",
       "    </tr>\n",
       "    <tr>\n",
       "      <th>8</th>\n",
       "      <td>Data Scientist | Python | Machine Learning | D...</td>\n",
       "      <td>Noida, Gurgaon/Gurugram, Delhi / NCR</td>\n",
       "      <td>Schlesinger Group</td>\n",
       "      <td>0-3 Yrs</td>\n",
       "      <td>Not disclosed</td>\n",
       "    </tr>\n",
       "    <tr>\n",
       "      <th>9</th>\n",
       "      <td>Data Analyst / Data Scientist / Business Analy...</td>\n",
       "      <td>Noida, New Delhi, Delhi / NCR</td>\n",
       "      <td>GABA Consultancy services</td>\n",
       "      <td>0-0 Yrs</td>\n",
       "      <td>2,25,000 - 4,75,000 PA.</td>\n",
       "    </tr>\n",
       "  </tbody>\n",
       "</table>\n",
       "</div>"
      ],
      "text/plain": [
       "                                           Job Title  \\\n",
       "0                                Data Science Intern   \n",
       "1                              Data Science - Intern   \n",
       "2                               Data Science Interns   \n",
       "3                   Data Science : Analyst - Manager   \n",
       "4                                Data insight intern   \n",
       "5               Data Evangelist ( Trainee / Interns)   \n",
       "6                            Senior Data Scientist I   \n",
       "7                          Data Scientist Internship   \n",
       "8  Data Scientist | Python | Machine Learning | D...   \n",
       "9  Data Analyst / Data Scientist / Business Analy...   \n",
       "\n",
       "                               Location                           Company  \\\n",
       "0                      Noida, Bengaluru                       DataTrained   \n",
       "1                                 Noida                   Mindworksglobal   \n",
       "2                                 Delhi  SiCureMi Healthcare Technologies   \n",
       "3                      Gurgaon/Gurugram               Aye Finance (P) Ltd   \n",
       "4                      Gurgaon/Gurugram                        KocharTech   \n",
       "5                               Gurgaon             Right Step Consulting   \n",
       "6                      Gurgaon/Gurugram                         Delhivery   \n",
       "7                             New Delhi                      iHackers Inc   \n",
       "8  Noida, Gurgaon/Gurugram, Delhi / NCR                 Schlesinger Group   \n",
       "9         Noida, New Delhi, Delhi / NCR         GABA Consultancy services   \n",
       "\n",
       "  Experience                   Salary  \n",
       "0    0-2 Yrs            Not disclosed  \n",
       "1    0-0 Yrs            Not disclosed  \n",
       "2    3-4 Yrs            Not disclosed  \n",
       "3    0-3 Yrs            Not disclosed  \n",
       "4    0-1 Yrs            Not disclosed  \n",
       "5    0-1 Yrs            Not disclosed  \n",
       "6    3-7 Yrs            Not disclosed  \n",
       "7    0-1 Yrs            Not disclosed  \n",
       "8    0-3 Yrs            Not disclosed  \n",
       "9    0-0 Yrs  2,25,000 - 4,75,000 PA.  "
      ]
     },
     "execution_count": 83,
     "metadata": {},
     "output_type": "execute_result"
    }
   ],
   "source": [
    "# Create a Data Frame\n",
    "Jobs = pd.DataFrame()\n",
    "Jobs['Job Title'] = Titles\n",
    "Jobs['Location'] = location\n",
    "Jobs['Company'] = C_names\n",
    "Jobs['Experience'] = exps\n",
    "Jobs['Salary'] = Salary\n",
    "Jobs[0:10]"
   ]
  },
  {
   "cell_type": "markdown",
   "id": "c12beb9f",
   "metadata": {},
   "source": [
    "# Q.N-4 Scrape data of first 100 sunglasses listings on flipkart.com. You have to scrape four attributes\n",
    "- 1-Brand\n",
    "- 2-Product Description\n",
    "- 3-Price\n"
   ]
  },
  {
   "cell_type": "code",
   "execution_count": 219,
   "id": "e1e01951",
   "metadata": {},
   "outputs": [],
   "source": [
    "driver = webdriver.Chrome(r'C:\\Users\\Mukti\\Downloads\\chromedriver_win32\\chromedriver.exe')\n",
    "# Connect the URL\n",
    "url = 'https://www.flipkart.com/'\n",
    "driver.get(url)\n"
   ]
  },
  {
   "cell_type": "code",
   "execution_count": 220,
   "id": "de70030c",
   "metadata": {},
   "outputs": [
    {
     "data": {
      "text/plain": [
       "<selenium.webdriver.remote.webelement.WebElement (session=\"6dddcbbf3b6520042328137d6cc3020f\", element=\"4ef6116c-b42f-435e-ab59-11b07d6318b8\")>"
      ]
     },
     "execution_count": 220,
     "metadata": {},
     "output_type": "execute_result"
    }
   ],
   "source": [
    "# Finding Web elements for each job bar using id\n",
    "search_prod = driver.find_element_by_class_name(\"_3704LK\")\n",
    "search_prod\n"
   ]
  },
  {
   "cell_type": "code",
   "execution_count": 221,
   "id": "7eb5dabd",
   "metadata": {},
   "outputs": [],
   "source": [
    "# Write a Search Bar\n",
    "search_prod.send_keys(\"sunglasses\")"
   ]
  },
  {
   "cell_type": "code",
   "execution_count": 223,
   "id": "63e4e1b7",
   "metadata": {},
   "outputs": [],
   "source": [
    "# Search_btn\n",
    "search_btn = driver.find_element_by_class_name('_34RNph')\n",
    "search_btn\n",
    "search_btn.click()"
   ]
  },
  {
   "cell_type": "code",
   "execution_count": 224,
   "id": "646a11e5",
   "metadata": {},
   "outputs": [
    {
     "data": {
      "text/plain": [
       "['VINCENT CHASE',\n",
       " 'VINCENT CHASE',\n",
       " 'Fastrack',\n",
       " 'kingsunglasses',\n",
       " 'SRPM',\n",
       " 'Elligator',\n",
       " 'ROZZETTA CRAFT',\n",
       " 'VILLAIN',\n",
       " 'SHAAH COLLECTIONS',\n",
       " 'PIRASO',\n",
       " 'New Specs',\n",
       " 'ROZZETTA CRAFT',\n",
       " 'Fastrack',\n",
       " 'SUNBEE',\n",
       " 'PIRASO',\n",
       " 'VINCENT CHASE',\n",
       " 'New Specs',\n",
       " 'kingsunglasses',\n",
       " 'ROZZETTA CRAFT',\n",
       " 'ROZZETTA CRAFT',\n",
       " 'Fastrack',\n",
       " 'PIRASO',\n",
       " 'PHENOMENAL',\n",
       " 'ROZZETTA CRAFT',\n",
       " 'Johaena',\n",
       " 'ROYAL SON',\n",
       " 'SHAAH COLLECTIONS',\n",
       " 'AISLIN',\n",
       " 'Fastrack',\n",
       " 'ROYAL SON',\n",
       " 'ROYAL SON',\n",
       " 'ROYAL SON',\n",
       " 'PIRASO',\n",
       " 'kingsunglasses',\n",
       " 'ROZZETTA CRAFT',\n",
       " 'VINCENT CHASE',\n",
       " 'agera',\n",
       " 'Rich Club',\n",
       " 'PIRASO',\n",
       " 'ROYAL SON']"
      ]
     },
     "execution_count": 224,
     "metadata": {},
     "output_type": "execute_result"
    }
   ],
   "source": [
    "# Brand\n",
    "Brand = driver.find_elements_by_class_name(\"_2WkVRV\")\n",
    "Brands = []\n",
    "\n",
    "for i in Brand:\n",
    "    Brands.append(i.text)\n",
    "Brands[0:40]"
   ]
  },
  {
   "cell_type": "raw",
   "id": "8f3488a6",
   "metadata": {},
   "source": [
    "Next_page_btn = driver.find_element_by_xpath(\"/html/body/div[1]/div/div[3]/div[1]/div[2]/div[12]/div/div/nav/a[2]\")\n",
    "Next_page_btn\n",
    "Next_page_btn.click()"
   ]
  },
  {
   "cell_type": "code",
   "execution_count": 225,
   "id": "c0eff731",
   "metadata": {},
   "outputs": [
    {
     "data": {
      "text/plain": [
       "['VINCENT CHASE',\n",
       " 'VINCENT CHASE',\n",
       " 'Fastrack',\n",
       " 'kingsunglasses',\n",
       " 'SRPM',\n",
       " 'Elligator',\n",
       " 'ROZZETTA CRAFT',\n",
       " 'VILLAIN',\n",
       " 'SHAAH COLLECTIONS',\n",
       " 'PIRASO',\n",
       " 'New Specs',\n",
       " 'ROZZETTA CRAFT',\n",
       " 'Fastrack',\n",
       " 'SUNBEE',\n",
       " 'PIRASO',\n",
       " 'VINCENT CHASE',\n",
       " 'New Specs',\n",
       " 'kingsunglasses',\n",
       " 'ROZZETTA CRAFT',\n",
       " 'ROZZETTA CRAFT',\n",
       " 'Fastrack',\n",
       " 'PIRASO',\n",
       " 'PHENOMENAL',\n",
       " 'ROZZETTA CRAFT',\n",
       " 'Johaena',\n",
       " 'ROYAL SON',\n",
       " 'SHAAH COLLECTIONS',\n",
       " 'AISLIN',\n",
       " 'Fastrack',\n",
       " 'ROYAL SON',\n",
       " 'ROYAL SON',\n",
       " 'ROYAL SON',\n",
       " 'PIRASO',\n",
       " 'kingsunglasses',\n",
       " 'ROZZETTA CRAFT',\n",
       " 'VINCENT CHASE',\n",
       " 'agera',\n",
       " 'Rich Club',\n",
       " 'PIRASO',\n",
       " 'ROYAL SON']"
      ]
     },
     "execution_count": 225,
     "metadata": {},
     "output_type": "execute_result"
    }
   ],
   "source": [
    "Brand = driver.find_elements_by_class_name(\"_2WkVRV\")\n",
    "Brands = []\n",
    "\n",
    "for i in Brand:\n",
    "    Brands.append(i.text)\n",
    "Brands[0:40]"
   ]
  },
  {
   "cell_type": "code",
   "execution_count": 226,
   "id": "834bd375",
   "metadata": {},
   "outputs": [],
   "source": [
    "Next_page_btn = driver.find_element_by_xpath(\"/html/body/div[1]/div/div[3]/div[1]/div[2]/div[12]/div/div/nav/a[4]\")\n",
    "Next_page_btn\n",
    "Next_page_btn.click()"
   ]
  },
  {
   "cell_type": "code",
   "execution_count": 227,
   "id": "c3353d29",
   "metadata": {},
   "outputs": [
    {
     "data": {
      "text/plain": [
       "['Rich Club',\n",
       " 'PHENOMENAL',\n",
       " 'Badfella',\n",
       " 'ROZZETTA CRAFT',\n",
       " 'IDEE',\n",
       " 'hipe',\n",
       " 'Singco India',\n",
       " 'ROZZETTA CRAFT',\n",
       " 'Fastrack',\n",
       " 'Silver Kartz',\n",
       " 'Urbanic',\n",
       " 'ROYAL SON',\n",
       " 'Elligator',\n",
       " 'IDEE',\n",
       " 'ROYAL SON',\n",
       " 'Anemone',\n",
       " 'SUNBEE',\n",
       " 'kingsunglasses',\n",
       " 'AISLIN',\n",
       " 'ROZZETTA CRAFT']"
      ]
     },
     "execution_count": 227,
     "metadata": {},
     "output_type": "execute_result"
    }
   ],
   "source": [
    "Brand = driver.find_elements_by_class_name(\"_2WkVRV\")\n",
    "Brands = []\n",
    "\n",
    "for i in Brand:\n",
    "    Brands.append(i.text)\n",
    "Brands[0:20]"
   ]
  },
  {
   "cell_type": "code",
   "execution_count": 228,
   "id": "90d3b09b",
   "metadata": {},
   "outputs": [
    {
     "data": {
      "text/plain": [
       "['UV Protection Round Sunglasses (50)',\n",
       " 'UV Protection Clubmaster Sunglasses (Free Size)',\n",
       " 'Polarized, UV Protection Retro Square Sunglasses (53)',\n",
       " 'Gradient, UV Protection Round Sunglasses (Free Size)',\n",
       " 'UV Protection Wayfarer Sunglasses (55)',\n",
       " 'UV Protection, Gradient, Mirrored, Riding Glasses, Nigh...',\n",
       " 'Gradient, Toughened Glass Lens, UV Protection Retro Squ...',\n",
       " 'Polarized, Night Vision, Riding Glasses Sports, Wrap-ar...',\n",
       " 'UV Protection Wayfarer Sunglasses (Free Size)',\n",
       " 'UV Protection Aviator Sunglasses (88)',\n",
       " 'Others Retro Square Sunglasses (Free Size)',\n",
       " 'UV Protection Cat-eye Sunglasses (55)',\n",
       " 'UV Protection Round, Oval Sunglasses (54)',\n",
       " 'Mirrored, UV Protection Aviator Sunglasses (18)',\n",
       " 'UV Protection Retro Square Sunglasses (58)',\n",
       " 'UV Protection, Gradient Rectangular, Spectacle Sunglas...',\n",
       " 'UV Protection, Polarized, Mirrored Retro Square Sunglas...',\n",
       " 'UV Protection, Mirrored Round Sunglasses (54)',\n",
       " 'UV Protection, Gradient Cat-eye, Oval Sunglasses (61)',\n",
       " 'UV Protection, Gradient Rectangular Sunglasses (Free Si...',\n",
       " 'Mirrored Aviator Sunglasses (58)',\n",
       " 'UV Protection, Night Vision, Riding Glasses, Gradient, ...',\n",
       " 'Riding Glasses, UV Protection Oval Sunglasses (52)',\n",
       " 'Toughened Glass Lens, UV Protection Aviator Sunglasses ...',\n",
       " 'UV Protection Wayfarer Sunglasses (Free Size)',\n",
       " 'Mirrored, UV Protection Wayfarer Sunglasses (Free Size)',\n",
       " 'UV Protection Shield Sunglasses (Free Size)',\n",
       " 'UV Protection Retro Square Sunglasses (88)',\n",
       " 'UV Protection Retro Square Sunglasses (Free Size)',\n",
       " 'Mirrored Aviator Sunglasses (32)',\n",
       " 'UV Protection, Gradient Butterfly, Shield Sunglasses (6...',\n",
       " 'Polarized, UV Protection Retro Square Sunglasses (55)',\n",
       " 'Gradient, UV Protection Wayfarer Sunglasses (50)',\n",
       " 'UV Protection Wayfarer Sunglasses (Free Size)',\n",
       " 'Polarized Aviator Sunglasses (58)',\n",
       " 'UV Protection, Gradient Cat-eye Sunglasses (61)',\n",
       " 'UV Protection, Mirrored Round Sunglasses (Free Size)',\n",
       " 'UV Protection Wayfarer Sunglasses (Free Size)',\n",
       " 'UV Protection Round Sunglasses (52)',\n",
       " 'Polarized, UV Protection Cat-eye Sunglasses (55)']"
      ]
     },
     "execution_count": 228,
     "metadata": {},
     "output_type": "execute_result"
    }
   ],
   "source": [
    "Prod_Des = driver.find_elements_by_class_name(\"IRpwTa\")\n",
    "Prod_Desc = []\n",
    "\n",
    "for i in Prod_Des:\n",
    "    Prod_Desc.append(i.text)\n",
    "Prod_Desc[0:40]"
   ]
  },
  {
   "cell_type": "code",
   "execution_count": 229,
   "id": "bf216ac8",
   "metadata": {},
   "outputs": [],
   "source": [
    "Next_page_btn = driver.find_element_by_xpath(\"/html/body/div[1]/div/div[3]/div[1]/div[2]/div[12]/div/div/nav/a[2]\")\n",
    "Next_page_btn\n",
    "Next_page_btn.click()"
   ]
  },
  {
   "cell_type": "code",
   "execution_count": 230,
   "id": "942a0da6",
   "metadata": {},
   "outputs": [
    {
     "data": {
      "text/plain": [
       "['by Lenskart UV Protection Aviator Sunglasses (53)',\n",
       " 'by Lenskart UV Protection Aviator Sunglasses (Free Size...',\n",
       " 'UV Protection Wayfarer Sunglasses (Free Size)',\n",
       " 'UV Protection Round Sunglasses (54)',\n",
       " 'UV Protection Wayfarer Sunglasses (56)',\n",
       " 'UV Protection Round Sunglasses (54)',\n",
       " 'UV Protection, Gradient Rectangular Sunglasses (Free Si...',\n",
       " 'by Lenskart Polarized, UV Protection Aviator Sunglasses...',\n",
       " 'UV Protection, Polarized, Mirrored Rectangular Sunglass...',\n",
       " 'UV Protection Aviator Sunglasses (54)',\n",
       " 'UV Protection Rectangular Sunglasses (Free Size)',\n",
       " 'UV Protection, Gradient Retro Square Sunglasses (Free S...',\n",
       " 'UV Protection Aviator Sunglasses (58)',\n",
       " 'UV Protection, Polarized, Mirrored Round Sunglasses (Fr...',\n",
       " 'UV Protection Aviator Sunglasses (54)',\n",
       " 'UV Protection, Gradient Round Sunglasses (Free Size)',\n",
       " 'Mirrored, UV Protection, Riding Glasses, Others Round S...',\n",
       " 'UV Protection, Riding Glasses, Mirrored Wayfarer Sungla...',\n",
       " 'UV Protection, Gradient Rectangular Sunglasses (Free Si...',\n",
       " 'Gradient Round Sunglasses (Free Size)',\n",
       " 'UV Protection Aviator Sunglasses (Free Size)',\n",
       " 'UV Protection Wayfarer Sunglasses (32)',\n",
       " 'UV Protection Retro Square Sunglasses (Free Size)',\n",
       " 'UV Protection Retro Square Sunglasses (88)',\n",
       " 'Riding Glasses, UV Protection Oval Sunglasses (48)',\n",
       " 'UV Protection Rectangular Sunglasses (58)',\n",
       " 'UV Protection, Polarized, Mirrored Rectangular Sunglass...',\n",
       " 'by Lenskart Polarized, UV Protection Aviator Sunglasses...',\n",
       " 'UV Protection Shield Sunglasses (Free Size)',\n",
       " 'Mirrored Aviator Sunglasses (55)',\n",
       " 'Mirrored Aviator Sunglasses (55)',\n",
       " 'by Lenskart Polarized, UV Protection Wayfarer Sunglasse...',\n",
       " 'UV Protection Aviator Sunglasses (54)',\n",
       " 'Mirrored, UV Protection Wayfarer Sunglasses (53)',\n",
       " 'UV Protection Retro Square Sunglasses (Free Size)',\n",
       " 'by Lenskart UV Protection Aviator Sunglasses (53)',\n",
       " 'Gradient Aviator Sunglasses (55)',\n",
       " 'Polarized Round Sunglasses (48)',\n",
       " 'UV Protection Aviator Sunglasses (58)',\n",
       " 'UV Protection Retro Square Sunglasses (49)']"
      ]
     },
     "execution_count": 230,
     "metadata": {},
     "output_type": "execute_result"
    }
   ],
   "source": [
    "Prod_Des = driver.find_elements_by_class_name(\"IRpwTa\")\n",
    "Prod_Desc = []\n",
    "\n",
    "for i in Prod_Des:\n",
    "    Prod_Desc.append(i.text)\n",
    "Prod_Desc[0:40]"
   ]
  },
  {
   "cell_type": "code",
   "execution_count": 231,
   "id": "5345e7a8",
   "metadata": {},
   "outputs": [],
   "source": [
    "Next_page_btn = driver.find_element_by_xpath(\"/html/body/div[1]/div/div[3]/div[1]/div[2]/div[12]/div/div/nav/a[4]\")\n",
    "Next_page_btn\n",
    "Next_page_btn.click()"
   ]
  },
  {
   "cell_type": "code",
   "execution_count": 232,
   "id": "2d23244a",
   "metadata": {},
   "outputs": [
    {
     "data": {
      "text/plain": [
       "['Mirrored, UV Protection Wayfarer Sunglasses (18)',\n",
       " 'Mirrored, Gradient, Riding Glasses Round Sunglasses (55...',\n",
       " 'UV Protection, Mirrored Wayfarer Sunglasses (53)',\n",
       " 'Gradient, UV Protection Round Sunglasses (Free Size)',\n",
       " 'Gradient, Toughened Glass Lens, UV Protection Retro Squ...',\n",
       " 'UV Protection, Gradient, Mirrored, Riding Glasses, Nigh...',\n",
       " 'UV Protection Wayfarer Sunglasses (55)',\n",
       " 'UV Protection, Gradient Round Sunglasses (58)',\n",
       " 'Mirrored Aviator Sunglasses (58)',\n",
       " 'UV Protection Aviator Sunglasses (88)',\n",
       " 'UV Protection Wayfarer Sunglasses (Free Size)',\n",
       " 'Polarized, Night Vision, Riding Glasses Sports, Wrap-ar...',\n",
       " 'UV Protection Round Sunglasses (50)',\n",
       " 'Polarized Rectangular Sunglasses (59)',\n",
       " 'UV Protection, Mirrored Round Sunglasses (54)',\n",
       " 'UV Protection Cat-eye Sunglasses (55)',\n",
       " 'UV Protection, Gradient Cat-eye, Oval Sunglasses (61)',\n",
       " 'UV Protection Rectangular Sunglasses (59)',\n",
       " 'Others Retro Square Sunglasses (Free Size)',\n",
       " 'UV Protection, Gradient Rectangular, Spectacle Sunglas...']"
      ]
     },
     "execution_count": 232,
     "metadata": {},
     "output_type": "execute_result"
    }
   ],
   "source": [
    "Prod_Des = driver.find_elements_by_class_name(\"IRpwTa\")\n",
    "Prod_Desc = []\n",
    "\n",
    "for i in Prod_Des:\n",
    "    Prod_Desc.append(i.text)\n",
    "Prod_Desc[0:20]"
   ]
  },
  {
   "cell_type": "code",
   "execution_count": 233,
   "id": "021605db",
   "metadata": {},
   "outputs": [
    {
     "data": {
      "text/plain": [
       "['₹1,139',\n",
       " '₹189',\n",
       " '₹196',\n",
       " '₹426',\n",
       " '₹599',\n",
       " '₹189',\n",
       " '₹1,339',\n",
       " '₹498',\n",
       " '₹359',\n",
       " '₹255',\n",
       " '₹809',\n",
       " '₹499',\n",
       " '₹355',\n",
       " '₹349',\n",
       " '₹211',\n",
       " '₹649',\n",
       " '₹472',\n",
       " '₹1,209',\n",
       " '₹799',\n",
       " '₹499',\n",
       " '₹266',\n",
       " '₹1,329',\n",
       " '₹449',\n",
       " '₹353',\n",
       " '₹759',\n",
       " '₹164',\n",
       " '₹325',\n",
       " '₹1,066',\n",
       " '₹189',\n",
       " '₹156',\n",
       " '₹760',\n",
       " '₹569',\n",
       " '₹399',\n",
       " '₹227',\n",
       " '₹1,289',\n",
       " '₹649',\n",
       " '₹261',\n",
       " '₹305',\n",
       " '₹1,199',\n",
       " '₹459']"
      ]
     },
     "execution_count": 233,
     "metadata": {},
     "output_type": "execute_result"
    }
   ],
   "source": [
    "Price = driver.find_elements_by_class_name(\"_30jeq3\")\n",
    "Prices = []\n",
    "\n",
    "for i in Price:\n",
    "    Prices.append(i.text)\n",
    "Prices[0:40]"
   ]
  },
  {
   "cell_type": "code",
   "execution_count": 234,
   "id": "49f71c39",
   "metadata": {},
   "outputs": [],
   "source": [
    "Next_page_btn = driver.find_element_by_xpath(\"/html/body/div[1]/div/div[3]/div[1]/div[2]/div[12]/div/div/nav/a[2]\")\n",
    "Next_page_btn\n",
    "Next_page_btn.click()"
   ]
  },
  {
   "cell_type": "code",
   "execution_count": 235,
   "id": "42032d73",
   "metadata": {},
   "outputs": [
    {
     "data": {
      "text/plain": [
       "['₹999',\n",
       " '₹999',\n",
       " '₹759',\n",
       " '₹188',\n",
       " '₹188',\n",
       " '₹248',\n",
       " '₹383',\n",
       " '₹522',\n",
       " '₹165',\n",
       " '₹200',\n",
       " '₹259',\n",
       " '₹426',\n",
       " '₹1,089',\n",
       " '₹271',\n",
       " '₹200',\n",
       " '₹999',\n",
       " '₹262',\n",
       " '₹189',\n",
       " '₹348',\n",
       " '₹426',\n",
       " '₹639',\n",
       " '₹190',\n",
       " '₹309',\n",
       " '₹426',\n",
       " '₹156',\n",
       " '₹449',\n",
       " '₹181',\n",
       " '₹569',\n",
       " '₹789',\n",
       " '₹359',\n",
       " '₹359',\n",
       " '₹999',\n",
       " '₹200',\n",
       " '₹276',\n",
       " '₹474',\n",
       " '₹664',\n",
       " '₹196',\n",
       " '₹165',\n",
       " '₹299',\n",
       " '₹999']"
      ]
     },
     "execution_count": 235,
     "metadata": {},
     "output_type": "execute_result"
    }
   ],
   "source": [
    "Price = driver.find_elements_by_class_name(\"_30jeq3\")\n",
    "Prices = []\n",
    "\n",
    "for i in Price:\n",
    "    Prices.append(i.text)\n",
    "Prices[0:40]"
   ]
  },
  {
   "cell_type": "code",
   "execution_count": 237,
   "id": "e4039250",
   "metadata": {},
   "outputs": [],
   "source": [
    "Next_page_btn = driver.find_element_by_xpath(\"/html/body/div[1]/div/div[3]/div[1]/div[2]/div[12]/div/div/nav/a[4]\")\n",
    "Next_page_btn\n",
    "Next_page_btn.click()"
   ]
  },
  {
   "cell_type": "code",
   "execution_count": 238,
   "id": "161b2229",
   "metadata": {},
   "outputs": [
    {
     "data": {
      "text/plain": [
       "['₹296',\n",
       " '₹287',\n",
       " '₹187',\n",
       " '₹649',\n",
       " '₹169',\n",
       " '₹245',\n",
       " '₹699',\n",
       " '₹661',\n",
       " '₹749',\n",
       " '₹224',\n",
       " '₹459',\n",
       " '₹349',\n",
       " '₹759',\n",
       " '₹232',\n",
       " '₹239',\n",
       " '₹206',\n",
       " '₹799',\n",
       " '₹360',\n",
       " '₹299',\n",
       " '₹625']"
      ]
     },
     "execution_count": 238,
     "metadata": {},
     "output_type": "execute_result"
    }
   ],
   "source": [
    "Price = driver.find_elements_by_class_name(\"_30jeq3\")\n",
    "Prices = []\n",
    "\n",
    "for i in Price:\n",
    "    Prices.append(i.text)\n",
    "Prices[0:20]"
   ]
  },
  {
   "cell_type": "markdown",
   "id": "6b8ea2bd",
   "metadata": {},
   "source": [
    "# Q.No-5-Scrape 100 reviews data from flipkart.com for iphone11 phone. You have to go the link:"
   ]
  },
  {
   "cell_type": "code",
   "execution_count": 11,
   "id": "ecd76baf",
   "metadata": {},
   "outputs": [],
   "source": [
    "driver = webdriver.Chrome(r'C:\\Users\\Mukti\\Downloads\\chromedriver_win32\\chromedriver.exe')\n",
    "# Connect the URL\n",
    "url = 'https://www.flipkart.com/apple-iphone-11-black-64-gb-includes- earpods-power- adapter/p/itm0f37c2240b217?pid=MOBFKCTSVZAXUHGR&lid=LSTMOBFKC TSVZAXUHGREPBFGI&marketplace'\n",
    "driver.get(url)\n"
   ]
  },
  {
   "cell_type": "code",
   "execution_count": 12,
   "id": "71380124",
   "metadata": {},
   "outputs": [],
   "source": [
    "All_btn = driver.find_element_by_xpath(\"/html/body/div[1]/div/div[3]/div[1]/div[2]/div[7]/div/div/div[5]/div/a/div/span\")\n",
    "All_btn\n",
    "All_btn.click()"
   ]
  },
  {
   "cell_type": "code",
   "execution_count": 14,
   "id": "c7b4f44a",
   "metadata": {},
   "outputs": [
    {
     "data": {
      "text/plain": [
       "['5', '5', '5', '5', '5', '5', '5', '4', '5', '5']"
      ]
     },
     "execution_count": 14,
     "metadata": {},
     "output_type": "execute_result"
    }
   ],
   "source": [
    "rating = driver.find_elements_by_xpath('//div[@class=\"_3LWZlK _1BLPMq\"]')\n",
    "ratings = []\n",
    "\n",
    "for i in rating:\n",
    "    ratings.append(i.text)\n",
    "ratings[:10]"
   ]
  },
  {
   "cell_type": "code",
   "execution_count": 15,
   "id": "1e68d285",
   "metadata": {},
   "outputs": [
    {
     "data": {
      "text/plain": [
       "['Brilliant',\n",
       " 'Simply awesome',\n",
       " 'Perfect product!',\n",
       " 'Best in the market!',\n",
       " 'Worth every penny',\n",
       " 'Fabulous!',\n",
       " 'Great product',\n",
       " 'Good choice',\n",
       " 'Highly recommended',\n",
       " 'Worth every penny']"
      ]
     },
     "execution_count": 15,
     "metadata": {},
     "output_type": "execute_result"
    }
   ],
   "source": [
    "Review_summery = driver.find_elements_by_xpath('//p[@class=\"_2-N8zT\"]')\n",
    "Review = []\n",
    "\n",
    "for i in Review_summery:\n",
    "    Review.append(i.text)\n",
    "Review[:10]"
   ]
  },
  {
   "cell_type": "code",
   "execution_count": 16,
   "id": "6574d60d",
   "metadata": {},
   "outputs": [
    {
     "data": {
      "text/plain": [
       "['The Best Phone for the Money\\n\\nThe iPhone 11 offers superb cameras, a more durable design and excellent battery life for an affordable price.\\n\\nCompelling ultra-wide camera\\nNew Night mode is excellent\\nLong battery life',\n",
       " 'Really satisfied with the Product I received... It’s totally genuine and the packaging was also really good so if ur planning to buy just go for it.',\n",
       " 'Amazing phone with great cameras and better battery which gives you the best performance. I just love the camera .',\n",
       " 'Great iPhone very snappy experience as apple kind. Upgraded from iPhone 7.\\nPros\\n-Camera top class\\n- Battery top performed\\n-Chipset no need to say as apple kind\\n-Security as you expect from apple\\n- Display super bright industry leading colour\\naccuracy and super responsive\\n-Build quality as expect from apple sturdy\\npremium durable beautiful stylish.\\n-Os most stable os in smartphone industry\\n\\nCons\\n-No 5G\\n-Display is not based on OLED technology\\n-Charger headphones and 1 apple stic...\\nREAD MORE',\n",
       " 'Previously I was using one plus 3t it was a great phone\\nAnd then I decided to upgrade I am stuck between Samsung s10 plus or iPhone 11\\nI have seen the specs and everything were good except the display it’s somewhere between 720-1080 and it’s not even an amoled it’s an LCD display\\nBut I decided to go with iPhone because I have never used an IOS device I have Been an android user from the past 9 years I ordered IPhone 11 (128gb) product red\\nMy experience after using 3 weeks\\n1. The delivery ...\\nREAD MORE',\n",
       " 'This is my first iOS phone. I am very happy with this product. Very much satisfied with this. I love this phone.',\n",
       " 'Amazing Powerful and Durable Gadget.\\n\\nI’m am very happy with the camera picture quality, Amazing face id unlocked in dark room, Strong battery with perfect screen size as you can carry easily in pocket. This is my third iPhone.\\n\\nI shifted from android Samsung Note series to iPhone because of the strong build quality and peace of mind for next 3-4 years.\\n\\nDon’t think to much just go for it and I suggest you to go for minimum 128gb variant or more 256gb.\\n\\nI’ve attached my puppy pics and no fi...\\nREAD MORE',\n",
       " 'So far it’s been an AMAZING experience coming back to iOS after nearly a decade but it’s not as versatile as android though phone is sturdy dropped it accidentally a couple of times and nothing happened fortunately camera is awesome',\n",
       " 'What a camera .....just awesome ..you can feel this iPhone just awesome . Good for gaming also ...try pubg in hd it’s just wow',\n",
       " 'i11 is worthy to buy, too much happy with the product. Thank u flipkart I received the item on time..loved it..']"
      ]
     },
     "execution_count": 16,
     "metadata": {},
     "output_type": "execute_result"
    }
   ],
   "source": [
    "Desc = driver.find_elements_by_xpath('//div[@class=\"t-ZTKy\"]')\n",
    "Descs = []\n",
    "\n",
    "for i in Desc:\n",
    "    Descs.append(i.text)\n",
    "Descs[:10]"
   ]
  },
  {
   "cell_type": "code",
   "execution_count": 17,
   "id": "b9199271",
   "metadata": {},
   "outputs": [],
   "source": [
    "Next_page_btn = driver.find_element_by_xpath(\"/html/body/div[1]/div/div[3]/div/div/div[2]/div[13]/div/div/nav/a[2]\")\n",
    "Next_page_btn\n",
    "Next_page_btn.click()"
   ]
  },
  {
   "cell_type": "code",
   "execution_count": 18,
   "id": "8cb352e5",
   "metadata": {},
   "outputs": [
    {
     "data": {
      "text/plain": [
       "['5', '5', '5', '5', '5', '5', '5', '5', '5', '5']"
      ]
     },
     "execution_count": 18,
     "metadata": {},
     "output_type": "execute_result"
    }
   ],
   "source": [
    "rating = driver.find_elements_by_xpath('//div[@class=\"_3LWZlK _1BLPMq\"]')\n",
    "ratings = []\n",
    "\n",
    "for i in rating:\n",
    "    ratings.append(i.text)\n",
    "ratings[:10]"
   ]
  },
  {
   "cell_type": "code",
   "execution_count": 19,
   "id": "dca63d9b",
   "metadata": {},
   "outputs": [
    {
     "data": {
      "text/plain": [
       "['Highly recommended',\n",
       " 'Perfect product!',\n",
       " 'Perfect product!',\n",
       " 'Highly recommended',\n",
       " 'Perfect product!',\n",
       " 'Worth every penny',\n",
       " 'Classy product',\n",
       " 'Simply awesome',\n",
       " 'Worth every penny',\n",
       " 'Worth every penny']"
      ]
     },
     "execution_count": 19,
     "metadata": {},
     "output_type": "execute_result"
    }
   ],
   "source": [
    "Review_summery = driver.find_elements_by_xpath('//p[@class=\"_2-N8zT\"]')\n",
    "Review = []\n",
    "\n",
    "for i in Review_summery:\n",
    "    Review.append(i.text)\n",
    "Review[:10]"
   ]
  },
  {
   "cell_type": "code",
   "execution_count": 20,
   "id": "eca704da",
   "metadata": {},
   "outputs": [
    {
     "data": {
      "text/plain": [
       "['iphone 11 is a very good phone to buy only if you can compromise for the display. The display on this is device is pretty good but you can get other options with better displays in this price segment.\\nIf you can survive with an HD+ LCD panel with thicker bezels and a notch up top then this is a very good phone for you.\\nCameras are awesome, battery backup excellent, great performance and a decent premium look. Good job Apple !',\n",
       " 'It’s a must buy who is looking for an upgrade from previous generation of iPhones. If you are using XR then still you can hold on for sometime and upgrade to 2020 model else this phone is a must buy . Camera quality is amazing and wide angle is something to count upon. Performance wise it’s amazing and feels premium while holding in hand. So a big YES for this device. Go for 128 GB variant as the 4K videos will occupy lots of space and the storage can get over very quickly. Try to buy it with...\\nREAD MORE',\n",
       " 'Value for money❤️❤️\\nIts awesome mobile phone in the world ...\\nDisplay was very good and bright ..\\nTrust me freinds you r never regret after Buying..\\nJust go for it....\\nI love this phone and i switch to iphone x to 11',\n",
       " \"It's my first time to use iOS phone and I am loving my upgradation 😍😍 I love the color, I love the assebility of the phone....I need to learn more about its functionality, but as far as I have seen, it's quite easy and it has a lot of functions to work on, specially if you are a content writer or a blogger you get a lot of content creation platforms and they are really amazing.\\n\\nThis phone not only for good quality photography but a lot of other task too.😍💯\",\n",
       " \"Iphone is just awesome.. battery backup is very very nice.. continuously for 10 hours we can use it.camera is just awesome.. display is just fab.i love it alot..i had to wait 15 days for it as i pre ordered it..overalll it's worth the price..these all images are clicked by my iPhone..and i love it.\",\n",
       " 'Best budget Iphone till date ❤️ go for it guys without second thought. Let me explain you guys about Camera, Display, battery, and performance.\\n\\nCamera: at this price range there is no comparison of camera, you’ll love the picture quality as well as video quality. I am a Vlogger I wanted an iPhone with 4k video by front camera and I got this phone and I am more than happy 😃\\n\\nBattery: I use this phone roughly as I am active social media person and I have a youtube channel. so the battery ba...\\nREAD MORE',\n",
       " 'Totally in love with this ❤ the camera quality is amazing just love it 😘😘😘 itsss dammnnnnnn amazing... Must buy iPhone 11 this is my best experience ever ☀👌👌🧡🧡🧡🧡🧡 thanku apple ❤',\n",
       " 'Excellent camera, good performance, no lag. The lcd display is also good.. but difference come when we watch movie in prime and Netflix, the colours are not vibrant.. as we see in amoled display.. and the charger in box is of 5 watts.. takes more than 3 hours to charge from 0 to 100.. so guys be prepare to buy 18 watts charger . Finally I am an android user, it was my first Iapple phone, I promise u guys the iOS is so smooth.. overall the phone is damn good.... close eyes to buy it.. thanks t...\\nREAD MORE',\n",
       " 'Smooth like butter, camera like fantabulous, sound is crystal clear & its red color is damn attractive, i am just loving it. Must buy if you love photography.\\n\\nLucky to get it in sale, thank you Flipkart.',\n",
       " 'It’s been almost a month since I have been using this phone. I upgraded from an iPhone 8. The main issue with my 8 was battery and this phone is just awesome when it comes to battery. It lasts a day and a half for me with my regular use , internet connected always with 4g\\nCan’t move forward without saying this. Battery of this phone is a life saver when I am traveling or at work when I don’t get the option to charge\\nCamera is superb. Front cam selfies and back cam photos are just awesome.\\n...\\nREAD MORE']"
      ]
     },
     "execution_count": 20,
     "metadata": {},
     "output_type": "execute_result"
    }
   ],
   "source": [
    "Desc = driver.find_elements_by_xpath('//div[@class=\"t-ZTKy\"]')\n",
    "Descs = []\n",
    "\n",
    "for i in Desc:\n",
    "    Descs.append(i.text)\n",
    "Descs[:10]"
   ]
  },
  {
   "cell_type": "markdown",
   "id": "6901e87e",
   "metadata": {},
   "source": [
    "# Q.No.6- Scrape data for first 100 sneakers you find when you visit flipkart.com andsearch for “sneakers” in the search field\n",
    "- Brand\n",
    "- Product Description\n",
    "- Price"
   ]
  },
  {
   "cell_type": "code",
   "execution_count": 3,
   "id": "a74c3f50",
   "metadata": {},
   "outputs": [],
   "source": [
    "driver = webdriver.Chrome(r'C:\\Users\\Mukti\\Downloads\\chromedriver_win32\\chromedriver.exe')\n",
    "# Connect the URL\n",
    "url = 'https://www.flipkart.com/'\n",
    "driver.get(url)\n"
   ]
  },
  {
   "cell_type": "code",
   "execution_count": 9,
   "id": "6c6e5cb6",
   "metadata": {},
   "outputs": [
    {
     "data": {
      "text/plain": [
       "<selenium.webdriver.remote.webelement.WebElement (session=\"df1248e111d478b83fab83c40e420ab8\", element=\"d8cc0aec-fc44-4920-afb6-8b40049ad1e9\")>"
      ]
     },
     "execution_count": 9,
     "metadata": {},
     "output_type": "execute_result"
    }
   ],
   "source": [
    "# Finding Web elements for each job bar using id\n",
    "search_prod = driver.find_element_by_class_name(\"_3704LK\")\n",
    "search_prod\n"
   ]
  },
  {
   "cell_type": "code",
   "execution_count": 10,
   "id": "e2c70a94",
   "metadata": {},
   "outputs": [],
   "source": [
    "# Write a Search Bar\n",
    "search_prod.send_keys(\"sneakers\")"
   ]
  },
  {
   "cell_type": "code",
   "execution_count": 12,
   "id": "c8130184",
   "metadata": {},
   "outputs": [],
   "source": [
    "# Search_btn\n",
    "search_btn = driver.find_element_by_class_name('L0Z3Pu')\n",
    "search_btn\n",
    "search_btn.click()"
   ]
  },
  {
   "cell_type": "code",
   "execution_count": 13,
   "id": "6245018d",
   "metadata": {},
   "outputs": [
    {
     "data": {
      "text/plain": [
       "['Echor',\n",
       " 'Jabra',\n",
       " 'Magnolia',\n",
       " 'luxury fashion',\n",
       " 'URBANBOX',\n",
       " 'Stefano Rads',\n",
       " 'Labbin',\n",
       " 'CLYMB',\n",
       " 'Extoes',\n",
       " 'D-SNEAKERZ',\n",
       " 'Trendmode',\n",
       " 'KNIGHT WALKERS',\n",
       " 'SCATCHITE',\n",
       " 'Shoes Bank',\n",
       " 'ASTEROID',\n",
       " 'Jack Diamond',\n",
       " 'K- FOOTLANCE',\n",
       " 'HOTSTYLE',\n",
       " 'ganpati traders',\n",
       " 'PUMA',\n",
       " 'Kraasa',\n",
       " 'Numenzo',\n",
       " 'Robbie jones',\n",
       " 'VORII',\n",
       " 'CLYMB',\n",
       " 'Echor',\n",
       " 'BIRDE',\n",
       " 'VZAZZY',\n",
       " 'Pieds',\n",
       " 'Arohi',\n",
       " 'Numenzo',\n",
       " 'FOOTSTAIR',\n",
       " 'TR',\n",
       " 'Rzisbo',\n",
       " 'India hub',\n",
       " 'Baogi',\n",
       " 'Kraasa',\n",
       " 'RapidBox',\n",
       " 'BRUTON',\n",
       " 'Jack Diamond']"
      ]
     },
     "execution_count": 13,
     "metadata": {},
     "output_type": "execute_result"
    }
   ],
   "source": [
    "# Brand\n",
    "Brand = driver.find_elements_by_class_name(\"_2WkVRV\")\n",
    "Brands = []\n",
    "\n",
    "for i in Brand:\n",
    "    Brands.append(i.text)\n",
    "Brands[0:40]"
   ]
  },
  {
   "cell_type": "code",
   "execution_count": 14,
   "id": "68150bbb",
   "metadata": {},
   "outputs": [],
   "source": [
    "Next_page_btn = driver.find_element_by_xpath(\"/html/body/div[1]/div/div[3]/div[1]/div[2]/div[12]/div/div/nav/a[2]\")\n",
    "Next_page_btn\n",
    "Next_page_btn.click()"
   ]
  },
  {
   "cell_type": "code",
   "execution_count": 15,
   "id": "04c10d01",
   "metadata": {},
   "outputs": [
    {
     "data": {
      "text/plain": [
       "['aadi',\n",
       " 'ASTEROID',\n",
       " 'Robbie jones',\n",
       " 'PUMA',\n",
       " 'World Wear Footwear',\n",
       " 'believe',\n",
       " 'SPARX',\n",
       " 'Bucik',\n",
       " 'HRDK',\n",
       " 'Zorth',\n",
       " 'aadi',\n",
       " 'Shuzer68',\n",
       " 'India hub',\n",
       " 'SPARX',\n",
       " 'Robbie jones',\n",
       " 'Jack Diamond',\n",
       " 'Zorth',\n",
       " 'RapidBox',\n",
       " 'BRUTON',\n",
       " 'PUMA',\n",
       " 'DUNKASTON',\n",
       " 'SPARX',\n",
       " 'World Wear Footwear',\n",
       " 'PUMA',\n",
       " 'RapidBox',\n",
       " 'PUMA',\n",
       " 'Echor',\n",
       " 'PUMA',\n",
       " 'Kreverse',\n",
       " 'Xtoon',\n",
       " 'SCATCHITE',\n",
       " 'PUMA',\n",
       " 'Robbie jones',\n",
       " 'Rzisbo',\n",
       " 'D-SNEAKERZ',\n",
       " 'FILA',\n",
       " 'BIRDE',\n",
       " 'RODDICK SHOES',\n",
       " 'Airland',\n",
       " 'FILA']"
      ]
     },
     "execution_count": 15,
     "metadata": {},
     "output_type": "execute_result"
    }
   ],
   "source": [
    "Brand = driver.find_elements_by_class_name(\"_2WkVRV\")\n",
    "Brands = []\n",
    "\n",
    "for i in Brand:\n",
    "    Brands.append(i.text)\n",
    "Brands[0:40]"
   ]
  },
  {
   "cell_type": "code",
   "execution_count": 16,
   "id": "8ca5f917",
   "metadata": {},
   "outputs": [],
   "source": [
    "Next_page_btn = driver.find_element_by_xpath(\"/html/body/div[1]/div/div[3]/div[1]/div[2]/div[12]/div/div/nav/a[4]\")\n",
    "Next_page_btn\n",
    "Next_page_btn.click()"
   ]
  },
  {
   "cell_type": "code",
   "execution_count": 19,
   "id": "d481df79",
   "metadata": {},
   "outputs": [
    {
     "data": {
      "text/plain": [
       "['CALCADOS',\n",
       " 'Kraasa',\n",
       " 'KANEGGYE',\n",
       " 'CLYMB',\n",
       " 'BRUTON',\n",
       " 'Robbie jones',\n",
       " 'PUMA',\n",
       " 'KNIGHT WALKERS',\n",
       " 'Echor',\n",
       " 'BRUTON',\n",
       " 'BIRDE',\n",
       " 'Jack Diamond',\n",
       " 'Ktiz',\n",
       " 'Tying',\n",
       " 'Vellinto',\n",
       " 'PUMA',\n",
       " '3SIX5',\n",
       " 'aadi',\n",
       " 'CLYMB',\n",
       " 'PUMA']"
      ]
     },
     "execution_count": 19,
     "metadata": {},
     "output_type": "execute_result"
    }
   ],
   "source": [
    "Brand = driver.find_elements_by_class_name(\"_2WkVRV\")\n",
    "Brands = []\n",
    "\n",
    "for i in Brand:\n",
    "    Brands.append(i.text)\n",
    "Brands[0:20]"
   ]
  },
  {
   "cell_type": "code",
   "execution_count": 20,
   "id": "0d7b9bda",
   "metadata": {},
   "outputs": [
    {
     "data": {
      "text/plain": [
       "[\"Echor Men's Sneakers Fashion Lightweight Running Shoes ...\",\n",
       " 'Sneakers For Men',\n",
       " 'Sneakers For Men',\n",
       " 'Sneakers For Men',\n",
       " 'Sneakers Sneakers For Men',\n",
       " 'Classy Sneakers For Men',\n",
       " 'Sneakers For Men',\n",
       " 'Sneakers For Men',\n",
       " 'Modern Trendy Shoes Combo pack of 4 Sneakers For Men',\n",
       " \"Casual , Partywear Sneakers Shoes For Men's And Boys Wh...\",\n",
       " 'Sneakers For Men',\n",
       " 'Comfortable & light weight Sneakers For Men',\n",
       " 'Sneakers Sneakers For Men',\n",
       " \"White Sneaker For Men's/Boy's Sneakers For Men\",\n",
       " \"Original Luxury Branded Fashionable Men's Casual Walkin...\",\n",
       " 'Sneakers For Men',\n",
       " 'Sneakers For Men',\n",
       " 'Sneakers For Men',\n",
       " 'Sneakers For Men',\n",
       " 'Sneakers For Men',\n",
       " 'Series 7 Sneakers For Men',\n",
       " '411 Casual Sneakers For Men',\n",
       " 'Sneakers For Men',\n",
       " 'Sneakers For Men',\n",
       " 'Sneakers For Men',\n",
       " \"Men's Sneakers Fashion Lightweight Running Shoes Tennis...\",\n",
       " 'Sports Running Shoes Sneakers For Men',\n",
       " 'X-Ray 2 Square Sneakers For Men',\n",
       " 'Sneakers For Men',\n",
       " 'Sneakers For Men',\n",
       " 'White Sneaker For Men Sneakers For Men',\n",
       " 'GESAR Sneakers For Men',\n",
       " 'Sneakers For Men',\n",
       " 'Sneakers For Men',\n",
       " 'Luxury Fashionable casual sneaker shoes Sneakers For Me...',\n",
       " 'Sneakers for men(black_7) Sneakers For Men',\n",
       " 'Shark-41 Sneakers For Men',\n",
       " 'Sneakers For Men',\n",
       " 'Modern Trendy Sneakers Shoes Sneakers For Men',\n",
       " 'Ferrari Neo Cat Sneakers For Men']"
      ]
     },
     "execution_count": 20,
     "metadata": {},
     "output_type": "execute_result"
    }
   ],
   "source": [
    "Prod_Des = driver.find_elements_by_class_name(\"IRpwTa\")\n",
    "Prod_Desc = []\n",
    "\n",
    "for i in Prod_Des:\n",
    "    Prod_Desc.append(i.text)\n",
    "Prod_Desc[0:40]"
   ]
  },
  {
   "cell_type": "code",
   "execution_count": 21,
   "id": "4d358824",
   "metadata": {},
   "outputs": [],
   "source": [
    "Next_page_btn = driver.find_element_by_xpath(\"/html/body/div[1]/div/div[3]/div[1]/div[2]/div[12]/div/div/nav/a[2]\")\n",
    "Next_page_btn\n",
    "Next_page_btn.click()"
   ]
  },
  {
   "cell_type": "code",
   "execution_count": 22,
   "id": "3661e0f5",
   "metadata": {},
   "outputs": [
    {
     "data": {
      "text/plain": [
       "['Sneakers For Men',\n",
       " \"Original Luxury Branded Fashionable Men's Casual Walkin...\",\n",
       " 'Casual Sneakers Black Shoes For Men Sneakers For Men',\n",
       " 'RS-Z Sneakers For Men',\n",
       " 'Latest Collection-1216 Stylish Casual Sports Sneakers F...',\n",
       " 'Sneakers for men(black_6) Sneakers For Men',\n",
       " 'SM439G Sneakers For Men',\n",
       " 'Unisex Comfortable Casual Daily Wear | Gym Sneakers For...',\n",
       " 'Sneakers For Men',\n",
       " 'Sneakers For Men',\n",
       " 'Blue Synthetic Leather Casual Shoes Sneakers For Men',\n",
       " 'Sneakers For Men',\n",
       " 'Luxury Fashionable casual sneaker shoes Sneakers For Me...',\n",
       " 'SM-322 Sneakers For Men',\n",
       " 'Sneakers For Men',\n",
       " 'Sneakers For Men',\n",
       " 'Sneakers For Men',\n",
       " 'Sneakers For Men',\n",
       " 'Lattest Sneakers Shoe Sneakers For Men',\n",
       " 'Sneakers For Men',\n",
       " 'Sneakers For Men',\n",
       " 'Men White Sneakers Sneakers For Men',\n",
       " 'Combo Pack of 4 Latest Collection Stylish Casual Loafer...',\n",
       " 'Rick Point NU Sneakers For Men',\n",
       " 'Stylish & Trendy Sneakers For Men',\n",
       " 'Puma Smash v2 L Perf Puma White-Puma Whi Sneakers For M...',\n",
       " \"Echor Men's Sneakers Fashion Lightweight Running Shoes ...\",\n",
       " 'RS-X Mix Sneakers For Men',\n",
       " 'Sneakers For Men',\n",
       " \"white Casual shoes,Sneakers for men's Sneakers For Men\",\n",
       " 'Sneakers For Men',\n",
       " 'City Rider Electric Sneakers For Men',\n",
       " 'Casual Sneakers White Shoes For Men Sneakers For Men',\n",
       " 'Sneakers For Men',\n",
       " \"Casual , Partywear Sneakers Shoes For Men's And Boys Wh...\",\n",
       " 'X-Ray Square Scary Sneakers For Men',\n",
       " 'Combo Pack of 2 Casual shoes Sneakers For Men',\n",
       " 'Fashion Outdoor Canvas Casual Light Weight Lace-up Even...',\n",
       " 'Sneakers Shoes For Men Black Sneakers For Men',\n",
       " 'x KL Jack Sneakers For Men']"
      ]
     },
     "execution_count": 22,
     "metadata": {},
     "output_type": "execute_result"
    }
   ],
   "source": [
    "Prod_Des = driver.find_elements_by_class_name(\"IRpwTa\")\n",
    "Prod_Desc = []\n",
    "\n",
    "for i in Prod_Des:\n",
    "    Prod_Desc.append(i.text)\n",
    "Prod_Desc[0:40]"
   ]
  },
  {
   "cell_type": "code",
   "execution_count": 23,
   "id": "2b32a080",
   "metadata": {},
   "outputs": [],
   "source": [
    "Next_page_btn = driver.find_element_by_xpath(\"/html/body/div[1]/div/div[3]/div[1]/div[2]/div[12]/div/div/nav/a[4]\")\n",
    "Next_page_btn\n",
    "Next_page_btn.click()"
   ]
  },
  {
   "cell_type": "code",
   "execution_count": 26,
   "id": "1aa664a8",
   "metadata": {},
   "outputs": [
    {
     "data": {
      "text/plain": [
       "['Trendy Fashion Combo Pack of 2 Sneakers For Men',\n",
       " 'Shark-41 Sneakers For Men',\n",
       " 'Sneakers For Men',\n",
       " 'Walking/Outdoor/Running Sneakers For Men',\n",
       " 'Modern & Trendy Collection Combo Pack of 02 Shoes for M...',\n",
       " 'Sneakers For Men',\n",
       " 'Acrux V1 Sneakers For Men',\n",
       " 'Sneakers For Men',\n",
       " \"Men's Canvas Low Top Sneakers Lace-up Classic Casual Sn...\",\n",
       " 'Combo Pack Of 2 Latest Stylish Casual Shoes for Men Lac...',\n",
       " 'Combo Pack of 2 Casual Shoes Sneakers For Men',\n",
       " 'Sneakers For Men',\n",
       " 'Sneakers For Men',\n",
       " 'Model name: New Latest Affordable Range of Combo Pack o...',\n",
       " 'Casual Sneakrs For Men Sneakers For Men',\n",
       " 'Comfortable & light weight Sneakers For Men',\n",
       " '1154 Sneakers For Men',\n",
       " 'Sneakers For Men',\n",
       " 'Sneakers For Men',\n",
       " 'Sneakers For Men']"
      ]
     },
     "execution_count": 26,
     "metadata": {},
     "output_type": "execute_result"
    }
   ],
   "source": [
    "Prod_Des = driver.find_elements_by_class_name(\"IRpwTa\")\n",
    "Prod_Desc = []\n",
    "\n",
    "for i in Prod_Des:\n",
    "    Prod_Desc.append(i.text)\n",
    "Prod_Desc[0:20]"
   ]
  },
  {
   "cell_type": "code",
   "execution_count": 27,
   "id": "5cf2c6d5",
   "metadata": {},
   "outputs": [
    {
     "data": {
      "text/plain": [
       "['₹569',\n",
       " '₹689',\n",
       " '₹398',\n",
       " '₹449',\n",
       " '₹220',\n",
       " '₹251',\n",
       " '₹499',\n",
       " '₹656',\n",
       " '₹948',\n",
       " '₹348',\n",
       " '₹259',\n",
       " '₹699',\n",
       " '₹398',\n",
       " '₹331',\n",
       " '₹499',\n",
       " '₹1,249',\n",
       " '₹489',\n",
       " '₹298',\n",
       " '₹189',\n",
       " '₹599',\n",
       " '₹444',\n",
       " '₹426',\n",
       " '₹474',\n",
       " '₹424',\n",
       " '₹649',\n",
       " '₹499',\n",
       " '₹299',\n",
       " '₹549',\n",
       " '₹299',\n",
       " '₹398',\n",
       " '₹407',\n",
       " '₹1,419',\n",
       " '₹599',\n",
       " '₹549',\n",
       " '₹499',\n",
       " '₹1,419',\n",
       " '₹444',\n",
       " '₹680',\n",
       " '₹339',\n",
       " '₹539']"
      ]
     },
     "execution_count": 27,
     "metadata": {},
     "output_type": "execute_result"
    }
   ],
   "source": [
    "Price = driver.find_elements_by_class_name(\"_30jeq3\")\n",
    "Prices = []\n",
    "\n",
    "for i in Price:\n",
    "    Prices.append(i.text)\n",
    "Prices[0:40]"
   ]
  },
  {
   "cell_type": "code",
   "execution_count": 28,
   "id": "94d5bc94",
   "metadata": {},
   "outputs": [],
   "source": [
    "Next_page_btn = driver.find_element_by_xpath(\"/html/body/div[1]/div/div[3]/div[1]/div[2]/div[12]/div/div/nav/a[2]\")\n",
    "Next_page_btn\n",
    "Next_page_btn.click()"
   ]
  },
  {
   "cell_type": "code",
   "execution_count": 29,
   "id": "1cb36712",
   "metadata": {},
   "outputs": [
    {
     "data": {
      "text/plain": [
       "['₹399',\n",
       " '₹499',\n",
       " '₹451',\n",
       " '₹9,999',\n",
       " '₹199',\n",
       " '₹424',\n",
       " '₹799',\n",
       " '₹6,999',\n",
       " '₹367',\n",
       " '₹498',\n",
       " '₹290',\n",
       " '₹1,739',\n",
       " '₹429',\n",
       " '₹891',\n",
       " '₹499',\n",
       " '₹1,999',\n",
       " '₹499',\n",
       " '₹640',\n",
       " '₹305',\n",
       " '₹2,029',\n",
       " '₹449',\n",
       " '₹764',\n",
       " '₹599',\n",
       " '₹3,359',\n",
       " '₹630',\n",
       " '₹2,199',\n",
       " '₹499',\n",
       " '₹3,079',\n",
       " '₹259',\n",
       " '₹499',\n",
       " '₹398',\n",
       " '₹6,049',\n",
       " '₹474',\n",
       " '₹599',\n",
       " '₹384',\n",
       " '₹3,999',\n",
       " '₹599',\n",
       " '₹499',\n",
       " '₹190',\n",
       " '₹1,319']"
      ]
     },
     "execution_count": 29,
     "metadata": {},
     "output_type": "execute_result"
    }
   ],
   "source": [
    "Price = driver.find_elements_by_class_name(\"_30jeq3\")\n",
    "Prices = []\n",
    "\n",
    "for i in Price:\n",
    "    Prices.append(i.text)\n",
    "Prices[0:40]"
   ]
  },
  {
   "cell_type": "code",
   "execution_count": 30,
   "id": "67351401",
   "metadata": {},
   "outputs": [],
   "source": [
    "Next_page_btn = driver.find_element_by_xpath(\"/html/body/div[1]/div/div[3]/div[1]/div[2]/div[12]/div/div/nav/a[4]\")\n",
    "Next_page_btn\n",
    "Next_page_btn.click()"
   ]
  },
  {
   "cell_type": "code",
   "execution_count": 32,
   "id": "e38a32b6",
   "metadata": {},
   "outputs": [
    {
     "data": {
      "text/plain": [
       "['₹498',\n",
       " '₹449',\n",
       " '₹399',\n",
       " '₹649',\n",
       " '₹536',\n",
       " '₹499',\n",
       " '₹1,759',\n",
       " '₹259',\n",
       " '₹386',\n",
       " '₹530',\n",
       " '₹535',\n",
       " '₹649',\n",
       " '₹499',\n",
       " '₹999',\n",
       " '₹749',\n",
       " '₹649',\n",
       " '₹259',\n",
       " '₹549',\n",
       " '₹699',\n",
       " '₹9,999']"
      ]
     },
     "execution_count": 32,
     "metadata": {},
     "output_type": "execute_result"
    }
   ],
   "source": [
    "Price = driver.find_elements_by_class_name(\"_30jeq3\")\n",
    "Prices = []\n",
    "\n",
    "for i in Price:\n",
    "    Prices.append(i.text)\n",
    "Prices[0:20]"
   ]
  },
  {
   "cell_type": "code",
   "execution_count": 35,
   "id": "3f55388f",
   "metadata": {},
   "outputs": [
    {
     "data": {
      "text/plain": [
       "['62% off',\n",
       " '42% off',\n",
       " '60% off',\n",
       " '65% off',\n",
       " '77% off',\n",
       " '64% off',\n",
       " '50% off',\n",
       " '31% off',\n",
       " '36% off',\n",
       " '47% off',\n",
       " '74% off',\n",
       " '42% off',\n",
       " '60% off',\n",
       " '66% off',\n",
       " '50% off',\n",
       " '56% off',\n",
       " '51% off',\n",
       " '70% off',\n",
       " '62% off',\n",
       " '45% off',\n",
       " '55% off',\n",
       " '78% off',\n",
       " '52% off',\n",
       " '56% off',\n",
       " '50% off',\n",
       " '40% off',\n",
       " '51% off',\n",
       " '70% off',\n",
       " '60% off',\n",
       " '68% off',\n",
       " '51% off',\n",
       " '70% off',\n",
       " '45% off',\n",
       " '61% off',\n",
       " '57% off',\n",
       " '55% off',\n",
       " '31% off',\n",
       " '73% off',\n",
       " '50% off',\n",
       " '50% off']"
      ]
     },
     "execution_count": 35,
     "metadata": {},
     "output_type": "execute_result"
    }
   ],
   "source": [
    "Discount = driver.find_elements_by_class_name(\"_3Ay6Sb\")\n",
    "Discounts = []\n",
    "\n",
    "for i in Discount:\n",
    "    Discounts.append(i.text)\n",
    "Discounts[0:40]"
   ]
  },
  {
   "cell_type": "code",
   "execution_count": 36,
   "id": "4b3d6c62",
   "metadata": {},
   "outputs": [],
   "source": [
    "Next_page_btn = driver.find_element_by_xpath(\"/html/body/div[1]/div/div[3]/div[1]/div[2]/div[12]/div/div/nav/a[2]\")\n",
    "Next_page_btn\n",
    "Next_page_btn.click()"
   ]
  },
  {
   "cell_type": "code",
   "execution_count": 37,
   "id": "1d184922",
   "metadata": {},
   "outputs": [
    {
     "data": {
      "text/plain": [
       "['80% off',\n",
       " '75% off',\n",
       " '54% off',\n",
       " '70% off',\n",
       " '60% off',\n",
       " '57% off',\n",
       " '1% off',\n",
       " '63% off',\n",
       " '50% off',\n",
       " '41% off',\n",
       " '42% off',\n",
       " '78% off',\n",
       " '15% off',\n",
       " '50% off',\n",
       " '30% off',\n",
       " '50% off',\n",
       " '35% off',\n",
       " '76% off',\n",
       " '52% off',\n",
       " '70% off',\n",
       " '15% off',\n",
       " '73% off',\n",
       " '42% off',\n",
       " '36% off',\n",
       " '45% off',\n",
       " '66% off',\n",
       " '77% off',\n",
       " '74% off',\n",
       " '66% off',\n",
       " '60% off',\n",
       " '30% off',\n",
       " '52% off',\n",
       " '40% off',\n",
       " '61% off',\n",
       " '50% off',\n",
       " '60% off',\n",
       " '50% off',\n",
       " '61% off',\n",
       " '30% off',\n",
       " '50% off']"
      ]
     },
     "execution_count": 37,
     "metadata": {},
     "output_type": "execute_result"
    }
   ],
   "source": [
    "Discount = driver.find_elements_by_class_name(\"_3Ay6Sb\")\n",
    "Discounts = []\n",
    "\n",
    "for i in Discount:\n",
    "    Discounts.append(i.text)\n",
    "Discounts[0:40]"
   ]
  },
  {
   "cell_type": "code",
   "execution_count": 38,
   "id": "d2f16677",
   "metadata": {},
   "outputs": [],
   "source": [
    "Next_page_btn = driver.find_element_by_xpath(\"/html/body/div[1]/div/div[3]/div[1]/div[2]/div[12]/div/div/nav/a[4]\")\n",
    "Next_page_btn\n",
    "Next_page_btn.click()"
   ]
  },
  {
   "cell_type": "code",
   "execution_count": 39,
   "id": "4ec0d57a",
   "metadata": {},
   "outputs": [
    {
     "data": {
      "text/plain": [
       "['50% off',\n",
       " '55% off',\n",
       " '20% off',\n",
       " '56% off',\n",
       " '78% off',\n",
       " '50% off',\n",
       " '56% off',\n",
       " '74% off',\n",
       " '74% off',\n",
       " '78% off',\n",
       " '64% off',\n",
       " '56% off',\n",
       " '50% off',\n",
       " '49% off',\n",
       " '42% off',\n",
       " '35% off',\n",
       " '48% off',\n",
       " '72% off',\n",
       " '53% off',\n",
       " '25% off']"
      ]
     },
     "execution_count": 39,
     "metadata": {},
     "output_type": "execute_result"
    }
   ],
   "source": [
    "Discount = driver.find_elements_by_class_name(\"_3Ay6Sb\")\n",
    "Discounts = []\n",
    "\n",
    "for i in Discount:\n",
    "    Discounts.append(i.text)\n",
    "Discounts[0:20]"
   ]
  },
  {
   "cell_type": "markdown",
   "id": "d6f40f83",
   "metadata": {},
   "source": [
    "# Q.No -7- Go to the link - https://www.myntra.com/shoes\n",
    "Set Price filter to “Rs. 7149 to Rs. 14099 ” , Color filter to “Black”, as shown inthe below image.\n",
    "Andthen scrape First 100 shoes data you get. The data should include “Brand” of the shoes , Short Shoe description, price of the shoe as shown in the below image"
   ]
  },
  {
   "cell_type": "code",
   "execution_count": 42,
   "id": "57f2c45b",
   "metadata": {},
   "outputs": [],
   "source": [
    "driver = webdriver.Chrome(r'C:\\Users\\Mukti\\Downloads\\chromedriver_win32\\chromedriver.exe')\n",
    "# Connect the URL\n",
    "url = 'https://www.myntra.com/shoes'\n",
    "driver.get(url)\n"
   ]
  },
  {
   "cell_type": "code",
   "execution_count": 46,
   "id": "8b8ac84a",
   "metadata": {},
   "outputs": [],
   "source": [
    "Price = driver.find_element_by_xpath('/html/body/div[2]/div/div[1]/main/div[3]/div[1]/section/div/div[5]/ul/li[2]/label/div').click()"
   ]
  },
  {
   "cell_type": "code",
   "execution_count": 48,
   "id": "619ba88a",
   "metadata": {},
   "outputs": [],
   "source": [
    "Color = driver.find_element_by_xpath('/html/body/div[2]/div/div[1]/main/div[3]/div[1]/section/div/div[6]/ul/li[1]/label/div').click()"
   ]
  },
  {
   "cell_type": "code",
   "execution_count": 55,
   "id": "aae4388e",
   "metadata": {},
   "outputs": [
    {
     "data": {
      "text/plain": [
       "['PUMA Motorsport',\n",
       " 'Puma',\n",
       " 'Puma',\n",
       " 'Puma',\n",
       " 'Saint G',\n",
       " 'Puma',\n",
       " 'RARE RABBIT',\n",
       " 'Cole Haan',\n",
       " 'Calvin Klein',\n",
       " 'ASICS',\n",
       " 'Bugatti',\n",
       " 'Bugatti',\n",
       " 'Saint G',\n",
       " 'DAVINCHI',\n",
       " 'DAVINCHI',\n",
       " 'Geox',\n",
       " 'RARE RABBIT',\n",
       " 'Saint G',\n",
       " 'Heel & Buckle London',\n",
       " 'Saint G',\n",
       " 'Saint G',\n",
       " 'Puma',\n",
       " 'Geox',\n",
       " 'Columbia',\n",
       " 'Bugatti',\n",
       " 'Tommy Hilfiger',\n",
       " 'J.FONTINI',\n",
       " 'Xtep',\n",
       " 'J.FONTINI',\n",
       " 'Louis Philippe',\n",
       " 'J.FONTINI',\n",
       " 'DAVINCHI',\n",
       " 'Geox',\n",
       " 'DAVINCHI',\n",
       " 'DAVINCHI',\n",
       " 'Geox',\n",
       " 'Geox',\n",
       " 'Pavers England',\n",
       " 'Saint G',\n",
       " 'Geox',\n",
       " 'Cole Haan',\n",
       " 'Geox',\n",
       " 'Cole Haan',\n",
       " 'DAVINCHI',\n",
       " 'Pavers England',\n",
       " 'Pavers England',\n",
       " 'Saint G',\n",
       " 'Pavers England',\n",
       " 'Saint G',\n",
       " 'Saint G']"
      ]
     },
     "execution_count": 55,
     "metadata": {},
     "output_type": "execute_result"
    }
   ],
   "source": [
    "# Brand\n",
    "Brand = driver.find_elements_by_class_name(\"product-brand\")\n",
    "Brands = []\n",
    "\n",
    "for i in Brand:\n",
    "    Brands.append(i.text)\n",
    "Brands[0:50]"
   ]
  },
  {
   "cell_type": "code",
   "execution_count": 50,
   "id": "14b5e090",
   "metadata": {},
   "outputs": [],
   "source": [
    "Next_page_btn = driver.find_element_by_xpath(\"/html/body/div[2]/div/div[1]/main/div[3]/div[2]/div/div[2]/section/div[2]/ul/li[3]/a\").click()"
   ]
  },
  {
   "cell_type": "code",
   "execution_count": 52,
   "id": "a6719ad0",
   "metadata": {},
   "outputs": [
    {
     "data": {
      "text/plain": [
       "['Saint G',\n",
       " 'Saint G',\n",
       " 'Saint G',\n",
       " 'Geox',\n",
       " 'Saint G',\n",
       " 'Heel & Buckle London',\n",
       " 'Saint G',\n",
       " 'Saint G',\n",
       " 'Saint G',\n",
       " 'Saint G',\n",
       " 'Saint G',\n",
       " 'Saint G',\n",
       " 'Saint G',\n",
       " 'Geox',\n",
       " 'MANGO',\n",
       " 'fitflop',\n",
       " 'Saint G',\n",
       " 'Cole Haan',\n",
       " 'Nike',\n",
       " 'Saint G',\n",
       " 'ALDO',\n",
       " 'Hush Puppies',\n",
       " 'Skechers',\n",
       " 'Skechers',\n",
       " 'Hush Puppies',\n",
       " 'Hush Puppies',\n",
       " 'Nike',\n",
       " 'Hush Puppies',\n",
       " 'ECCO',\n",
       " 'Hush Puppies',\n",
       " 'Saint G',\n",
       " 'Bugatti',\n",
       " 'ALDO',\n",
       " 'Heel & Buckle London',\n",
       " 'Hush Puppies',\n",
       " 'DAVINCHI',\n",
       " 'Saint G',\n",
       " 'Saint G',\n",
       " 'Saint G',\n",
       " 'Saint G',\n",
       " 'ECCO',\n",
       " 'ECCO',\n",
       " 'MANGO',\n",
       " 'ECCO',\n",
       " 'Puma',\n",
       " 'MANGO',\n",
       " 'Tommy Hilfiger',\n",
       " 'UNDER ARMOUR',\n",
       " 'Pavers England',\n",
       " 'J.FONTINI']"
      ]
     },
     "execution_count": 52,
     "metadata": {},
     "output_type": "execute_result"
    }
   ],
   "source": [
    "# Brand\n",
    "Brand = driver.find_elements_by_class_name(\"product-brand\")\n",
    "Brands = []\n",
    "\n",
    "for i in Brand:\n",
    "    Brands.append(i.text)\n",
    "Brands[0:100]"
   ]
  },
  {
   "cell_type": "code",
   "execution_count": 56,
   "id": "dbdec4fe",
   "metadata": {},
   "outputs": [
    {
     "data": {
      "text/plain": [
       "['Unisex Mercedes F1 Sneakers',\n",
       " 'Men Running Shoes',\n",
       " 'Men Magnify Nitro Running',\n",
       " 'Men Electrify Nitro Running',\n",
       " 'Men Mid-Top Chelsea Boots',\n",
       " 'Women Magnify Nitro Shoes',\n",
       " 'Men Leather Flat Boots',\n",
       " 'Men GENERATION ZEROGRAND STITCHLITE',\n",
       " 'Men Solid Suede Sneakers',\n",
       " 'Men Colourblocked PU Sneakers',\n",
       " 'Men Running Shoes',\n",
       " 'Men Textured Leather High-Top Flat Boots',\n",
       " 'Men Leather Chelsea Boots',\n",
       " 'Men Solid Leather Formal Derbys',\n",
       " 'Men Textured Formal Leather Loafers',\n",
       " 'Men Leather Flat Boots',\n",
       " 'Men Textured Leather Loafers',\n",
       " 'Leather Wedge Heeled Boots with Buckles',\n",
       " 'Men Formal Leather Derby',\n",
       " 'Suede High-Top Flatform Heeled Boots',\n",
       " 'Embellished Leather Block Heeled Boots',\n",
       " 'Women Velocity NITRO Runners',\n",
       " 'Women Leather Pumps',\n",
       " 'PEAKFREAK OUTDRY Trekking Shoe',\n",
       " 'Men Black Walking Shoes',\n",
       " 'Women Hybrid Leather Sneakers',\n",
       " 'Men Textured Leather Loafers',\n",
       " 'Men Running Shoes',\n",
       " 'Men Textured Leather Loafers',\n",
       " 'Men Leather Formal Slip-Ons',\n",
       " 'Men Black Leather Loafers',\n",
       " 'Ustraa black',\n",
       " 'Men Leather Loafers',\n",
       " 'Men Formal Leather Slip-Ons',\n",
       " 'Men Textured Formal Leather Loafers',\n",
       " 'Women Solid Leather Pumps',\n",
       " 'Women Solid Leather Pumps',\n",
       " 'Men Leather Driving Shoes',\n",
       " 'Women Leather Heeled Boots',\n",
       " 'Men Leather Formal Derbys',\n",
       " 'Women Open Toe Flats',\n",
       " 'Women Solid Leather Ballerinas',\n",
       " 'Women Solid Leather Ballerinas',\n",
       " 'Men Textured Leather Formal Slip-Ons',\n",
       " 'Men Solid Leather Formal Loafers',\n",
       " 'Men Textured Leather Formal Slip-On Shoes',\n",
       " 'Leather Block Heeled Boots',\n",
       " 'Men Solid Leather Formal Derbys',\n",
       " 'Leather Kitten Heeled Boots',\n",
       " 'Leather Block Heeled Boots with Bows']"
      ]
     },
     "execution_count": 56,
     "metadata": {},
     "output_type": "execute_result"
    }
   ],
   "source": [
    "Prod_Des = driver.find_elements_by_class_name(\"product-product\")\n",
    "Prod_Desc = []\n",
    "\n",
    "for i in Prod_Des:\n",
    "    Prod_Desc.append(i.text)\n",
    "Prod_Desc[0:100]"
   ]
  },
  {
   "cell_type": "code",
   "execution_count": 58,
   "id": "c20b9ac4",
   "metadata": {},
   "outputs": [],
   "source": [
    "Next_page_btn = driver.find_element_by_xpath(\"/html/body/div[2]/div/div[1]/main/div[3]/div[2]/div/div[2]/section/div[2]/ul/li[3]/a\").click()"
   ]
  },
  {
   "cell_type": "code",
   "execution_count": 59,
   "id": "71634932",
   "metadata": {},
   "outputs": [
    {
     "data": {
      "text/plain": [
       "['Leather Platform Heeled Boots',\n",
       " 'Suede Party High-Top Block Heeled Boots',\n",
       " 'Women Chunky Sneakers',\n",
       " 'Textured Leather Party Kitten Heeled Boots',\n",
       " 'Men Solid Leather Formal Loafers',\n",
       " 'Leather Boots with Buckles',\n",
       " 'Women High-Top Heeled Boots',\n",
       " 'Woman Black Leather Boots',\n",
       " 'Leather Block Heeled Boots with Buckles',\n",
       " 'Embellished Flatform Boots',\n",
       " 'Leather Block Heeled Boots',\n",
       " 'Women Leather Heeled Boots',\n",
       " 'Women Leather High-Top Flat Boots',\n",
       " 'Women Leather Penny Loafers',\n",
       " 'Women Textured Slip-On Sneakers',\n",
       " 'Women Leather Loafers',\n",
       " 'Women Leather Sneakers',\n",
       " 'Men Printed Sneakers',\n",
       " 'Men Zoom Span 4 Running Shoes',\n",
       " 'Women Leather Heeled Boots',\n",
       " 'Men Solid Leather Formal Slip-Ons',\n",
       " 'Men Balance Anchor Walking',\n",
       " 'Men Go Run Hyper Burst Running',\n",
       " 'Men Leather Derbys',\n",
       " 'Men Solid Leather Formal Slip-Ons',\n",
       " \"Men BlazerLow '77 Sneakers\",\n",
       " 'Men Formal Derbys',\n",
       " 'Helsinki Bike Toe Lace Shoes',\n",
       " 'Men Solid Leather Formal Derbys',\n",
       " 'Leather Block Heeled Boots',\n",
       " 'Men Walking Shoes',\n",
       " 'Men Solid Leather Formal Derbys',\n",
       " 'Men Solid Leather Formal Penny Loafers',\n",
       " 'Men Solid Formal Slip-Ons',\n",
       " 'Men Solid Leather Formal Loafers',\n",
       " 'Women Leather Heeled Boots',\n",
       " 'Women Leather Heeled Boots',\n",
       " 'Women Kitten Heeled Boots',\n",
       " 'Women Leather Heeled Boots',\n",
       " 'Leather Stiletto Pumps',\n",
       " 'Women Textured Leather Sneakers',\n",
       " 'Women Mid Top Chunky Flat Boot',\n",
       " 'Women Ballerinas Flats',\n",
       " 'Women Eternity NITRO Shoes',\n",
       " 'Women WovenDesign Sports Shoes',\n",
       " 'Men Lightweight Sneakers',\n",
       " 'Women HOVR Sonic 4 Running',\n",
       " 'Men Textured Leather Loafers',\n",
       " 'Men Solid Loafers',\n",
       " 'Women Leather High-Top Flat Boots']"
      ]
     },
     "execution_count": 59,
     "metadata": {},
     "output_type": "execute_result"
    }
   ],
   "source": [
    "Prod_Des = driver.find_elements_by_class_name(\"product-product\")\n",
    "Prod_Desc = []\n",
    "\n",
    "for i in Prod_Des:\n",
    "    Prod_Desc.append(i.text)\n",
    "Prod_Desc[0:100]"
   ]
  },
  {
   "cell_type": "code",
   "execution_count": 63,
   "id": "cf2294c1",
   "metadata": {},
   "outputs": [
    {
     "data": {
      "text/plain": [
       "['Rs. 7999Rs. 9999(20% OFF)',\n",
       " 'Rs. 7149Rs. 12999(45% OFF)',\n",
       " 'Rs. 8449Rs. 12999(35% OFF)',\n",
       " 'Rs. 7499Rs. 9999(25% OFF)',\n",
       " 'Rs. 9810Rs. 10900(10% OFF)',\n",
       " 'Rs. 8449Rs. 12999(35% OFF)',\n",
       " 'Rs. 7999Rs. 9999(20% OFF)',\n",
       " 'Rs. 11999',\n",
       " 'Rs. 7999',\n",
       " 'Rs. 9999',\n",
       " 'Rs. 7999Rs. 9999(20% OFF)',\n",
       " 'Rs. 8399Rs. 11999(30% OFF)',\n",
       " 'Rs. 10710Rs. 11900(10% OFF)',\n",
       " 'Rs. 8990',\n",
       " 'Rs. 8990',\n",
       " 'Rs. 8399Rs. 11999(30% OFF)',\n",
       " 'Rs. 7149Rs. 10999(35% OFF)',\n",
       " 'Rs. 13410Rs. 14900(10% OFF)',\n",
       " 'Rs. 7990',\n",
       " 'Rs. 12150Rs. 13500(10% OFF)',\n",
       " 'Rs. 9546Rs. 12900(26% OFF)',\n",
       " 'Rs. 7699Rs. 10999(30% OFF)',\n",
       " 'Rs. 8999',\n",
       " 'Rs. 9999',\n",
       " 'Rs. 7199Rs. 8999(20% OFF)',\n",
       " 'Rs. 7999',\n",
       " 'Rs. 7990',\n",
       " 'Rs. 7699',\n",
       " 'Rs. 7990',\n",
       " 'Rs. 8499',\n",
       " 'Rs. 8490',\n",
       " 'Rs. 8990',\n",
       " 'Rs. 9999',\n",
       " 'Rs. 8990',\n",
       " 'Rs. 8990',\n",
       " 'Rs. 7999',\n",
       " 'Rs. 10990',\n",
       " 'Rs. 7499',\n",
       " 'Rs. 10710Rs. 11900(10% OFF)',\n",
       " 'Rs. 8399Rs. 11999(30% OFF)',\n",
       " 'Rs. 11999',\n",
       " 'Rs. 8999',\n",
       " 'Rs. 13999',\n",
       " 'Rs. 8990',\n",
       " 'Rs. 7999',\n",
       " 'Rs. 9999',\n",
       " 'Rs. 8550Rs. 9500(Rs. 950 OFF)',\n",
       " 'Rs. 8999',\n",
       " 'Rs. 8910Rs. 9900(Rs. 990 OFF)',\n",
       " 'Rs. 12510Rs. 13900(10% OFF)']"
      ]
     },
     "execution_count": 63,
     "metadata": {},
     "output_type": "execute_result"
    }
   ],
   "source": [
    "Price = driver.find_elements_by_class_name(\"product-price\")\n",
    "Prices = []\n",
    "\n",
    "for i in Price:\n",
    "    Prices.append(i.text)\n",
    "Prices[0:100]"
   ]
  },
  {
   "cell_type": "code",
   "execution_count": 64,
   "id": "58538d06",
   "metadata": {},
   "outputs": [
    {
     "data": {
      "text/plain": [
       "['Rs. 9810Rs. 10900(10% OFF)',\n",
       " 'Rs. 9450Rs. 10500(10% OFF)',\n",
       " 'Rs. 9999',\n",
       " 'Rs. 11954Rs. 13900(14% OFF)',\n",
       " 'Rs. 11990',\n",
       " 'Rs. 8505Rs. 10500(19% OFF)',\n",
       " 'Rs. 9869Rs. 13900(29% OFF)',\n",
       " 'Rs. 11250Rs. 12500(10% OFF)',\n",
       " 'Rs. 9810Rs. 10900(10% OFF)',\n",
       " 'Rs. 8505Rs. 10500(19% OFF)',\n",
       " 'Rs. 9810Rs. 10900(Rs. 1090 OFF)',\n",
       " 'Rs. 13410Rs. 14900(10% OFF)',\n",
       " 'Rs. 10499Rs. 14999(30% OFF)',\n",
       " 'Rs. 7191Rs. 7990(10% OFF)',\n",
       " 'Rs. 7999',\n",
       " 'Rs. 7500Rs. 9500(Rs. 2000 OFF)',\n",
       " 'Rs. 10999',\n",
       " 'Rs. 9099Rs. 12999(30% OFF)',\n",
       " 'Rs. 7195',\n",
       " 'Rs. 13050Rs. 14500(10% OFF)',\n",
       " 'Rs. 8999',\n",
       " 'Rs. 8499Rs. 9999(15% OFF)',\n",
       " 'Rs. 7224Rs. 8499(15% OFF)',\n",
       " 'Rs. 7999',\n",
       " 'Rs. 9999',\n",
       " 'Rs. 7195',\n",
       " 'Rs. 9999',\n",
       " 'Rs. 12999',\n",
       " 'Rs. 9999',\n",
       " 'Rs. 12675Rs. 16900(Rs. 4225 OFF)',\n",
       " 'Rs. 7199Rs. 8999(20% OFF)',\n",
       " 'Rs. 7799Rs. 12999(40% OFF)',\n",
       " 'Rs. 7693Rs. 10990(30% OFF)',\n",
       " 'Rs. 9999',\n",
       " 'Rs. 8490',\n",
       " 'Rs. 13674Rs. 15900(14% OFF)',\n",
       " 'Rs. 12905Rs. 14500(11% OFF)',\n",
       " 'Rs. 7921Rs. 8900(11% OFF)',\n",
       " 'Rs. 12510Rs. 13900(10% OFF)',\n",
       " 'Rs. 12999',\n",
       " 'Rs. 13999',\n",
       " 'Rs. 7590Rs. 7990(5% OFF)',\n",
       " 'Rs. 8999',\n",
       " 'Rs. 7799Rs. 12999(40% OFF)',\n",
       " 'Rs. 7590Rs. 7990(5% OFF)',\n",
       " 'Rs. 7999',\n",
       " 'Rs. 8799Rs. 10999(20% OFF)',\n",
       " 'Rs. 10999',\n",
       " 'Rs. 8990',\n",
       " 'Rs. 12599Rs. 17999(30% OFF)']"
      ]
     },
     "execution_count": 64,
     "metadata": {},
     "output_type": "execute_result"
    }
   ],
   "source": [
    "Next_page_btn = driver.find_element_by_xpath(\"/html/body/div[2]/div/div[1]/main/div[3]/div[2]/div/div[2]/section/div[2]/ul/li[3]/a\").click()\n",
    "\n",
    "Price = driver.find_elements_by_class_name(\"product-price\")\n",
    "Prices = []\n",
    "\n",
    "for i in Price:\n",
    "    Prices.append(i.text)\n",
    "Prices[0:100]"
   ]
  },
  {
   "cell_type": "markdown",
   "id": "157ffe05",
   "metadata": {},
   "source": [
    "# Q.No 8- Go to webpage https://www.amazon.in/.\n",
    "\n",
    "Enter “Laptop” in the search field and then click the search icon.\n",
    "Then set CPU Type filter to “Intel Core i7” and “Intel Core i9” as shown in the below image:\n",
    "After\n",
    "- Title\n",
    "- Ratings\n",
    "- Price"
   ]
  },
  {
   "cell_type": "code",
   "execution_count": 92,
   "id": "b439b045",
   "metadata": {},
   "outputs": [],
   "source": [
    "driver = webdriver.Chrome(r'C:\\Users\\Mukti\\Downloads\\chromedriver_win32\\chromedriver.exe')\n",
    "# Connect the URL\n",
    "url = 'https://www.amazon.in/'\n",
    "driver.get(url)\n",
    "\n",
    "# Finding Web elements for each job bar using id\n",
    "search_pro = driver.find_element_by_id(\"twotabsearchtextbox\")\n",
    "search_pro\n",
    "\n",
    "# Write a Search Bar\n",
    "search_pro.send_keys(\"Laptop\")\n",
    "\n",
    "# Search Btn\n",
    "search_btn = driver.find_element_by_xpath('/html/body/div[1]/header/div/div[1]/div[2]/div/form/div[3]/div/span/input').click()"
   ]
  },
  {
   "cell_type": "code",
   "execution_count": 93,
   "id": "c062c4ed",
   "metadata": {},
   "outputs": [],
   "source": [
    "Seemore = driver.find_element_by_xpath('/html/body/div[1]/div[2]/div[1]/div[2]/div/div[3]/span/div[1]/span/div/div/div[6]/div/div/div[1]/div/span[2]/a/span').click()"
   ]
  },
  {
   "cell_type": "code",
   "execution_count": 94,
   "id": "187df7c7",
   "metadata": {},
   "outputs": [],
   "source": [
    "I_7 = driver.find_element_by_xpath('/html/body/div[1]/div[2]/div[1]/div[2]/div/div[3]/span/div[1]/span/div/div/div[6]/div/div/div[1]/div/span[1]/a[12]/div/span').click()"
   ]
  },
  {
   "cell_type": "code",
   "execution_count": 35,
   "id": "73d173ab",
   "metadata": {},
   "outputs": [
    {
     "data": {
      "text/plain": [
       "['Dell 14 (2021) i7-1195G7 2in1 Touch Screen Laptop, 16GB, 512GB SSD, Win 10 + MS Office, 14.0\" (35.56 cms) FHD Display, Backlit KB, FPR + Active Pen, Platinum Silver (Inspiron 5410, D560596WIN9S)',\n",
       " 'Lenovo ThinkBook Yoga 14s Intel Core i7 11th Gen 14\"(35.56cm) FHD IPS 300 nits 100% sRGB Dolby Vision 2-in-1 Touchscreen Laptop (16GB RAM/512GB SSD/Windows 10/MS Office/Active Pen/1.50 kg) 20WEA01EIH',\n",
       " 'Mi Notebook Horizon Edition 14 Intel Core i7-10510U 10th Gen Thin and Light Laptop(8GB/512GB SSD/Windows 10/Nvidia MX350 2GB Graphics/Grey/1.35Kg)(Without Webcam) XMA1904-AF',\n",
       " 'LG Gram 17-inches Ultra-Light Intel Evo 11th Gen Core i7,16 GB RAM, 512 GB SSD, New Win-11 Preload, Iris Xe Graphics, USC -C x 2 (with Power), 1.35 kg, 3 Yr Warranty (17Z90P-G.AH85A2, Black)',\n",
       " 'ASUS VivoBook 14 (2021), 14-inch (35.56 cms) FHD, Intel Core i7-1065G7 10th Gen, Thin and Light Laptop (16GB/512GB SSD/Integrated Graphics/Office 2021/Windows 11/Silver/1.6 Kg), X415JA-EK701WS',\n",
       " 'Acer Nitro 5 AN515-57 Gaming Laptop | Intel Core i7-11800H |NVIDIA GeForce RTX 3050 Ti Laptop Graphics |15.6\" FHD 144Hz IPS Display |16GB DDR4 |256GB SSD+1TB HDD |Killer Wi-Fi 6 |RGB Backlit Keyboard',\n",
       " 'Lenovo Yoga 7 11th Gen Intel Core i7 14\"(35.56cm) FHD IPS 2-in-1 Touchscreen Convertible Laptop(16GB/512GB SSD/Windows 11/Office 2021/Lenovo Digital Pen/Slate Grey/Aluminium Surface/1.43Kg),82BH00HWIN',\n",
       " 'HP Pavilion 13, 11th Gen Intel Core i7, 13.3-inch(33.8 cm) FHD,IPS, Micro-Edge Laptop (16GB RAM/ 1TB SSD/ Win 10/ FPR/Audio B&O/Alexa Built-in/MS Office/ Ceramic White/ 1.24 Kg) -13-bb0078TU',\n",
       " 'ASUS TUF Dash F15 (2021) 15.6-inch (39.62 cms) FHD 144Hz, Intel Core i7-11370H 11th Gen, RTX 3050 Ti 4GB Graphics, Gaming Laptop (16GB/1TB SSD/Office 2019/Windows 10/Gray/2 Kg), FX516PEZ-HN105TS',\n",
       " 'Lenovo IdeaPad Flex 5 11th Gen Intel Core i7 14\" FHD 2-in-1 Convertible Laptop (16 GB/512GB SDD/Windows 11/MS Office 2021/Backlit Keyboard /Graphite Grey/1.5Kg), 82HS00W4IN']"
      ]
     },
     "execution_count": 35,
     "metadata": {},
     "output_type": "execute_result"
    }
   ],
   "source": [
    "Title_tags = driver.find_elements_by_xpath('//h2[@class=\"a-size-mini a-spacing-none a-color-base s-line-clamp-2\"]')\n",
    "titles = []\n",
    "\n",
    "for i in Title_tags:\n",
    "    titles.append(i.text)\n",
    "titles[0:10]"
   ]
  },
  {
   "cell_type": "code",
   "execution_count": 57,
   "id": "5bca862e",
   "metadata": {},
   "outputs": [
    {
     "data": {
      "text/plain": [
       "['9', '56', '1,011', '110', '1', '6', '48', '27', '8', '80']"
      ]
     },
     "execution_count": 57,
     "metadata": {},
     "output_type": "execute_result"
    }
   ],
   "source": [
    "rating = driver.find_elements_by_xpath('//div[@class=\"a-row a-size-small\"]')\n",
    "Ratings = []\n",
    "\n",
    "for i in rating:\n",
    "    Ratings.append(i.text)\n",
    "Ratings[0:10]"
   ]
  },
  {
   "cell_type": "code",
   "execution_count": 86,
   "id": "0599d183",
   "metadata": {},
   "outputs": [
    {
     "data": {
      "text/plain": [
       "['94,700',\n",
       " '86,990',\n",
       " '57,990',\n",
       " '99,990',\n",
       " '59,990',\n",
       " '89,990',\n",
       " '99,990',\n",
       " '86,990',\n",
       " '95,990',\n",
       " '88,990']"
      ]
     },
     "execution_count": 86,
     "metadata": {},
     "output_type": "execute_result"
    }
   ],
   "source": [
    "Price = driver.find_elements_by_xpath('//span[@class=\"a-price-whole\"]')\n",
    "Prices = []\n",
    "\n",
    "for i in Price:\n",
    "    Prices.append(i.text)\n",
    "Prices[0:10]"
   ]
  },
  {
   "cell_type": "markdown",
   "id": "e77c9f74",
   "metadata": {},
   "source": [
    "# Q.No-9. Write a python program to scrape data for first 10 job results for Data Scientist Designation in Noida location. You have to scrape company name, No. of days ago when job was posted, Rating of the company. This task will be done in following steps:"
   ]
  },
  {
   "cell_type": "code",
   "execution_count": 139,
   "id": "fafc3c76",
   "metadata": {},
   "outputs": [],
   "source": [
    "driver = webdriver.Chrome(r'C:\\Users\\Mukti\\Downloads\\chromedriver_win32\\chromedriver.exe')\n",
    "# Connect the URL\n",
    "url = 'https://www.ambitionbox.com/'\n",
    "driver.get(url)"
   ]
  },
  {
   "cell_type": "code",
   "execution_count": 140,
   "id": "9f2e4a43",
   "metadata": {},
   "outputs": [],
   "source": [
    "# Finding Web elements for each job bar using id\n",
    "search_btn = driver.find_element_by_xpath('/html/body/div[1]/nav/nav/a[6]').click()"
   ]
  },
  {
   "cell_type": "code",
   "execution_count": 159,
   "id": "e631f69c",
   "metadata": {},
   "outputs": [
    {
     "data": {
      "text/plain": [
       "<selenium.webdriver.remote.webelement.WebElement (session=\"bceb7505501b4f9530bda88d95973bb0\", element=\"5b01d9d4-269d-47c9-b5b7-7cd1a96bec85\")>"
      ]
     },
     "execution_count": 159,
     "metadata": {},
     "output_type": "execute_result"
    }
   ],
   "source": [
    "# Finding Web elements for each job bar using id\n",
    "search_Job = driver.find_element_by_xpath('/html/body/div/div/div/div[2]/div[1]/div/div/div/div/span/input')\n",
    "search_Job"
   ]
  },
  {
   "cell_type": "code",
   "execution_count": 160,
   "id": "a7a280c6",
   "metadata": {},
   "outputs": [],
   "source": [
    "# Write a Search Bar \n",
    "search_Job.send_keys(\"Data Scientist\")"
   ]
  },
  {
   "cell_type": "code",
   "execution_count": 161,
   "id": "0f751a1e",
   "metadata": {},
   "outputs": [],
   "source": [
    "search_btn = driver.find_element_by_xpath('/html/body/div/div/div/div[2]/div[1]/div/div/div/button').click()"
   ]
  },
  {
   "cell_type": "code",
   "execution_count": 163,
   "id": "a6fd025d",
   "metadata": {},
   "outputs": [],
   "source": [
    "search_location = driver.find_element_by_xpath('/html/body/div/div/div/div[2]/div[2]/div[1]/div/div/div/div[2]/div[1]/i').click()"
   ]
  },
  {
   "cell_type": "code",
   "execution_count": 164,
   "id": "a51dc853",
   "metadata": {},
   "outputs": [],
   "source": [
    "sslect_loc = driver.find_element_by_xpath('/html/body/div/div/div/div[2]/div[2]/div[1]/div/div/div/div[2]/div[2]/div/div[3]/div[1]/div[5]/div/label').click()"
   ]
  },
  {
   "cell_type": "code",
   "execution_count": 204,
   "id": "fae5f7ec",
   "metadata": {},
   "outputs": [
    {
     "data": {
      "text/plain": [
       "['Ameriprise Financial',\n",
       " 'Paytm',\n",
       " 'Jubilant Foodworks Limited',\n",
       " 'CHT Sapiense',\n",
       " 'CHT Sapiense',\n",
       " 'GI Group',\n",
       " 'GI Group',\n",
       " 'GI Group',\n",
       " 'RMS Risk Management Solutions',\n",
       " 'Paytm']"
      ]
     },
     "execution_count": 204,
     "metadata": {},
     "output_type": "execute_result"
    }
   ],
   "source": [
    "# Company Name\n",
    "Comp_name = driver.find_elements_by_xpath('//p[@class=\"company body-medium\"]')\n",
    "Comp_names = []\n",
    "\n",
    "for i in Comp_name:\n",
    "    Comp_names.append(i.text)\n",
    "Comp_names[0:20]"
   ]
  },
  {
   "cell_type": "code",
   "execution_count": 225,
   "id": "9c84fbd7",
   "metadata": {},
   "outputs": [
    {
     "data": {
      "text/plain": [
       "['1d ago',\n",
       " '7d ago',\n",
       " '24d ago',\n",
       " '8d ago',\n",
       " '9d ago',\n",
       " '20d ago',\n",
       " '20d ago',\n",
       " '20d ago',\n",
       " '2d ago',\n",
       " '28d ago']"
      ]
     },
     "execution_count": 225,
     "metadata": {},
     "output_type": "execute_result"
    }
   ],
   "source": [
    "# No. of days ago when job was posted\n",
    "posted = driver.find_elements_by_xpath('//span[@class=\"body-small-l\"]')\n",
    "posteds = []\n",
    "\n",
    "for i in posted:\n",
    "    posteds.append(i.text)\n",
    "posteds[0:20:2]"
   ]
  },
  {
   "cell_type": "code",
   "execution_count": 187,
   "id": "96bd796e",
   "metadata": {},
   "outputs": [
    {
     "data": {
      "text/plain": [
       "['4.0', '3.7', '3.9', '3.7', '3.7', '4.1', '4.1', '4.1', '3.5', '3.7']"
      ]
     },
     "execution_count": 187,
     "metadata": {},
     "output_type": "execute_result"
    }
   ],
   "source": [
    "# Rating of the company.\n",
    "Rating = driver.find_elements_by_xpath('//span[@class=\"body-small\"]')\n",
    "ratings = []\n",
    "\n",
    "for i in Rating:\n",
    "    ratings.append(i.text)\n",
    "ratings[0:20]"
   ]
  },
  {
   "cell_type": "code",
   "execution_count": 224,
   "id": "10e8bee3",
   "metadata": {},
   "outputs": [
    {
     "data": {
      "text/plain": [
       "(10, 20, 10)"
      ]
     },
     "execution_count": 224,
     "metadata": {},
     "output_type": "execute_result"
    }
   ],
   "source": [
    "len(Comp_names),len(posteds),len(ratings)"
   ]
  },
  {
   "cell_type": "code",
   "execution_count": 214,
   "id": "e125a18f",
   "metadata": {},
   "outputs": [
    {
     "data": {
      "text/html": [
       "<div>\n",
       "<style scoped>\n",
       "    .dataframe tbody tr th:only-of-type {\n",
       "        vertical-align: middle;\n",
       "    }\n",
       "\n",
       "    .dataframe tbody tr th {\n",
       "        vertical-align: top;\n",
       "    }\n",
       "\n",
       "    .dataframe thead th {\n",
       "        text-align: right;\n",
       "    }\n",
       "</style>\n",
       "<table border=\"1\" class=\"dataframe\">\n",
       "  <thead>\n",
       "    <tr style=\"text-align: right;\">\n",
       "      <th></th>\n",
       "      <th>Company</th>\n",
       "      <th>Ratings</th>\n",
       "    </tr>\n",
       "  </thead>\n",
       "  <tbody>\n",
       "    <tr>\n",
       "      <th>0</th>\n",
       "      <td>Ameriprise Financial</td>\n",
       "      <td>4.0</td>\n",
       "    </tr>\n",
       "    <tr>\n",
       "      <th>1</th>\n",
       "      <td>Paytm</td>\n",
       "      <td>3.7</td>\n",
       "    </tr>\n",
       "    <tr>\n",
       "      <th>2</th>\n",
       "      <td>Jubilant Foodworks Limited</td>\n",
       "      <td>3.9</td>\n",
       "    </tr>\n",
       "    <tr>\n",
       "      <th>3</th>\n",
       "      <td>CHT Sapiense</td>\n",
       "      <td>3.7</td>\n",
       "    </tr>\n",
       "    <tr>\n",
       "      <th>4</th>\n",
       "      <td>CHT Sapiense</td>\n",
       "      <td>3.7</td>\n",
       "    </tr>\n",
       "    <tr>\n",
       "      <th>5</th>\n",
       "      <td>GI Group</td>\n",
       "      <td>4.1</td>\n",
       "    </tr>\n",
       "    <tr>\n",
       "      <th>6</th>\n",
       "      <td>GI Group</td>\n",
       "      <td>4.1</td>\n",
       "    </tr>\n",
       "    <tr>\n",
       "      <th>7</th>\n",
       "      <td>GI Group</td>\n",
       "      <td>4.1</td>\n",
       "    </tr>\n",
       "    <tr>\n",
       "      <th>8</th>\n",
       "      <td>RMS Risk Management Solutions</td>\n",
       "      <td>3.5</td>\n",
       "    </tr>\n",
       "    <tr>\n",
       "      <th>9</th>\n",
       "      <td>Paytm</td>\n",
       "      <td>3.7</td>\n",
       "    </tr>\n",
       "  </tbody>\n",
       "</table>\n",
       "</div>"
      ],
      "text/plain": [
       "                         Company Ratings\n",
       "0           Ameriprise Financial     4.0\n",
       "1                          Paytm     3.7\n",
       "2     Jubilant Foodworks Limited     3.9\n",
       "3                   CHT Sapiense     3.7\n",
       "4                   CHT Sapiense     3.7\n",
       "5                       GI Group     4.1\n",
       "6                       GI Group     4.1\n",
       "7                       GI Group     4.1\n",
       "8  RMS Risk Management Solutions     3.5\n",
       "9                          Paytm     3.7"
      ]
     },
     "execution_count": 214,
     "metadata": {},
     "output_type": "execute_result"
    }
   ],
   "source": [
    "# Create a Data Frame\n",
    "Jobs = pd.DataFrame()\n",
    "Jobs['Company'] = Comp_names\n",
    "Jobs['Ratings'] = ratings\n",
    "Jobs[0:10]"
   ]
  },
  {
   "cell_type": "markdown",
   "id": "521ca7eb",
   "metadata": {},
   "source": [
    "# Q.No -10Write a python program to scrape the salary data for Data Scientist designation. You have to scrape Company name, Number of salaries, Average salary, Minsalary, Max Salary."
   ]
  },
  {
   "cell_type": "code",
   "execution_count": 246,
   "id": "7591ecaa",
   "metadata": {},
   "outputs": [],
   "source": [
    "driver = webdriver.Chrome(r'C:\\Users\\Mukti\\Downloads\\chromedriver_win32\\chromedriver.exe')\n",
    "# Connect the URL\n",
    "url = 'https://www.ambitionbox.com/'\n",
    "driver.get(url)"
   ]
  },
  {
   "cell_type": "code",
   "execution_count": 247,
   "id": "4796d076",
   "metadata": {},
   "outputs": [],
   "source": [
    "# Finding Web elements for each job bar using id\n",
    "search_btn = driver.find_element_by_xpath('/html/body/div[1]/nav/nav/a[4]').click()"
   ]
  },
  {
   "cell_type": "code",
   "execution_count": 241,
   "id": "8e499814",
   "metadata": {},
   "outputs": [
    {
     "data": {
      "text/plain": [
       "<selenium.webdriver.remote.webelement.WebElement (session=\"6380ec1d41036ce183649483db2a9319\", element=\"d515d35b-6534-4444-8913-5eedf989db79\")>"
      ]
     },
     "execution_count": 241,
     "metadata": {},
     "output_type": "execute_result"
    }
   ],
   "source": [
    "# Finding Web elements for each job bar using id\n",
    "search_Job = driver.find_element_by_xpath('/html/body/div/div/div/div[2]/div/div/div/div[1]/span/input')\n",
    "search_Job"
   ]
  },
  {
   "cell_type": "code",
   "execution_count": 252,
   "id": "f21ee1d6",
   "metadata": {},
   "outputs": [],
   "source": [
    "Ser_jobs = driver.find_element_by_xpath('/html/body/div/div/div/main/section[1]/div[2]/div[1]/span/input')"
   ]
  },
  {
   "cell_type": "code",
   "execution_count": 255,
   "id": "80566538",
   "metadata": {},
   "outputs": [],
   "source": [
    "# Write a Search Bar \n",
    "Ser_jobs.send_keys(\"Data Scientist\")"
   ]
  },
  {
   "cell_type": "code",
   "execution_count": 262,
   "id": "39cb2d31",
   "metadata": {},
   "outputs": [
    {
     "data": {
      "text/plain": [
       "['Walmart\\nbased on 10 salaries',\n",
       " 'Ab Inbev\\nbased on 22 salaries',\n",
       " 'ZS\\nbased on 14 salaries',\n",
       " 'Fractal Analytics\\nbased on 72 salaries',\n",
       " 'Optum\\nbased on 23 salaries',\n",
       " 'UnitedHealth\\nbased on 49 salaries',\n",
       " 'Tiger Analytics\\nbased on 27 salaries',\n",
       " 'Verizon\\nbased on 14 salaries',\n",
       " 'Ganit Business Solutions\\nbased on 13 salaries',\n",
       " 'Ericsson\\nbased on 42 salaries']"
      ]
     },
     "execution_count": 262,
     "metadata": {},
     "output_type": "execute_result"
    }
   ],
   "source": [
    "# Company Name\n",
    "Comp_name = driver.find_elements_by_xpath('//div[@class=\"name\"]')\n",
    "Comp_names = []\n",
    "\n",
    "for i in Comp_name:\n",
    "    Comp_names.append(i.text)\n",
    "Comp_names[0:10]"
   ]
  },
  {
   "cell_type": "code",
   "execution_count": 286,
   "id": "3e7f706b",
   "metadata": {},
   "outputs": [
    {
     "data": {
      "text/plain": [
       "['Data Scientist\\n . \\n3 yrs exp',\n",
       " 'Data Scientist\\n . \\n3-4 yrs exp',\n",
       " 'Data Scientist\\n . \\n2 yrs exp',\n",
       " 'Data Scientist\\n . \\n2-4 yrs exp',\n",
       " 'Data Scientist\\n . \\n3-4 yrs exp',\n",
       " 'Data Scientist\\n . \\n2-4 yrs exp',\n",
       " 'Data Scientist\\n . \\n3-4 yrs exp',\n",
       " 'Data Scientist\\n . \\n4 yrs exp',\n",
       " 'Data Scientist\\n . \\n4 yrs exp',\n",
       " 'Data Scientist\\n . \\n3-4 yrs exp']"
      ]
     },
     "execution_count": 286,
     "metadata": {},
     "output_type": "execute_result"
    }
   ],
   "source": [
    "# Experoence\n",
    "Exp = driver.find_elements_by_xpath('//div[@class=\"salaries sbold-list-header\"]')\n",
    "Exps = []\n",
    "\n",
    "for i in Exp:\n",
    "    Exps.append(i.text)\n",
    "Exps[0:10]"
   ]
  },
  {
   "cell_type": "code",
   "execution_count": 294,
   "id": "b8515448",
   "metadata": {},
   "outputs": [
    {
     "data": {
      "text/plain": [
       "['₹ 28.7L\\n₹ 17.7L\\n₹ 35.0L',\n",
       " '₹ 19.5L\\n₹ 15.0L\\n₹ 25.0L',\n",
       " '₹ 15.8L\\n₹ 9.8L\\n₹ 20.0L',\n",
       " '₹ 15.0L\\n₹ 9.5L\\n₹ 22.0L',\n",
       " '₹ 15.0L\\n₹ 11.0L\\n₹ 21.3L',\n",
       " '₹ 13.5L\\n₹ 7.2L\\n₹ 20.5L',\n",
       " '₹ 13.5L\\n₹ 8.3L\\n₹ 18.5L',\n",
       " '₹ 12.7L\\n₹ 10.0L\\n₹ 21.0L',\n",
       " '₹ 12.4L\\n₹ 8.5L\\n₹ 15.0L',\n",
       " '₹ 11.9L\\n₹ 5.8L\\n₹ 21.5L']"
      ]
     },
     "execution_count": 294,
     "metadata": {},
     "output_type": "execute_result"
    }
   ],
   "source": [
    "# Medium/Minimum/maximum_salary\n",
    "Salary = driver.find_elements_by_xpath('//div[@class=\"salary-range-wrapper\"]')\n",
    "Salarys = []\n",
    "\n",
    "for i in Salary:\n",
    "    Salarys.append(i.text)\n",
    "Salarys[0:10]"
   ]
  },
  {
   "cell_type": "code",
   "execution_count": 295,
   "id": "37831230",
   "metadata": {},
   "outputs": [
    {
     "data": {
      "text/html": [
       "<div>\n",
       "<style scoped>\n",
       "    .dataframe tbody tr th:only-of-type {\n",
       "        vertical-align: middle;\n",
       "    }\n",
       "\n",
       "    .dataframe tbody tr th {\n",
       "        vertical-align: top;\n",
       "    }\n",
       "\n",
       "    .dataframe thead th {\n",
       "        text-align: right;\n",
       "    }\n",
       "</style>\n",
       "<table border=\"1\" class=\"dataframe\">\n",
       "  <thead>\n",
       "    <tr style=\"text-align: right;\">\n",
       "      <th></th>\n",
       "      <th>Company</th>\n",
       "      <th>Exp</th>\n",
       "      <th>&lt;selenium.webdriver.remote.webelement.WebElement (session=\"480ffa8e8fce1a246a3e17514119abef\", element=\"d239a351-3db4-4045-b6f5-3d963b604e26\")&gt;</th>\n",
       "      <th>&lt;selenium.webdriver.remote.webelement.WebElement (session=\"480ffa8e8fce1a246a3e17514119abef\", element=\"a14a7d5d-de71-4bad-bd4f-d5ebc2584fd1\")&gt;</th>\n",
       "      <th>&lt;selenium.webdriver.remote.webelement.WebElement (session=\"480ffa8e8fce1a246a3e17514119abef\", element=\"7fcbf85a-7256-4724-a237-441079a4bfbd\")&gt;</th>\n",
       "      <th>&lt;selenium.webdriver.remote.webelement.WebElement (session=\"480ffa8e8fce1a246a3e17514119abef\", element=\"7a197ea9-2442-4564-be81-02502107d07a\")&gt;</th>\n",
       "      <th>&lt;selenium.webdriver.remote.webelement.WebElement (session=\"480ffa8e8fce1a246a3e17514119abef\", element=\"f8416316-6be5-40a1-a7e0-1024f0d545f6\")&gt;</th>\n",
       "      <th>&lt;selenium.webdriver.remote.webelement.WebElement (session=\"480ffa8e8fce1a246a3e17514119abef\", element=\"fbedd8e3-4963-4215-842b-37af2c9c1ea6\")&gt;</th>\n",
       "      <th>&lt;selenium.webdriver.remote.webelement.WebElement (session=\"480ffa8e8fce1a246a3e17514119abef\", element=\"5bf3fe02-3e35-483f-a17a-74b95e5de0da\")&gt;</th>\n",
       "      <th>&lt;selenium.webdriver.remote.webelement.WebElement (session=\"480ffa8e8fce1a246a3e17514119abef\", element=\"1b339f68-68ad-4fb2-8d50-e094b345769f\")&gt;</th>\n",
       "      <th>&lt;selenium.webdriver.remote.webelement.WebElement (session=\"480ffa8e8fce1a246a3e17514119abef\", element=\"7aaa1d0d-6e09-4ec2-ad2d-66739fa4a60d\")&gt;</th>\n",
       "      <th>&lt;selenium.webdriver.remote.webelement.WebElement (session=\"480ffa8e8fce1a246a3e17514119abef\", element=\"bb3a2980-7df1-4718-a519-b3bf84bdf2bb\")&gt;</th>\n",
       "    </tr>\n",
       "  </thead>\n",
       "  <tbody>\n",
       "    <tr>\n",
       "      <th>0</th>\n",
       "      <td>Walmart\\nbased on 10 salaries</td>\n",
       "      <td>Data Scientist\\n . \\n3 yrs exp</td>\n",
       "      <td>₹ 28.7L\\n₹ 17.7L\\n₹ 35.0L</td>\n",
       "      <td>₹ 19.5L\\n₹ 15.0L\\n₹ 25.0L</td>\n",
       "      <td>₹ 15.8L\\n₹ 9.8L\\n₹ 20.0L</td>\n",
       "      <td>₹ 15.0L\\n₹ 9.5L\\n₹ 22.0L</td>\n",
       "      <td>₹ 15.0L\\n₹ 11.0L\\n₹ 21.3L</td>\n",
       "      <td>₹ 13.5L\\n₹ 7.2L\\n₹ 20.5L</td>\n",
       "      <td>₹ 13.5L\\n₹ 8.3L\\n₹ 18.5L</td>\n",
       "      <td>₹ 12.7L\\n₹ 10.0L\\n₹ 21.0L</td>\n",
       "      <td>₹ 12.4L\\n₹ 8.5L\\n₹ 15.0L</td>\n",
       "      <td>₹ 11.9L\\n₹ 5.8L\\n₹ 21.5L</td>\n",
       "    </tr>\n",
       "    <tr>\n",
       "      <th>1</th>\n",
       "      <td>Ab Inbev\\nbased on 22 salaries</td>\n",
       "      <td>Data Scientist\\n . \\n3-4 yrs exp</td>\n",
       "      <td>₹ 28.7L\\n₹ 17.7L\\n₹ 35.0L</td>\n",
       "      <td>₹ 19.5L\\n₹ 15.0L\\n₹ 25.0L</td>\n",
       "      <td>₹ 15.8L\\n₹ 9.8L\\n₹ 20.0L</td>\n",
       "      <td>₹ 15.0L\\n₹ 9.5L\\n₹ 22.0L</td>\n",
       "      <td>₹ 15.0L\\n₹ 11.0L\\n₹ 21.3L</td>\n",
       "      <td>₹ 13.5L\\n₹ 7.2L\\n₹ 20.5L</td>\n",
       "      <td>₹ 13.5L\\n₹ 8.3L\\n₹ 18.5L</td>\n",
       "      <td>₹ 12.7L\\n₹ 10.0L\\n₹ 21.0L</td>\n",
       "      <td>₹ 12.4L\\n₹ 8.5L\\n₹ 15.0L</td>\n",
       "      <td>₹ 11.9L\\n₹ 5.8L\\n₹ 21.5L</td>\n",
       "    </tr>\n",
       "    <tr>\n",
       "      <th>2</th>\n",
       "      <td>ZS\\nbased on 14 salaries</td>\n",
       "      <td>Data Scientist\\n . \\n2 yrs exp</td>\n",
       "      <td>₹ 28.7L\\n₹ 17.7L\\n₹ 35.0L</td>\n",
       "      <td>₹ 19.5L\\n₹ 15.0L\\n₹ 25.0L</td>\n",
       "      <td>₹ 15.8L\\n₹ 9.8L\\n₹ 20.0L</td>\n",
       "      <td>₹ 15.0L\\n₹ 9.5L\\n₹ 22.0L</td>\n",
       "      <td>₹ 15.0L\\n₹ 11.0L\\n₹ 21.3L</td>\n",
       "      <td>₹ 13.5L\\n₹ 7.2L\\n₹ 20.5L</td>\n",
       "      <td>₹ 13.5L\\n₹ 8.3L\\n₹ 18.5L</td>\n",
       "      <td>₹ 12.7L\\n₹ 10.0L\\n₹ 21.0L</td>\n",
       "      <td>₹ 12.4L\\n₹ 8.5L\\n₹ 15.0L</td>\n",
       "      <td>₹ 11.9L\\n₹ 5.8L\\n₹ 21.5L</td>\n",
       "    </tr>\n",
       "    <tr>\n",
       "      <th>3</th>\n",
       "      <td>Fractal Analytics\\nbased on 72 salaries</td>\n",
       "      <td>Data Scientist\\n . \\n2-4 yrs exp</td>\n",
       "      <td>₹ 28.7L\\n₹ 17.7L\\n₹ 35.0L</td>\n",
       "      <td>₹ 19.5L\\n₹ 15.0L\\n₹ 25.0L</td>\n",
       "      <td>₹ 15.8L\\n₹ 9.8L\\n₹ 20.0L</td>\n",
       "      <td>₹ 15.0L\\n₹ 9.5L\\n₹ 22.0L</td>\n",
       "      <td>₹ 15.0L\\n₹ 11.0L\\n₹ 21.3L</td>\n",
       "      <td>₹ 13.5L\\n₹ 7.2L\\n₹ 20.5L</td>\n",
       "      <td>₹ 13.5L\\n₹ 8.3L\\n₹ 18.5L</td>\n",
       "      <td>₹ 12.7L\\n₹ 10.0L\\n₹ 21.0L</td>\n",
       "      <td>₹ 12.4L\\n₹ 8.5L\\n₹ 15.0L</td>\n",
       "      <td>₹ 11.9L\\n₹ 5.8L\\n₹ 21.5L</td>\n",
       "    </tr>\n",
       "    <tr>\n",
       "      <th>4</th>\n",
       "      <td>Optum\\nbased on 23 salaries</td>\n",
       "      <td>Data Scientist\\n . \\n3-4 yrs exp</td>\n",
       "      <td>₹ 28.7L\\n₹ 17.7L\\n₹ 35.0L</td>\n",
       "      <td>₹ 19.5L\\n₹ 15.0L\\n₹ 25.0L</td>\n",
       "      <td>₹ 15.8L\\n₹ 9.8L\\n₹ 20.0L</td>\n",
       "      <td>₹ 15.0L\\n₹ 9.5L\\n₹ 22.0L</td>\n",
       "      <td>₹ 15.0L\\n₹ 11.0L\\n₹ 21.3L</td>\n",
       "      <td>₹ 13.5L\\n₹ 7.2L\\n₹ 20.5L</td>\n",
       "      <td>₹ 13.5L\\n₹ 8.3L\\n₹ 18.5L</td>\n",
       "      <td>₹ 12.7L\\n₹ 10.0L\\n₹ 21.0L</td>\n",
       "      <td>₹ 12.4L\\n₹ 8.5L\\n₹ 15.0L</td>\n",
       "      <td>₹ 11.9L\\n₹ 5.8L\\n₹ 21.5L</td>\n",
       "    </tr>\n",
       "    <tr>\n",
       "      <th>5</th>\n",
       "      <td>UnitedHealth\\nbased on 49 salaries</td>\n",
       "      <td>Data Scientist\\n . \\n2-4 yrs exp</td>\n",
       "      <td>₹ 28.7L\\n₹ 17.7L\\n₹ 35.0L</td>\n",
       "      <td>₹ 19.5L\\n₹ 15.0L\\n₹ 25.0L</td>\n",
       "      <td>₹ 15.8L\\n₹ 9.8L\\n₹ 20.0L</td>\n",
       "      <td>₹ 15.0L\\n₹ 9.5L\\n₹ 22.0L</td>\n",
       "      <td>₹ 15.0L\\n₹ 11.0L\\n₹ 21.3L</td>\n",
       "      <td>₹ 13.5L\\n₹ 7.2L\\n₹ 20.5L</td>\n",
       "      <td>₹ 13.5L\\n₹ 8.3L\\n₹ 18.5L</td>\n",
       "      <td>₹ 12.7L\\n₹ 10.0L\\n₹ 21.0L</td>\n",
       "      <td>₹ 12.4L\\n₹ 8.5L\\n₹ 15.0L</td>\n",
       "      <td>₹ 11.9L\\n₹ 5.8L\\n₹ 21.5L</td>\n",
       "    </tr>\n",
       "    <tr>\n",
       "      <th>6</th>\n",
       "      <td>Tiger Analytics\\nbased on 27 salaries</td>\n",
       "      <td>Data Scientist\\n . \\n3-4 yrs exp</td>\n",
       "      <td>₹ 28.7L\\n₹ 17.7L\\n₹ 35.0L</td>\n",
       "      <td>₹ 19.5L\\n₹ 15.0L\\n₹ 25.0L</td>\n",
       "      <td>₹ 15.8L\\n₹ 9.8L\\n₹ 20.0L</td>\n",
       "      <td>₹ 15.0L\\n₹ 9.5L\\n₹ 22.0L</td>\n",
       "      <td>₹ 15.0L\\n₹ 11.0L\\n₹ 21.3L</td>\n",
       "      <td>₹ 13.5L\\n₹ 7.2L\\n₹ 20.5L</td>\n",
       "      <td>₹ 13.5L\\n₹ 8.3L\\n₹ 18.5L</td>\n",
       "      <td>₹ 12.7L\\n₹ 10.0L\\n₹ 21.0L</td>\n",
       "      <td>₹ 12.4L\\n₹ 8.5L\\n₹ 15.0L</td>\n",
       "      <td>₹ 11.9L\\n₹ 5.8L\\n₹ 21.5L</td>\n",
       "    </tr>\n",
       "    <tr>\n",
       "      <th>7</th>\n",
       "      <td>Verizon\\nbased on 14 salaries</td>\n",
       "      <td>Data Scientist\\n . \\n4 yrs exp</td>\n",
       "      <td>₹ 28.7L\\n₹ 17.7L\\n₹ 35.0L</td>\n",
       "      <td>₹ 19.5L\\n₹ 15.0L\\n₹ 25.0L</td>\n",
       "      <td>₹ 15.8L\\n₹ 9.8L\\n₹ 20.0L</td>\n",
       "      <td>₹ 15.0L\\n₹ 9.5L\\n₹ 22.0L</td>\n",
       "      <td>₹ 15.0L\\n₹ 11.0L\\n₹ 21.3L</td>\n",
       "      <td>₹ 13.5L\\n₹ 7.2L\\n₹ 20.5L</td>\n",
       "      <td>₹ 13.5L\\n₹ 8.3L\\n₹ 18.5L</td>\n",
       "      <td>₹ 12.7L\\n₹ 10.0L\\n₹ 21.0L</td>\n",
       "      <td>₹ 12.4L\\n₹ 8.5L\\n₹ 15.0L</td>\n",
       "      <td>₹ 11.9L\\n₹ 5.8L\\n₹ 21.5L</td>\n",
       "    </tr>\n",
       "    <tr>\n",
       "      <th>8</th>\n",
       "      <td>Ganit Business Solutions\\nbased on 13 salaries</td>\n",
       "      <td>Data Scientist\\n . \\n4 yrs exp</td>\n",
       "      <td>₹ 28.7L\\n₹ 17.7L\\n₹ 35.0L</td>\n",
       "      <td>₹ 19.5L\\n₹ 15.0L\\n₹ 25.0L</td>\n",
       "      <td>₹ 15.8L\\n₹ 9.8L\\n₹ 20.0L</td>\n",
       "      <td>₹ 15.0L\\n₹ 9.5L\\n₹ 22.0L</td>\n",
       "      <td>₹ 15.0L\\n₹ 11.0L\\n₹ 21.3L</td>\n",
       "      <td>₹ 13.5L\\n₹ 7.2L\\n₹ 20.5L</td>\n",
       "      <td>₹ 13.5L\\n₹ 8.3L\\n₹ 18.5L</td>\n",
       "      <td>₹ 12.7L\\n₹ 10.0L\\n₹ 21.0L</td>\n",
       "      <td>₹ 12.4L\\n₹ 8.5L\\n₹ 15.0L</td>\n",
       "      <td>₹ 11.9L\\n₹ 5.8L\\n₹ 21.5L</td>\n",
       "    </tr>\n",
       "    <tr>\n",
       "      <th>9</th>\n",
       "      <td>Ericsson\\nbased on 42 salaries</td>\n",
       "      <td>Data Scientist\\n . \\n3-4 yrs exp</td>\n",
       "      <td>₹ 28.7L\\n₹ 17.7L\\n₹ 35.0L</td>\n",
       "      <td>₹ 19.5L\\n₹ 15.0L\\n₹ 25.0L</td>\n",
       "      <td>₹ 15.8L\\n₹ 9.8L\\n₹ 20.0L</td>\n",
       "      <td>₹ 15.0L\\n₹ 9.5L\\n₹ 22.0L</td>\n",
       "      <td>₹ 15.0L\\n₹ 11.0L\\n₹ 21.3L</td>\n",
       "      <td>₹ 13.5L\\n₹ 7.2L\\n₹ 20.5L</td>\n",
       "      <td>₹ 13.5L\\n₹ 8.3L\\n₹ 18.5L</td>\n",
       "      <td>₹ 12.7L\\n₹ 10.0L\\n₹ 21.0L</td>\n",
       "      <td>₹ 12.4L\\n₹ 8.5L\\n₹ 15.0L</td>\n",
       "      <td>₹ 11.9L\\n₹ 5.8L\\n₹ 21.5L</td>\n",
       "    </tr>\n",
       "  </tbody>\n",
       "</table>\n",
       "</div>"
      ],
      "text/plain": [
       "                                          Company  \\\n",
       "0                   Walmart\\nbased on 10 salaries   \n",
       "1                  Ab Inbev\\nbased on 22 salaries   \n",
       "2                        ZS\\nbased on 14 salaries   \n",
       "3         Fractal Analytics\\nbased on 72 salaries   \n",
       "4                     Optum\\nbased on 23 salaries   \n",
       "5              UnitedHealth\\nbased on 49 salaries   \n",
       "6           Tiger Analytics\\nbased on 27 salaries   \n",
       "7                   Verizon\\nbased on 14 salaries   \n",
       "8  Ganit Business Solutions\\nbased on 13 salaries   \n",
       "9                  Ericsson\\nbased on 42 salaries   \n",
       "\n",
       "                                Exp  \\\n",
       "0    Data Scientist\\n . \\n3 yrs exp   \n",
       "1  Data Scientist\\n . \\n3-4 yrs exp   \n",
       "2    Data Scientist\\n . \\n2 yrs exp   \n",
       "3  Data Scientist\\n . \\n2-4 yrs exp   \n",
       "4  Data Scientist\\n . \\n3-4 yrs exp   \n",
       "5  Data Scientist\\n . \\n2-4 yrs exp   \n",
       "6  Data Scientist\\n . \\n3-4 yrs exp   \n",
       "7    Data Scientist\\n . \\n4 yrs exp   \n",
       "8    Data Scientist\\n . \\n4 yrs exp   \n",
       "9  Data Scientist\\n . \\n3-4 yrs exp   \n",
       "\n",
       "  <selenium.webdriver.remote.webelement.WebElement (session=\"480ffa8e8fce1a246a3e17514119abef\", element=\"d239a351-3db4-4045-b6f5-3d963b604e26\")>  \\\n",
       "0                          ₹ 28.7L\\n₹ 17.7L\\n₹ 35.0L                                                                                               \n",
       "1                          ₹ 28.7L\\n₹ 17.7L\\n₹ 35.0L                                                                                               \n",
       "2                          ₹ 28.7L\\n₹ 17.7L\\n₹ 35.0L                                                                                               \n",
       "3                          ₹ 28.7L\\n₹ 17.7L\\n₹ 35.0L                                                                                               \n",
       "4                          ₹ 28.7L\\n₹ 17.7L\\n₹ 35.0L                                                                                               \n",
       "5                          ₹ 28.7L\\n₹ 17.7L\\n₹ 35.0L                                                                                               \n",
       "6                          ₹ 28.7L\\n₹ 17.7L\\n₹ 35.0L                                                                                               \n",
       "7                          ₹ 28.7L\\n₹ 17.7L\\n₹ 35.0L                                                                                               \n",
       "8                          ₹ 28.7L\\n₹ 17.7L\\n₹ 35.0L                                                                                               \n",
       "9                          ₹ 28.7L\\n₹ 17.7L\\n₹ 35.0L                                                                                               \n",
       "\n",
       "  <selenium.webdriver.remote.webelement.WebElement (session=\"480ffa8e8fce1a246a3e17514119abef\", element=\"a14a7d5d-de71-4bad-bd4f-d5ebc2584fd1\")>  \\\n",
       "0                          ₹ 19.5L\\n₹ 15.0L\\n₹ 25.0L                                                                                               \n",
       "1                          ₹ 19.5L\\n₹ 15.0L\\n₹ 25.0L                                                                                               \n",
       "2                          ₹ 19.5L\\n₹ 15.0L\\n₹ 25.0L                                                                                               \n",
       "3                          ₹ 19.5L\\n₹ 15.0L\\n₹ 25.0L                                                                                               \n",
       "4                          ₹ 19.5L\\n₹ 15.0L\\n₹ 25.0L                                                                                               \n",
       "5                          ₹ 19.5L\\n₹ 15.0L\\n₹ 25.0L                                                                                               \n",
       "6                          ₹ 19.5L\\n₹ 15.0L\\n₹ 25.0L                                                                                               \n",
       "7                          ₹ 19.5L\\n₹ 15.0L\\n₹ 25.0L                                                                                               \n",
       "8                          ₹ 19.5L\\n₹ 15.0L\\n₹ 25.0L                                                                                               \n",
       "9                          ₹ 19.5L\\n₹ 15.0L\\n₹ 25.0L                                                                                               \n",
       "\n",
       "  <selenium.webdriver.remote.webelement.WebElement (session=\"480ffa8e8fce1a246a3e17514119abef\", element=\"7fcbf85a-7256-4724-a237-441079a4bfbd\")>  \\\n",
       "0                           ₹ 15.8L\\n₹ 9.8L\\n₹ 20.0L                                                                                               \n",
       "1                           ₹ 15.8L\\n₹ 9.8L\\n₹ 20.0L                                                                                               \n",
       "2                           ₹ 15.8L\\n₹ 9.8L\\n₹ 20.0L                                                                                               \n",
       "3                           ₹ 15.8L\\n₹ 9.8L\\n₹ 20.0L                                                                                               \n",
       "4                           ₹ 15.8L\\n₹ 9.8L\\n₹ 20.0L                                                                                               \n",
       "5                           ₹ 15.8L\\n₹ 9.8L\\n₹ 20.0L                                                                                               \n",
       "6                           ₹ 15.8L\\n₹ 9.8L\\n₹ 20.0L                                                                                               \n",
       "7                           ₹ 15.8L\\n₹ 9.8L\\n₹ 20.0L                                                                                               \n",
       "8                           ₹ 15.8L\\n₹ 9.8L\\n₹ 20.0L                                                                                               \n",
       "9                           ₹ 15.8L\\n₹ 9.8L\\n₹ 20.0L                                                                                               \n",
       "\n",
       "  <selenium.webdriver.remote.webelement.WebElement (session=\"480ffa8e8fce1a246a3e17514119abef\", element=\"7a197ea9-2442-4564-be81-02502107d07a\")>  \\\n",
       "0                           ₹ 15.0L\\n₹ 9.5L\\n₹ 22.0L                                                                                               \n",
       "1                           ₹ 15.0L\\n₹ 9.5L\\n₹ 22.0L                                                                                               \n",
       "2                           ₹ 15.0L\\n₹ 9.5L\\n₹ 22.0L                                                                                               \n",
       "3                           ₹ 15.0L\\n₹ 9.5L\\n₹ 22.0L                                                                                               \n",
       "4                           ₹ 15.0L\\n₹ 9.5L\\n₹ 22.0L                                                                                               \n",
       "5                           ₹ 15.0L\\n₹ 9.5L\\n₹ 22.0L                                                                                               \n",
       "6                           ₹ 15.0L\\n₹ 9.5L\\n₹ 22.0L                                                                                               \n",
       "7                           ₹ 15.0L\\n₹ 9.5L\\n₹ 22.0L                                                                                               \n",
       "8                           ₹ 15.0L\\n₹ 9.5L\\n₹ 22.0L                                                                                               \n",
       "9                           ₹ 15.0L\\n₹ 9.5L\\n₹ 22.0L                                                                                               \n",
       "\n",
       "  <selenium.webdriver.remote.webelement.WebElement (session=\"480ffa8e8fce1a246a3e17514119abef\", element=\"f8416316-6be5-40a1-a7e0-1024f0d545f6\")>  \\\n",
       "0                          ₹ 15.0L\\n₹ 11.0L\\n₹ 21.3L                                                                                               \n",
       "1                          ₹ 15.0L\\n₹ 11.0L\\n₹ 21.3L                                                                                               \n",
       "2                          ₹ 15.0L\\n₹ 11.0L\\n₹ 21.3L                                                                                               \n",
       "3                          ₹ 15.0L\\n₹ 11.0L\\n₹ 21.3L                                                                                               \n",
       "4                          ₹ 15.0L\\n₹ 11.0L\\n₹ 21.3L                                                                                               \n",
       "5                          ₹ 15.0L\\n₹ 11.0L\\n₹ 21.3L                                                                                               \n",
       "6                          ₹ 15.0L\\n₹ 11.0L\\n₹ 21.3L                                                                                               \n",
       "7                          ₹ 15.0L\\n₹ 11.0L\\n₹ 21.3L                                                                                               \n",
       "8                          ₹ 15.0L\\n₹ 11.0L\\n₹ 21.3L                                                                                               \n",
       "9                          ₹ 15.0L\\n₹ 11.0L\\n₹ 21.3L                                                                                               \n",
       "\n",
       "  <selenium.webdriver.remote.webelement.WebElement (session=\"480ffa8e8fce1a246a3e17514119abef\", element=\"fbedd8e3-4963-4215-842b-37af2c9c1ea6\")>  \\\n",
       "0                           ₹ 13.5L\\n₹ 7.2L\\n₹ 20.5L                                                                                               \n",
       "1                           ₹ 13.5L\\n₹ 7.2L\\n₹ 20.5L                                                                                               \n",
       "2                           ₹ 13.5L\\n₹ 7.2L\\n₹ 20.5L                                                                                               \n",
       "3                           ₹ 13.5L\\n₹ 7.2L\\n₹ 20.5L                                                                                               \n",
       "4                           ₹ 13.5L\\n₹ 7.2L\\n₹ 20.5L                                                                                               \n",
       "5                           ₹ 13.5L\\n₹ 7.2L\\n₹ 20.5L                                                                                               \n",
       "6                           ₹ 13.5L\\n₹ 7.2L\\n₹ 20.5L                                                                                               \n",
       "7                           ₹ 13.5L\\n₹ 7.2L\\n₹ 20.5L                                                                                               \n",
       "8                           ₹ 13.5L\\n₹ 7.2L\\n₹ 20.5L                                                                                               \n",
       "9                           ₹ 13.5L\\n₹ 7.2L\\n₹ 20.5L                                                                                               \n",
       "\n",
       "  <selenium.webdriver.remote.webelement.WebElement (session=\"480ffa8e8fce1a246a3e17514119abef\", element=\"5bf3fe02-3e35-483f-a17a-74b95e5de0da\")>  \\\n",
       "0                           ₹ 13.5L\\n₹ 8.3L\\n₹ 18.5L                                                                                               \n",
       "1                           ₹ 13.5L\\n₹ 8.3L\\n₹ 18.5L                                                                                               \n",
       "2                           ₹ 13.5L\\n₹ 8.3L\\n₹ 18.5L                                                                                               \n",
       "3                           ₹ 13.5L\\n₹ 8.3L\\n₹ 18.5L                                                                                               \n",
       "4                           ₹ 13.5L\\n₹ 8.3L\\n₹ 18.5L                                                                                               \n",
       "5                           ₹ 13.5L\\n₹ 8.3L\\n₹ 18.5L                                                                                               \n",
       "6                           ₹ 13.5L\\n₹ 8.3L\\n₹ 18.5L                                                                                               \n",
       "7                           ₹ 13.5L\\n₹ 8.3L\\n₹ 18.5L                                                                                               \n",
       "8                           ₹ 13.5L\\n₹ 8.3L\\n₹ 18.5L                                                                                               \n",
       "9                           ₹ 13.5L\\n₹ 8.3L\\n₹ 18.5L                                                                                               \n",
       "\n",
       "  <selenium.webdriver.remote.webelement.WebElement (session=\"480ffa8e8fce1a246a3e17514119abef\", element=\"1b339f68-68ad-4fb2-8d50-e094b345769f\")>  \\\n",
       "0                          ₹ 12.7L\\n₹ 10.0L\\n₹ 21.0L                                                                                               \n",
       "1                          ₹ 12.7L\\n₹ 10.0L\\n₹ 21.0L                                                                                               \n",
       "2                          ₹ 12.7L\\n₹ 10.0L\\n₹ 21.0L                                                                                               \n",
       "3                          ₹ 12.7L\\n₹ 10.0L\\n₹ 21.0L                                                                                               \n",
       "4                          ₹ 12.7L\\n₹ 10.0L\\n₹ 21.0L                                                                                               \n",
       "5                          ₹ 12.7L\\n₹ 10.0L\\n₹ 21.0L                                                                                               \n",
       "6                          ₹ 12.7L\\n₹ 10.0L\\n₹ 21.0L                                                                                               \n",
       "7                          ₹ 12.7L\\n₹ 10.0L\\n₹ 21.0L                                                                                               \n",
       "8                          ₹ 12.7L\\n₹ 10.0L\\n₹ 21.0L                                                                                               \n",
       "9                          ₹ 12.7L\\n₹ 10.0L\\n₹ 21.0L                                                                                               \n",
       "\n",
       "  <selenium.webdriver.remote.webelement.WebElement (session=\"480ffa8e8fce1a246a3e17514119abef\", element=\"7aaa1d0d-6e09-4ec2-ad2d-66739fa4a60d\")>  \\\n",
       "0                           ₹ 12.4L\\n₹ 8.5L\\n₹ 15.0L                                                                                               \n",
       "1                           ₹ 12.4L\\n₹ 8.5L\\n₹ 15.0L                                                                                               \n",
       "2                           ₹ 12.4L\\n₹ 8.5L\\n₹ 15.0L                                                                                               \n",
       "3                           ₹ 12.4L\\n₹ 8.5L\\n₹ 15.0L                                                                                               \n",
       "4                           ₹ 12.4L\\n₹ 8.5L\\n₹ 15.0L                                                                                               \n",
       "5                           ₹ 12.4L\\n₹ 8.5L\\n₹ 15.0L                                                                                               \n",
       "6                           ₹ 12.4L\\n₹ 8.5L\\n₹ 15.0L                                                                                               \n",
       "7                           ₹ 12.4L\\n₹ 8.5L\\n₹ 15.0L                                                                                               \n",
       "8                           ₹ 12.4L\\n₹ 8.5L\\n₹ 15.0L                                                                                               \n",
       "9                           ₹ 12.4L\\n₹ 8.5L\\n₹ 15.0L                                                                                               \n",
       "\n",
       "  <selenium.webdriver.remote.webelement.WebElement (session=\"480ffa8e8fce1a246a3e17514119abef\", element=\"bb3a2980-7df1-4718-a519-b3bf84bdf2bb\")>  \n",
       "0                           ₹ 11.9L\\n₹ 5.8L\\n₹ 21.5L                                                                                              \n",
       "1                           ₹ 11.9L\\n₹ 5.8L\\n₹ 21.5L                                                                                              \n",
       "2                           ₹ 11.9L\\n₹ 5.8L\\n₹ 21.5L                                                                                              \n",
       "3                           ₹ 11.9L\\n₹ 5.8L\\n₹ 21.5L                                                                                              \n",
       "4                           ₹ 11.9L\\n₹ 5.8L\\n₹ 21.5L                                                                                              \n",
       "5                           ₹ 11.9L\\n₹ 5.8L\\n₹ 21.5L                                                                                              \n",
       "6                           ₹ 11.9L\\n₹ 5.8L\\n₹ 21.5L                                                                                              \n",
       "7                           ₹ 11.9L\\n₹ 5.8L\\n₹ 21.5L                                                                                              \n",
       "8                           ₹ 11.9L\\n₹ 5.8L\\n₹ 21.5L                                                                                              \n",
       "9                           ₹ 11.9L\\n₹ 5.8L\\n₹ 21.5L                                                                                              "
      ]
     },
     "execution_count": 295,
     "metadata": {},
     "output_type": "execute_result"
    }
   ],
   "source": [
    "# Create a Data Frame\n",
    "df = pd.DataFrame()\n",
    "df['Company'] = Comp_names\n",
    "df['Exp'] = Exps\n",
    "df[Salary] = Salarys\n",
    "df[0:10]"
   ]
  }
 ],
 "metadata": {
  "kernelspec": {
   "display_name": "Python 3",
   "language": "python",
   "name": "python3"
  },
  "language_info": {
   "codemirror_mode": {
    "name": "ipython",
    "version": 3
   },
   "file_extension": ".py",
   "mimetype": "text/x-python",
   "name": "python",
   "nbconvert_exporter": "python",
   "pygments_lexer": "ipython3",
   "version": "3.8.8"
  }
 },
 "nbformat": 4,
 "nbformat_minor": 5
}
