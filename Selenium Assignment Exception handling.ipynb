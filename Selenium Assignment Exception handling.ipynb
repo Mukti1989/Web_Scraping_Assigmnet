{
 "cells": [
  {
   "cell_type": "markdown",
   "id": "810f603c",
   "metadata": {},
   "source": [
    "Q-No-1 Write a python program which searches all the product under a particular product from www.amazon.in. The product to be searched will be taken as input from user. For e.g. If user input is ‘guitar’. Then search for guitars"
   ]
  },
  {
   "cell_type": "code",
   "execution_count": 1,
   "id": "14e44a9a",
   "metadata": {},
   "outputs": [],
   "source": [
    "# Importing Libraries\n",
    "import pandas as pd\n",
    "from bs4 import BeautifulSoup\n",
    "import requests\n",
    "import selenium\n",
    "from selenium import webdriver\n",
    "import time\n",
    "import re\n",
    "from selenium.common.exceptions import StaleElementReferenceException, NoSuchElementException,ElementClickInterceptedException\n",
    "import warnings\n",
    "warnings.filterwarnings('ignore')"
   ]
  },
  {
   "cell_type": "code",
   "execution_count": 65,
   "id": "bd28bf69",
   "metadata": {},
   "outputs": [],
   "source": [
    "driver = webdriver.Chrome(r'C:\\Users\\Mukti\\Downloads\\chromedriver_win32\\chromedriver.exe')\n",
    "driver.get(\"https://www.amazon.in/\")"
   ]
  },
  {
   "cell_type": "code",
   "execution_count": 66,
   "id": "1d619535",
   "metadata": {},
   "outputs": [
    {
     "name": "stdout",
     "output_type": "stream",
     "text": [
      "Enter the product you want to search : Guitar\n"
     ]
    }
   ],
   "source": [
    "user_inp = input('Enter the product you want to search : ')"
   ]
  },
  {
   "cell_type": "code",
   "execution_count": 67,
   "id": "290a090c",
   "metadata": {},
   "outputs": [],
   "source": [
    "search_bar = driver.find_element_by_id(\"twotabsearchtextbox\")    # Locating searc_bar by id\n",
    "search_bar.clear()                                               # clearing search_bar\n",
    "search_bar.send_keys(user_inp)                                   # sending user input to search bar\n",
    "search_button = driver.find_element_by_xpath('//div[@class=\"nav-search-submit nav-sprite\"]/span/input')       # Locating search_button by xpath\n",
    "search_button.click()                                                                # Clicking the button to start search"
   ]
  },
  {
   "cell_type": "markdown",
   "id": "e4b9c118",
   "metadata": {},
   "source": [
    "Q-2-In the above question, now scrape the following details of each product listed in first 3 pages of your search results and save it in a data frame and csv. In case if any product has less than 3 pages in search results then scrape all the products available under that product name. Details to be scraped are: \"Brand Name\", \"Name of the Product\", \"Price\", \"Return/Exchange\", \"Expected Delivery\", \"Availability\" and “Product URL”. In case, if any of the details are missing for any of the product then replace it by “-“."
   ]
  },
  {
   "cell_type": "code",
   "execution_count": 96,
   "id": "391b181d",
   "metadata": {},
   "outputs": [],
   "source": [
    "urls =[]\n",
    "for i in driver.find_elements_by_xpath(\"//a[@class='a-link-normal s-link-style a-text-normal']\"):\n",
    "    urls.append(i.get_attribute(\"href\"))"
   ]
  },
  {
   "cell_type": "code",
   "execution_count": 97,
   "id": "1842db45",
   "metadata": {},
   "outputs": [
    {
     "data": {
      "text/plain": [
       "['https://www.amazon.in/gp/slredirect/picassoRedirect.html/ref=pa_sp_atf_next_aps_sr_pg3_1?ie=UTF8&adId=A023995217OB6HZ0YV1Y2&url=%2FVault-ST1-Premium-Electric-Guitar%2Fdp%2FB09GM1N58H%2Fref%3Dsr_1_97_sspa%3Fkeywords%3DGuitar%26qid%3D1643206825%26sr%3D8-97-spons%26psc%3D1&qualifier=1643206825&id=4787988067810717&widgetName=sp_atf_next',\n",
       " 'https://www.amazon.in/gp/slredirect/picassoRedirect.html/ref=pa_sp_atf_next_aps_sr_pg3_1?ie=UTF8&adId=A0781470356P60BY9NFAO&url=%2FHOMME-STORE-Instrument-Educational-Instruments%2Fdp%2FB09MM9NBZC%2Fref%3Dsr_1_98_sspa%3Fkeywords%3DGuitar%26qid%3D1643206825%26sr%3D8-98-spons%26psc%3D1&qualifier=1643206825&id=4787988067810717&widgetName=sp_atf_next',\n",
       " 'https://www.amazon.in/gp/slredirect/picassoRedirect.html/ref=pa_sp_atf_next_aps_sr_pg3_1?ie=UTF8&adId=A03556501E7XCWLLENLLC&url=%2FGuitar-Straps-Printed-Polyster-Electric%2Fdp%2FB08XB55TXP%2Fref%3Dsr_1_99_sspa%3Fkeywords%3DGuitar%26qid%3D1643206825%26sr%3D8-99-spons%26psc%3D1&qualifier=1643206825&id=4787988067810717&widgetName=sp_atf_next',\n",
       " 'https://www.amazon.in/CVANU-Fretboard-Fingerboard-Acoustic-Electric-Multicolor/dp/B09FXMY35Q/ref=sr_1_100?keywords=Guitar&qid=1643206825&sr=8-100',\n",
       " 'https://www.amazon.in/Ultimate-Concert-Cutaway-Acoustic-Bajaao/dp/B08WHWKKV5/ref=sr_1_101?keywords=Guitar&qid=1643206825&sr=8-101',\n",
       " 'https://www.amazon.in/Techblaze-Pieces-Guitar-Acoustic-Machine/dp/B08NPJKLD9/ref=sr_1_102?keywords=Guitar&qid=1643206825&sr=8-102',\n",
       " 'https://www.amazon.in/JUAREZ-Arp%C3%A9ggio-Acoustic-Guitar-Spruce/dp/B08KGCFXKP/ref=sr_1_103?keywords=Guitar&qid=1643206825&sr=8-103',\n",
       " 'https://www.amazon.in/JUAREZ-JRZ-ST01M-ELECTRIC-fingerboards-sunburst/dp/B08QNTL9YM/ref=sr_1_104?keywords=Guitar&qid=1643206825&sr=8-104',\n",
       " 'https://www.amazon.in/Yamaha-FS100C-Acoustic-Guitar-Natural/dp/B08Z3DVN8N/ref=sr_1_105?keywords=Guitar&qid=1643206825&sr=8-105',\n",
       " 'https://www.amazon.in/JRZ38C-Strings-Acoustic-Cutaway-Mahogany/dp/B071JM8C6T/ref=sr_1_106?keywords=Guitar&qid=1643206825&sr=8-106',\n",
       " 'https://www.amazon.in/Kadence-Frontier-Acoustic-Foldable-Strings/dp/B01CJJGEVS/ref=sr_1_107?keywords=Guitar&qid=1643206825&sr=8-107',\n",
       " 'https://www.amazon.in/Gibzs-38-C-Acoustic-Guitar-Natural/dp/B07M8KBTX8/ref=sr_1_108?keywords=Guitar&qid=1643206825&sr=8-108',\n",
       " 'https://www.amazon.in/SG-Musical-Acoustic-Strings-strings/dp/B095JQC3VC/ref=sr_1_109?keywords=Guitar&qid=1643206825&sr=8-109',\n",
       " 'https://www.amazon.in/Fender-Dread-String-Acoustic-Guitar/dp/B07RM21D8X/ref=sr_1_110?keywords=Guitar&qid=1643206825&sr=8-110',\n",
       " 'https://www.amazon.in/Sawtooth-Mahogany-Acoustic-Electric-Dreadnought-Sampler/dp/B0785XJWJP/ref=sr_1_111?keywords=Guitar&qid=1643206825&sr=8-111',\n",
       " 'https://www.amazon.in/Vault-ST1-Premium-Electric-Guitar/dp/B09GLYTF76/ref=sr_1_112?keywords=Guitar&qid=1643206825&sr=8-112',\n",
       " 'https://www.amazon.in/JUAREZ-Arpeggio-Semi-Acoustic-Rosewood-Fretboard/dp/B08LBG3F36/ref=sr_1_113?keywords=Guitar&qid=1643206825&sr=8-113',\n",
       " 'https://www.amazon.in/Musical-String-Acoustic-Metalic-Finished/dp/B08Y6F6KHR/ref=sr_1_114?keywords=Guitar&qid=1643206825&sr=8-114',\n",
       " 'https://www.amazon.in/Medellin-Premium-Acoustic-Guitar-Starter/dp/B099MVN9P9/ref=sr_1_115?keywords=Guitar&qid=1643206825&sr=8-115',\n",
       " 'https://www.amazon.in/Blueberry-38C-Acoustic-Strings-Natural/dp/B08KLNFL2Y/ref=sr_1_116?keywords=Guitar&qid=1643206825&sr=8-116',\n",
       " 'https://www.amazon.in/Yamaha-FS100C-Acoustic-Guitars-Natural/dp/B00QKD79QE/ref=sr_1_117?keywords=Guitar&qid=1643206825&sr=8-117',\n",
       " 'https://www.amazon.in/dp/B09R71YP1X/ref=sr_1_118?keywords=Guitar&qid=1643206825&sr=8-118',\n",
       " 'https://www.amazon.in/dp/B09R71V5DN/ref=sr_1_119?keywords=Guitar&qid=1643206825&sr=8-119',\n",
       " 'https://www.amazon.in/Belear-Zebrawood-Acoustic-Guitar-Action/dp/B09CPQTZZT/ref=sr_1_120?keywords=Guitar&qid=1643206825&sr=8-120',\n",
       " 'https://www.amazon.in/Belear-MJT-Acoustic-Guitar-Action/dp/B09CTGLVVD/ref=sr_1_121?keywords=Guitar&qid=1643206825&sr=8-121',\n",
       " 'https://www.amazon.in/SG-MUSICAL-Guitar-String-Plectrums/dp/B095JSQ1NW/ref=sr_1_122?keywords=Guitar&qid=1643206825&sr=8-122',\n",
       " 'https://www.amazon.in/Yamaha-Electric-Acoustic-FSX80C-Dreadnought-Plectrums/dp/B09HSJ6GPQ/ref=sr_1_123?keywords=Guitar&qid=1643206825&sr=8-123',\n",
       " 'https://www.amazon.in/4-String-Acoustic-Guitar-Learning-Brown/dp/B08RF2CQH3/ref=sr_1_124?keywords=Guitar&qid=1643206825&sr=8-124',\n",
       " 'https://www.amazon.in/Vault-Strat-String-Electric-Guitar/dp/B08F2BJC5W/ref=sr_1_125?keywords=Guitar&qid=1643206825&sr=8-125',\n",
       " 'https://www.amazon.in/Ketostics-Rosewood-Acoustic-Plectrums-sunbrust/dp/B09NSXMVF4/ref=sr_1_126?keywords=Guitar&qid=1643206825&sr=8-126',\n",
       " 'https://www.amazon.in/DEVICE-URBAN-INFOTECH-Rotational-Electronic/dp/B081LG3X5H/ref=sr_1_127?keywords=Guitar&qid=1643206825&sr=8-127',\n",
       " 'https://www.amazon.in/Fender-FA135CE-Electric-Acoustic-Plectrums/dp/B09NHP7FPF/ref=sr_1_128?keywords=Guitar&qid=1643206825&sr=8-128',\n",
       " 'https://www.amazon.in/JUAREZ-Arpeggio-Acoustic-Rosewood-Fretboard/dp/B08LBHB547/ref=sr_1_129?keywords=Guitar&qid=1643206825&sr=8-129',\n",
       " 'https://www.amazon.in/Yamaha-F310-6-Strings-Acoustic-Natural/dp/B000RVYW7E/ref=sr_1_130?keywords=Guitar&qid=1643206825&sr=8-130',\n",
       " 'https://www.amazon.in/DALUCI-Acoustic-Guitar-Strings-Shades/dp/B08LZLNZFR/ref=sr_1_131?keywords=Guitar&qid=1643206825&sr=8-131',\n",
       " 'https://www.amazon.in/Blueberry-B-D38-Acoustic-Inbuilt-Sunburst/dp/B08LNP8KGS/ref=sr_1_132?keywords=Guitar&qid=1643206825&sr=8-132',\n",
       " 'https://www.amazon.in/JUAREZ-Arpeggio-Semi-Acoustic-Rosewood-Fretboard/dp/B08LBGWG6P/ref=sr_1_133?keywords=Guitar&qid=1643206825&sr=8-133',\n",
       " 'https://www.amazon.in/TECHBLAZE-Guitar-Acoustic-Machine-pieces/dp/B08X6MGB3V/ref=sr_1_134?keywords=Guitar&qid=1643206825&sr=8-134',\n",
       " 'https://www.amazon.in/Belear-Spruce-Cutaway-Acoustic-Guitar/dp/B08YKDMY8D/ref=sr_1_135?keywords=Guitar&qid=1643206825&sr=8-135',\n",
       " 'https://www.amazon.in/Techno-Acoustic-acoustic-professional-beginner/dp/B09P5B335C/ref=sr_1_136?keywords=Guitar&qid=1643206825&sr=8-136',\n",
       " 'https://www.amazon.in/Jyotaksh-Special-Acoustic-Plectrums-Cambridge/dp/B09C3R1BB8/ref=sr_1_137?keywords=Guitar&qid=1643206825&sr=8-137',\n",
       " 'https://www.amazon.in/Yamaha-PAC012-Electric-Guitar-Metallic/dp/B000MLY7XS/ref=sr_1_138?keywords=Guitar&qid=1643206825&sr=8-138',\n",
       " 'https://www.amazon.in/Kadence-6-strings-Acoustic-Guitar-Natural/dp/B07JKYWGJN/ref=sr_1_139?keywords=Guitar&qid=1643206825&sr=8-139',\n",
       " 'https://www.amazon.in/musical-acoustic-venus-guitar-2plectrums/dp/B08NFYQSXD/ref=sr_1_140?keywords=Guitar&qid=1643206825&sr=8-140',\n",
       " 'https://www.amazon.in/JUAREZ-Arpeggio-Acoustic-Rosewood-Fretboard/dp/B08LBGLRFC/ref=sr_1_141?keywords=Guitar&qid=1643206825&sr=8-141',\n",
       " 'https://www.amazon.in/JUAREZ-Arp%C3%A9ggio-Acoustic-Guitar-Spruce/dp/B08KHFGKWJ/ref=sr_1_142?keywords=Guitar&qid=1643206825&sr=8-142',\n",
       " 'https://www.amazon.in/Mustang-Accessories-Acoustic-Strings-Beginners/dp/B07RZ6KDL7/ref=sr_1_143?keywords=Guitar&qid=1643206825&sr=8-143',\n",
       " 'https://www.amazon.in/Giuson-Electra-Rosewood-Fretboard-Acoustic/dp/B08J4789NG/ref=sr_1_144?keywords=Guitar&qid=1643206825&sr=8-144',\n",
       " 'https://www.amazon.in/Mustang-Guitar-Tuner-Frame-Stand/dp/B07FHL96N9/ref=sr_1_145?keywords=Guitar&qid=1643206825&sr=8-145',\n",
       " 'https://www.amazon.in/Blueberry-Acoustic-Guitar-Strings-Redburst/dp/B09N9R525J/ref=sr_1_146?keywords=Guitar&qid=1643206825&sr=8-146',\n",
       " 'https://www.amazon.in/Blueberry-Acoustic-Guitar-Strings-Picks/dp/B08L51YW38/ref=sr_1_147?keywords=Guitar&qid=1643206825&sr=8-147']"
      ]
     },
     "execution_count": 97,
     "metadata": {},
     "output_type": "execute_result"
    }
   ],
   "source": [
    "urls"
   ]
  },
  {
   "cell_type": "code",
   "execution_count": 75,
   "id": "5b80c222",
   "metadata": {},
   "outputs": [],
   "source": [
    "Product={}\n",
    "Product['Brand']=[]\n",
    "Product['Name_of_Product']=[]\n",
    "Product['Price']=[]\n",
    "Product['Return_Exchange']=[]\n",
    "Product['Expected_Delivery']=[] \n",
    "Product['Availability']=[]\n",
    "Product['URL']=[]"
   ]
  },
  {
   "cell_type": "code",
   "execution_count": 98,
   "id": "979697b1",
   "metadata": {},
   "outputs": [],
   "source": [
    "start=0\n",
    "end=3\n",
    "for page in range(start,end):\n",
    "    time.sleep(4)\n",
    "       \n",
    "    nxt_button=driver.find_elements_by_xpath(\"//a[@class='s-pagination-item s-pagination-button']\")\n",
    "    try:\n",
    "        driver.get(nxt_button[1].get_attribute('href')) # getting the link from the list for next page\n",
    "    except:\n",
    "        driver.get(nxt_button[0].get_attribute('href'))        "
   ]
  },
  {
   "cell_type": "code",
   "execution_count": 101,
   "id": "7cae8654",
   "metadata": {},
   "outputs": [],
   "source": [
    "for i in urls:\n",
    "    driver.get(i)\n",
    "    time.sleep(3)\n",
    "    \n",
    "    try:\n",
    "        brand = driver.find_element_by_xpath('//h1[@id=\"title\"]')      # Extracting Brand from xpath\n",
    "        Product['Brand'].append(brand.text)\n",
    "    except NoSuchElementException:\n",
    "        Product['Brand'].append('-')\n",
    "    \n",
    "    try:\n",
    "        name = driver.find_element_by_xpath('//1[@class=\"a-section a-spacing-none\"]')      # Extracting Name from xpath\n",
    "        Product['Name_of_Product'].append(name.text)\n",
    "    except NoSuchElementException:\n",
    "        Product['Name_of_Product'].append('-')\n",
    "    \n",
    "    try:\n",
    "        price = driver.find_element_by_xpath('//td[@class=\"a-span12\"]')            # Extracting Price from xpath\n",
    "        Product['Price'].append(price.text)\n",
    "    except NoSuchElementException:\n",
    "        Product['Price'].append('-')\n",
    "    try:                                                                                     # Extracting Return/Exchange policy from xpath\n",
    "        ret = driver.find_element_by_xpath('//a[@class=\"a-size-small a-link-normal a-text-normal\"]')\n",
    "        Product['Return_Exchange'].append(ret.text)\n",
    "    except NoSuchElementException:\n",
    "        Product['Return_Exchange'].append('-')\n",
    "    try:\n",
    "        delivry = driver.find_element_by_xpath('//div[@class=\"a-column a-span12 a-text-left\"]') # Extracting Expected Delivery from xpath\n",
    "        Product['Expected_Delivery'].append(delivry.text)\n",
    "    except NoSuchElementException:\n",
    "        Product['Expected_Delivery'].append('-')\n",
    "    \n",
    "    try:\n",
    "        avl = driver.find_element_by_xpath('//div[@id=\"availabilityInsideBuyBox_feature_div\"]') # Extracting Availability from xpath\n",
    "        Product['Availability'].append(avl.text)\n",
    "    except NoSuchElementException:\n",
    "        Product['Availability'].append('-')"
   ]
  },
  {
   "cell_type": "code",
   "execution_count": 102,
   "id": "db591f7b",
   "metadata": {},
   "outputs": [
    {
     "ename": "ValueError",
     "evalue": "arrays must all be same length",
     "output_type": "error",
     "traceback": [
      "\u001b[1;31m---------------------------------------------------------------------------\u001b[0m",
      "\u001b[1;31mValueError\u001b[0m                                Traceback (most recent call last)",
      "\u001b[1;32m<ipython-input-102-535d534b28b6>\u001b[0m in \u001b[0;36m<module>\u001b[1;34m\u001b[0m\n\u001b[1;32m----> 1\u001b[1;33m \u001b[0mdf\u001b[0m \u001b[1;33m=\u001b[0m \u001b[0mpd\u001b[0m\u001b[1;33m.\u001b[0m\u001b[0mDataFrame\u001b[0m\u001b[1;33m.\u001b[0m\u001b[0mfrom_dict\u001b[0m\u001b[1;33m(\u001b[0m\u001b[0mProduct\u001b[0m\u001b[1;33m)\u001b[0m\u001b[1;33m\u001b[0m\u001b[1;33m\u001b[0m\u001b[0m\n\u001b[0m\u001b[0;32m      2\u001b[0m \u001b[0mdf\u001b[0m\u001b[1;33m\u001b[0m\u001b[1;33m\u001b[0m\u001b[0m\n",
      "\u001b[1;32mC:\\ProgramData\\Anaconda3\\lib\\site-packages\\pandas\\core\\frame.py\u001b[0m in \u001b[0;36mfrom_dict\u001b[1;34m(cls, data, orient, dtype, columns)\u001b[0m\n\u001b[0;32m   1371\u001b[0m             \u001b[1;32mraise\u001b[0m \u001b[0mValueError\u001b[0m\u001b[1;33m(\u001b[0m\u001b[1;34m\"only recognize index or columns for orient\"\u001b[0m\u001b[1;33m)\u001b[0m\u001b[1;33m\u001b[0m\u001b[1;33m\u001b[0m\u001b[0m\n\u001b[0;32m   1372\u001b[0m \u001b[1;33m\u001b[0m\u001b[0m\n\u001b[1;32m-> 1373\u001b[1;33m         \u001b[1;32mreturn\u001b[0m \u001b[0mcls\u001b[0m\u001b[1;33m(\u001b[0m\u001b[0mdata\u001b[0m\u001b[1;33m,\u001b[0m \u001b[0mindex\u001b[0m\u001b[1;33m=\u001b[0m\u001b[0mindex\u001b[0m\u001b[1;33m,\u001b[0m \u001b[0mcolumns\u001b[0m\u001b[1;33m=\u001b[0m\u001b[0mcolumns\u001b[0m\u001b[1;33m,\u001b[0m \u001b[0mdtype\u001b[0m\u001b[1;33m=\u001b[0m\u001b[0mdtype\u001b[0m\u001b[1;33m)\u001b[0m\u001b[1;33m\u001b[0m\u001b[1;33m\u001b[0m\u001b[0m\n\u001b[0m\u001b[0;32m   1374\u001b[0m \u001b[1;33m\u001b[0m\u001b[0m\n\u001b[0;32m   1375\u001b[0m     def to_numpy(\n",
      "\u001b[1;32mC:\\ProgramData\\Anaconda3\\lib\\site-packages\\pandas\\core\\frame.py\u001b[0m in \u001b[0;36m__init__\u001b[1;34m(self, data, index, columns, dtype, copy)\u001b[0m\n\u001b[0;32m    527\u001b[0m \u001b[1;33m\u001b[0m\u001b[0m\n\u001b[0;32m    528\u001b[0m         \u001b[1;32melif\u001b[0m \u001b[0misinstance\u001b[0m\u001b[1;33m(\u001b[0m\u001b[0mdata\u001b[0m\u001b[1;33m,\u001b[0m \u001b[0mdict\u001b[0m\u001b[1;33m)\u001b[0m\u001b[1;33m:\u001b[0m\u001b[1;33m\u001b[0m\u001b[1;33m\u001b[0m\u001b[0m\n\u001b[1;32m--> 529\u001b[1;33m             \u001b[0mmgr\u001b[0m \u001b[1;33m=\u001b[0m \u001b[0minit_dict\u001b[0m\u001b[1;33m(\u001b[0m\u001b[0mdata\u001b[0m\u001b[1;33m,\u001b[0m \u001b[0mindex\u001b[0m\u001b[1;33m,\u001b[0m \u001b[0mcolumns\u001b[0m\u001b[1;33m,\u001b[0m \u001b[0mdtype\u001b[0m\u001b[1;33m=\u001b[0m\u001b[0mdtype\u001b[0m\u001b[1;33m)\u001b[0m\u001b[1;33m\u001b[0m\u001b[1;33m\u001b[0m\u001b[0m\n\u001b[0m\u001b[0;32m    530\u001b[0m         \u001b[1;32melif\u001b[0m \u001b[0misinstance\u001b[0m\u001b[1;33m(\u001b[0m\u001b[0mdata\u001b[0m\u001b[1;33m,\u001b[0m \u001b[0mma\u001b[0m\u001b[1;33m.\u001b[0m\u001b[0mMaskedArray\u001b[0m\u001b[1;33m)\u001b[0m\u001b[1;33m:\u001b[0m\u001b[1;33m\u001b[0m\u001b[1;33m\u001b[0m\u001b[0m\n\u001b[0;32m    531\u001b[0m             \u001b[1;32mimport\u001b[0m \u001b[0mnumpy\u001b[0m\u001b[1;33m.\u001b[0m\u001b[0mma\u001b[0m\u001b[1;33m.\u001b[0m\u001b[0mmrecords\u001b[0m \u001b[1;32mas\u001b[0m \u001b[0mmrecords\u001b[0m\u001b[1;33m\u001b[0m\u001b[1;33m\u001b[0m\u001b[0m\n",
      "\u001b[1;32mC:\\ProgramData\\Anaconda3\\lib\\site-packages\\pandas\\core\\internals\\construction.py\u001b[0m in \u001b[0;36minit_dict\u001b[1;34m(data, index, columns, dtype)\u001b[0m\n\u001b[0;32m    285\u001b[0m             \u001b[0marr\u001b[0m \u001b[1;32mif\u001b[0m \u001b[1;32mnot\u001b[0m \u001b[0mis_datetime64tz_dtype\u001b[0m\u001b[1;33m(\u001b[0m\u001b[0marr\u001b[0m\u001b[1;33m)\u001b[0m \u001b[1;32melse\u001b[0m \u001b[0marr\u001b[0m\u001b[1;33m.\u001b[0m\u001b[0mcopy\u001b[0m\u001b[1;33m(\u001b[0m\u001b[1;33m)\u001b[0m \u001b[1;32mfor\u001b[0m \u001b[0marr\u001b[0m \u001b[1;32min\u001b[0m \u001b[0marrays\u001b[0m\u001b[1;33m\u001b[0m\u001b[1;33m\u001b[0m\u001b[0m\n\u001b[0;32m    286\u001b[0m         ]\n\u001b[1;32m--> 287\u001b[1;33m     \u001b[1;32mreturn\u001b[0m \u001b[0marrays_to_mgr\u001b[0m\u001b[1;33m(\u001b[0m\u001b[0marrays\u001b[0m\u001b[1;33m,\u001b[0m \u001b[0mdata_names\u001b[0m\u001b[1;33m,\u001b[0m \u001b[0mindex\u001b[0m\u001b[1;33m,\u001b[0m \u001b[0mcolumns\u001b[0m\u001b[1;33m,\u001b[0m \u001b[0mdtype\u001b[0m\u001b[1;33m=\u001b[0m\u001b[0mdtype\u001b[0m\u001b[1;33m)\u001b[0m\u001b[1;33m\u001b[0m\u001b[1;33m\u001b[0m\u001b[0m\n\u001b[0m\u001b[0;32m    288\u001b[0m \u001b[1;33m\u001b[0m\u001b[0m\n\u001b[0;32m    289\u001b[0m \u001b[1;33m\u001b[0m\u001b[0m\n",
      "\u001b[1;32mC:\\ProgramData\\Anaconda3\\lib\\site-packages\\pandas\\core\\internals\\construction.py\u001b[0m in \u001b[0;36marrays_to_mgr\u001b[1;34m(arrays, arr_names, index, columns, dtype, verify_integrity)\u001b[0m\n\u001b[0;32m     78\u001b[0m         \u001b[1;31m# figure out the index, if necessary\u001b[0m\u001b[1;33m\u001b[0m\u001b[1;33m\u001b[0m\u001b[1;33m\u001b[0m\u001b[0m\n\u001b[0;32m     79\u001b[0m         \u001b[1;32mif\u001b[0m \u001b[0mindex\u001b[0m \u001b[1;32mis\u001b[0m \u001b[1;32mNone\u001b[0m\u001b[1;33m:\u001b[0m\u001b[1;33m\u001b[0m\u001b[1;33m\u001b[0m\u001b[0m\n\u001b[1;32m---> 80\u001b[1;33m             \u001b[0mindex\u001b[0m \u001b[1;33m=\u001b[0m \u001b[0mextract_index\u001b[0m\u001b[1;33m(\u001b[0m\u001b[0marrays\u001b[0m\u001b[1;33m)\u001b[0m\u001b[1;33m\u001b[0m\u001b[1;33m\u001b[0m\u001b[0m\n\u001b[0m\u001b[0;32m     81\u001b[0m         \u001b[1;32melse\u001b[0m\u001b[1;33m:\u001b[0m\u001b[1;33m\u001b[0m\u001b[1;33m\u001b[0m\u001b[0m\n\u001b[0;32m     82\u001b[0m             \u001b[0mindex\u001b[0m \u001b[1;33m=\u001b[0m \u001b[0mensure_index\u001b[0m\u001b[1;33m(\u001b[0m\u001b[0mindex\u001b[0m\u001b[1;33m)\u001b[0m\u001b[1;33m\u001b[0m\u001b[1;33m\u001b[0m\u001b[0m\n",
      "\u001b[1;32mC:\\ProgramData\\Anaconda3\\lib\\site-packages\\pandas\\core\\internals\\construction.py\u001b[0m in \u001b[0;36mextract_index\u001b[1;34m(data)\u001b[0m\n\u001b[0;32m    399\u001b[0m             \u001b[0mlengths\u001b[0m \u001b[1;33m=\u001b[0m \u001b[0mlist\u001b[0m\u001b[1;33m(\u001b[0m\u001b[0mset\u001b[0m\u001b[1;33m(\u001b[0m\u001b[0mraw_lengths\u001b[0m\u001b[1;33m)\u001b[0m\u001b[1;33m)\u001b[0m\u001b[1;33m\u001b[0m\u001b[1;33m\u001b[0m\u001b[0m\n\u001b[0;32m    400\u001b[0m             \u001b[1;32mif\u001b[0m \u001b[0mlen\u001b[0m\u001b[1;33m(\u001b[0m\u001b[0mlengths\u001b[0m\u001b[1;33m)\u001b[0m \u001b[1;33m>\u001b[0m \u001b[1;36m1\u001b[0m\u001b[1;33m:\u001b[0m\u001b[1;33m\u001b[0m\u001b[1;33m\u001b[0m\u001b[0m\n\u001b[1;32m--> 401\u001b[1;33m                 \u001b[1;32mraise\u001b[0m \u001b[0mValueError\u001b[0m\u001b[1;33m(\u001b[0m\u001b[1;34m\"arrays must all be same length\"\u001b[0m\u001b[1;33m)\u001b[0m\u001b[1;33m\u001b[0m\u001b[1;33m\u001b[0m\u001b[0m\n\u001b[0m\u001b[0;32m    402\u001b[0m \u001b[1;33m\u001b[0m\u001b[0m\n\u001b[0;32m    403\u001b[0m             \u001b[1;32mif\u001b[0m \u001b[0mhave_dicts\u001b[0m\u001b[1;33m:\u001b[0m\u001b[1;33m\u001b[0m\u001b[1;33m\u001b[0m\u001b[0m\n",
      "\u001b[1;31mValueError\u001b[0m: arrays must all be same length"
     ]
    }
   ],
   "source": [
    "df = pd.DataFrame.from_dict(Product)\n",
    "df"
   ]
  },
  {
   "cell_type": "markdown",
   "id": "0b92a2e4",
   "metadata": {},
   "source": [
    "Q-3-Write a python program to access the search bar and search button on images.google.com and scrape 10 images each for keywords ‘fruits’, ‘cars’ and ‘Machine Learning’, ‘Guitar’, ‘Cakes"
   ]
  },
  {
   "cell_type": "code",
   "execution_count": 199,
   "id": "1070b59b",
   "metadata": {},
   "outputs": [],
   "source": [
    "driver = webdriver.Chrome(r'C:\\Users\\Mukti\\Downloads\\chromedriver_win32\\chromedriver.exe')\n",
    "driver.get(\"https://images.google.com/?gws_rd=ssl\")\n",
    "soup= BeautifulSoup(driver.page_source, 'html.parser')"
   ]
  },
  {
   "cell_type": "code",
   "execution_count": 124,
   "id": "6d6b42cc",
   "metadata": {},
   "outputs": [],
   "source": [
    "search_button=driver.find_element_by_xpath(\"//*[@id='sbtc']/button/div\")\n",
    "search_field_product=driver.find_element_by_xpath(\"//input[@class='gLFyf gsfi']\")\n",
    "search_field_product.send_keys(\"fruits\")\n",
    "search_button.click()"
   ]
  },
  {
   "cell_type": "code",
   "execution_count": 158,
   "id": "dc3e7590",
   "metadata": {},
   "outputs": [],
   "source": [
    "for _ in range(10):\n",
    "    driver.execute_script(\"window.scrollBy(0,10)\")"
   ]
  },
  {
   "cell_type": "code",
   "execution_count": 159,
   "id": "0f89b44f",
   "metadata": {},
   "outputs": [
    {
     "data": {
      "text/plain": [
       "10"
      ]
     },
     "execution_count": 159,
     "metadata": {},
     "output_type": "execute_result"
    }
   ],
   "source": [
    "img_urls = []\n",
    "img_data = []\n",
    "for i in imgResults:\n",
    "    source= i.get_attribute('src')\n",
    "    if source is not None:\n",
    "        if(source[0:4] == 'http'):\n",
    "            img_urls.append(source)\n",
    "len(img_urls)"
   ]
  },
  {
   "cell_type": "code",
   "execution_count": 160,
   "id": "6a5b7ea4",
   "metadata": {},
   "outputs": [
    {
     "name": "stdout",
     "output_type": "stream",
     "text": [
      "Downloading 0 of 10 images\n",
      "Downloading 1 of 10 images\n",
      "Downloading 2 of 10 images\n",
      "Downloading 3 of 10 images\n",
      "Downloading 4 of 10 images\n",
      "Downloading 5 of 10 images\n",
      "Downloading 6 of 10 images\n",
      "Downloading 7 of 10 images\n",
      "Downloading 8 of 10 images\n",
      "Downloading 9 of 10 images\n"
     ]
    }
   ],
   "source": [
    "for i in range(len(img_urls)):\n",
    "    if i >= 10:\n",
    "        break\n",
    "    print(\"Downloading {0} of {1} images\" .format(i, 10))\n",
    "    response= requests.get(img_urls[i])\n",
    "    file = open(r\"C:\\Users\\Mukti\\Downloads\\chromedriver_win32\\Image\\fruits\"+str(i)+\".jpg\", \"wb\")\n",
    "    file.write(response.content)"
   ]
  },
  {
   "cell_type": "code",
   "execution_count": 200,
   "id": "7e6f62cf",
   "metadata": {},
   "outputs": [],
   "source": [
    "search_button=driver.find_element_by_xpath(\"//*[@id='sbtc']/button/div\")\n",
    "search_field_product=driver.find_element_by_xpath(\"//input[@class='gLFyf gsfi']\")\n",
    "search_field_product.send_keys(\"cars\")\n",
    "search_button.click()"
   ]
  },
  {
   "cell_type": "code",
   "execution_count": 207,
   "id": "ebeac7b0",
   "metadata": {},
   "outputs": [
    {
     "name": "stdout",
     "output_type": "stream",
     "text": [
      "start scrolling to generate more images on the page...\n"
     ]
    }
   ],
   "source": [
    "print(\"start scrolling to generate more images on the page...\")\n",
    "# 500 time we scroll down by 10000 in order to generate more images on the website\n",
    "for _ in range(100):\n",
    "    driver.execute_script(\"window.scrollBy(0,10000)\")"
   ]
  },
  {
   "cell_type": "code",
   "execution_count": 208,
   "id": "4d326e26",
   "metadata": {},
   "outputs": [],
   "source": [
    "imgResults = driver.find_elements_by_xpath('//img[@class=\"rg_i Q4LuWd\"]')"
   ]
  },
  {
   "cell_type": "code",
   "execution_count": 209,
   "id": "7f02f52c",
   "metadata": {},
   "outputs": [
    {
     "data": {
      "text/plain": [
       "80"
      ]
     },
     "execution_count": 209,
     "metadata": {},
     "output_type": "execute_result"
    }
   ],
   "source": [
    "img_urls = []\n",
    "img_data = []\n",
    "for i in imgResults:\n",
    "    source= i.get_attribute('src')\n",
    "    if source is not None:\n",
    "        if(source[0:4] == 'http'):\n",
    "            img_urls.append(source)\n",
    "len(img_urls)"
   ]
  },
  {
   "cell_type": "code",
   "execution_count": 210,
   "id": "298309cc",
   "metadata": {},
   "outputs": [
    {
     "name": "stdout",
     "output_type": "stream",
     "text": [
      "Downloading 0 of 10 images\n",
      "Downloading 1 of 10 images\n",
      "Downloading 2 of 10 images\n",
      "Downloading 3 of 10 images\n",
      "Downloading 4 of 10 images\n",
      "Downloading 5 of 10 images\n",
      "Downloading 6 of 10 images\n",
      "Downloading 7 of 10 images\n",
      "Downloading 8 of 10 images\n",
      "Downloading 9 of 10 images\n"
     ]
    }
   ],
   "source": [
    "for i in range(len(img_urls)):\n",
    "    if i >= 10:\n",
    "        break\n",
    "    print(\"Downloading {0} of {1} images\" .format(i, 10))\n",
    "    response= requests.get(img_urls[i])\n",
    "    file = open(r\"C:\\Users\\Mukti\\Downloads\\chromedriver_win32\\cars\"+str(i)+\".jpg\", \"wb\")\n",
    "    file.write(response.content)"
   ]
  },
  {
   "cell_type": "code",
   "execution_count": 215,
   "id": "0b1b5479",
   "metadata": {},
   "outputs": [],
   "source": [
    "search_button=driver.find_element_by_xpath(\"//*[@id='sbtc']/button/div\")\n",
    "search_field_product=driver.find_element_by_xpath(\"//input[@class='gLFyf gsfi']\")\n",
    "search_field_product.send_keys(\"Machine Learning\")\n",
    "search_button.click()"
   ]
  },
  {
   "cell_type": "code",
   "execution_count": 216,
   "id": "b37ef7ff",
   "metadata": {},
   "outputs": [
    {
     "name": "stdout",
     "output_type": "stream",
     "text": [
      "start scrolling to generate more images on the page...\n"
     ]
    }
   ],
   "source": [
    "print(\"start scrolling to generate more images on the page...\")\n",
    "# 500 time we scroll down by 10000 in order to generate more images on the website\n",
    "for _ in range(100):\n",
    "    driver.execute_script(\"window.scrollBy(0,10000)\")"
   ]
  },
  {
   "cell_type": "code",
   "execution_count": 217,
   "id": "f13e6469",
   "metadata": {},
   "outputs": [],
   "source": [
    "imgResults = driver.find_elements_by_xpath('//img[@class=\"rg_i Q4LuWd\"]')"
   ]
  },
  {
   "cell_type": "code",
   "execution_count": 218,
   "id": "f9d89cb9",
   "metadata": {},
   "outputs": [
    {
     "data": {
      "text/plain": [
       "45"
      ]
     },
     "execution_count": 218,
     "metadata": {},
     "output_type": "execute_result"
    }
   ],
   "source": [
    "img_urls = []\n",
    "img_data = []\n",
    "for i in imgResults:\n",
    "    source= i.get_attribute('src')\n",
    "    if source is not None:\n",
    "        if(source[0:4] == 'http'):\n",
    "            img_urls.append(source)\n",
    "len(img_urls)"
   ]
  },
  {
   "cell_type": "code",
   "execution_count": 219,
   "id": "520e7f83",
   "metadata": {},
   "outputs": [
    {
     "name": "stdout",
     "output_type": "stream",
     "text": [
      "Downloading 0 of 10 images\n",
      "Downloading 1 of 10 images\n",
      "Downloading 2 of 10 images\n",
      "Downloading 3 of 10 images\n",
      "Downloading 4 of 10 images\n",
      "Downloading 5 of 10 images\n",
      "Downloading 6 of 10 images\n",
      "Downloading 7 of 10 images\n",
      "Downloading 8 of 10 images\n",
      "Downloading 9 of 10 images\n"
     ]
    }
   ],
   "source": [
    "for i in range(len(img_urls)):\n",
    "    if i >= 10:\n",
    "        break\n",
    "    print(\"Downloading {0} of {1} images\" .format(i, 10))\n",
    "    response= requests.get(img_urls[i])\n",
    "    file = open(r\"C:\\Users\\Mukti\\Downloads\\chromedriver_win32\\cars\"+str(i)+\".jpg\", \"wb\")\n",
    "    file.write(response.content)"
   ]
  },
  {
   "cell_type": "markdown",
   "id": "ccc6ac38",
   "metadata": {},
   "source": [
    "Q-4- Write a python program to search for a smartphone(e.g.: Oneplus Nord, pixel 4A, etc.) on www.flipkart.com and scrape following details for all the search results displayed on 1st page. Details to be scraped: “Brand Name”, “Smartphone name”, “Colour”, “RAM”, “Storage(ROM)”, “Primary Camera”, “Secondary Camera”, “Display Size”, “Battery Capacity”, “Price”, “Product URL”. Incase if any of the details is missing then replace it by “- “. Save your results in a dataframe and CSV."
   ]
  },
  {
   "cell_type": "code",
   "execution_count": 259,
   "id": "30c3fea1",
   "metadata": {},
   "outputs": [],
   "source": [
    "driver = webdriver.Chrome(r'C:\\Users\\Mukti\\Downloads\\chromedriver_win32\\chromedriver.exe')\n",
    "driver.get(\"https://www.flipkart.com/\")"
   ]
  },
  {
   "cell_type": "code",
   "execution_count": 260,
   "id": "8cc8b6a7",
   "metadata": {},
   "outputs": [],
   "source": [
    "try:\n",
    "    login_X_button = driver.find_element_by_xpath('//button[@class=\"_2KpZ6l _2doB4z\"]')                      # Button to close login popup\n",
    "    login_X_button.click()\n",
    "except NoSuchElementException : \n",
    "    print(\"No Login page\")"
   ]
  },
  {
   "cell_type": "code",
   "execution_count": 261,
   "id": "7d811cad",
   "metadata": {},
   "outputs": [],
   "source": [
    "#search_button\n",
    "search_button=driver.find_element_by_xpath(\"//*[@id='container']/div/div[1]/div[1]/div[2]/div[2]/form/div/button\")"
   ]
  },
  {
   "cell_type": "code",
   "execution_count": 262,
   "id": "448dbe92",
   "metadata": {},
   "outputs": [],
   "source": [
    "search_field_product=driver.find_element_by_xpath(\"//input[@class='_3704LK']\")\n",
    "search_field_product.send_keys(\"pixel 4A,\")\n",
    "search_button.click()"
   ]
  },
  {
   "cell_type": "code",
   "execution_count": 263,
   "id": "c9ea9267",
   "metadata": {},
   "outputs": [],
   "source": [
    "# Fetching urls of phones coming on 1st page\n",
    "Url = []\n",
    "urls = driver.find_elements_by_xpath('//div[@class=\"_4rR01T\"]')\n",
    "for url in urls:\n",
    "    Url.append(url.get_attribute(\"href\"))"
   ]
  },
  {
   "cell_type": "code",
   "execution_count": 264,
   "id": "9f9375ad",
   "metadata": {},
   "outputs": [
    {
     "data": {
      "text/plain": [
       "24"
      ]
     },
     "execution_count": 264,
     "metadata": {},
     "output_type": "execute_result"
    }
   ],
   "source": [
    "len(Url)"
   ]
  },
  {
   "cell_type": "code",
   "execution_count": 271,
   "id": "b811224d",
   "metadata": {},
   "outputs": [
    {
     "data": {
      "text/plain": [
       "<bound method WebElement.click of <selenium.webdriver.remote.webelement.WebElement (session=\"4a05ca14996f3b0447c7ef6083eb9c0e\", element=\"8d783269-eee8-4ce4-a226-f16dc26fc75a\")>>"
      ]
     },
     "execution_count": 271,
     "metadata": {},
     "output_type": "execute_result"
    }
   ],
   "source": [
    "# Clicking using absolute xpath function\n",
    "search_btn = driver.find_element_by_xpath('/html/body/div[1]/div/div[3]/div[1]/div[2]/div[2]/div/div/div/a/div[2]/div[1]/div[1]')\n",
    "search_btn.click"
   ]
  },
  {
   "cell_type": "code",
   "execution_count": 274,
   "id": "aa4aea94",
   "metadata": {},
   "outputs": [],
   "source": [
    "search_btn.click()"
   ]
  },
  {
   "cell_type": "code",
   "execution_count": 275,
   "id": "b40edf0e",
   "metadata": {},
   "outputs": [],
   "source": [
    "Smartphone_dict = {}\n",
    "Smartphone_dict[\"Brand\"] = []\n",
    "Smartphone_dict[\"Smartphone\"] = []\n",
    "Smartphone_dict[\"Price\"]=[]\n",
    "Smartphone_dict[\"Colour\"] = []\n",
    "Smartphone_dict[\"RAM\"] = []\n",
    "Smartphone_dict[\"Primary Camera\"] = []\n",
    "Smartphone_dict[\"Display Size\"] = []\n",
    "Smartphone_dict[\"Battery Capacity\"] = []"
   ]
  },
  {
   "cell_type": "code",
   "execution_count": 279,
   "id": "7650a18d",
   "metadata": {},
   "outputs": [
    {
     "ename": "IndentationError",
     "evalue": "unexpected indent (<ipython-input-279-d72329917e8d>, line 4)",
     "output_type": "error",
     "traceback": [
      "\u001b[1;36m  File \u001b[1;32m\"<ipython-input-279-d72329917e8d>\"\u001b[1;36m, line \u001b[1;32m4\u001b[0m\n\u001b[1;33m    try:\u001b[0m\n\u001b[1;37m    ^\u001b[0m\n\u001b[1;31mIndentationError\u001b[0m\u001b[1;31m:\u001b[0m unexpected indent\n"
     ]
    }
   ],
   "source": [
    "driver.get(url)\n",
    "time.sleep(6)\n",
    "    \n",
    "    try:\n",
    "        brand = driver.find_element_by_xpath('//span[@class=\"B_NuCI\"]')      # Extracting Brand from xpath\n",
    "        Smartphone_dict[\"Brand\"].append(brand.text.split()[0])\n",
    "    except NoSuchElementException:\n",
    "        Smartphone_dict[\"Brand\"].append('-')\n",
    "        \n",
    "    try:\n",
    "        price = driver.find_element_by_xpath('//li[@class=\"_21lJbe\"]')      # Extracting Brand from xpath\n",
    "        Smartphone_dict[\"Smartphone\"].append(price.text)\n",
    "    except NoSuchElementException:\n",
    "        Smartphone_dict[\"Smartphone\"].append('-')\n",
    "        \n",
    "    try:\n",
    "        name = driver.find_element_by_xpath('//div[@class=\"_30jeq3 _16Jk6d\"]')      # Extracting Brand from xpath\n",
    "        Smartphone_dict[\"Price\"].append(name.text)\n",
    "    except NoSuchElementException:\n",
    "        Smartphone_dict[\"Price\"].append('-')\n",
    "    \n",
    "    try:\n",
    "        color = driver.find_element_by_xpath('//li[@class=\"_21lJbe\"]')      # Extracting Name from xpath\n",
    "        Smartphone_dict[\"Colour\"].append(color.text)\n",
    "    except NoSuchElementException:\n",
    "        Smartphone_dict[\"Colour\"].append('-')\n",
    "    \n",
    "    try:\n",
    "        disp_chk = driver.find_element_by_xpath('//li[@class=\"_21lJbe\"]')\n",
    "        Smartphone_dict[\"Display Size\"].append(disp_size.text)\n",
    "    except NoSuchElementException:\n",
    "        Smartphone_dict[\"Display Size\"].append('-')\n",
    "     \n",
    "    try:\n",
    "        ram = driver.find_element_by_xpath('//li[@class=\"_21lJbe\"]')         # Extracting Expected Delivery from xpath\n",
    "        Smartphone_dict[\"Storage(RAM)\"].append(rom.text)\n",
    "    except NoSuchElementException:\n",
    "        Smartphone_dict[\"Storage(RAM)\"].append('-')\n",
    "       \n",
    "    try:                                                                                    # Extracting Other Details from xpath\n",
    "        pri_cam = driver.find_element_by_xpath('//li[@class=\"_21lJbe\"]')\n",
    "        Smartphone_dict[\"Primary Camera\"].append(pri_cam.text)\n",
    "    except NoSuchElementException:\n",
    "        Smartphone_dict[\"Primary Camera\"].append('-')\n",
    "           \n",
    "    try:\n",
    "        bat_chk = driver.find_element_by_xpath('//li[@class=\"_21lJbe\"]')\n",
    "        Smartphone_dict[\"Battery Capacity\"].append(bat_cap.text)\n",
    "    except NoSuchElementException:\n",
    "        Smartphone_dict[\"Battery Capacity\"].append('-')"
   ]
  },
  {
   "cell_type": "code",
   "execution_count": 281,
   "id": "449def55",
   "metadata": {},
   "outputs": [
    {
     "data": {
      "text/plain": [
       "0"
      ]
     },
     "execution_count": 281,
     "metadata": {},
     "output_type": "execute_result"
    }
   ],
   "source": [
    "len(Smartphone_dict[\"Brand\"]), \n",
    "len(Smartphone_dict[\"Smartphone\"]), \n",
    "len(Smartphone_dict[\"Price\"]), \n",
    "len(Smartphone_dict[\"RAM\"]) ,\n",
    "len(Smartphone_dict[\"Colour\"]) ,\n",
    "len(Smartphone_dict[\"Primary Camera\"]),\n",
    "len(Smartphone_dict[\"Display Size\"]),\n",
    "len(Smartphone_dict[\"Battery Capacity\"])"
   ]
  },
  {
   "cell_type": "markdown",
   "id": "20279c1a",
   "metadata": {},
   "source": [
    "Q-5- Write a program to scrap geospatial coordinates (latitude, longitude) of a city searched on google maps."
   ]
  },
  {
   "cell_type": "code",
   "execution_count": 21,
   "id": "d8ab25a2",
   "metadata": {},
   "outputs": [],
   "source": [
    "driver = webdriver.Chrome(r'C:\\Users\\Mukti\\Downloads\\chromedriver_win32\\chromedriver.exe')\n",
    "driver.get(\"https://www.google.com/maps/@21.125498,81.914063,5z\")"
   ]
  },
  {
   "cell_type": "code",
   "execution_count": 22,
   "id": "23680a01",
   "metadata": {},
   "outputs": [
    {
     "name": "stdout",
     "output_type": "stream",
     "text": [
      "Enter City Name : ODISHA\n"
     ]
    }
   ],
   "source": [
    "city = input('Enter City Name : ')"
   ]
  },
  {
   "cell_type": "code",
   "execution_count": 23,
   "id": "93522dc4",
   "metadata": {},
   "outputs": [],
   "source": [
    "#search_button\n",
    "search_button=driver.find_element_by_xpath(\"//*[@id='searchbox-searchbutton']\")"
   ]
  },
  {
   "cell_type": "code",
   "execution_count": 24,
   "id": "e50c9a64",
   "metadata": {},
   "outputs": [],
   "source": [
    "search_field_city=driver.find_element_by_xpath(\"//input[@class='tactile-searchbox-input']\")\n",
    "search_field_city.send_keys(city)\n",
    "search_button.click()"
   ]
  },
  {
   "cell_type": "code",
   "execution_count": 25,
   "id": "1581e94b",
   "metadata": {},
   "outputs": [
    {
     "name": "stdout",
     "output_type": "stream",
     "text": [
      "URL Extracted:  https://www.google.com/maps/place/Odisha/@20.1441108,79.9356856,6z/data=!3m1!4b1!4m5!3m4!1s0x3a226aece9af3bfd:0x133625caa9cea81f!8m2!3d20.9516658!4d85.0985236\n",
      "Latitude = 20.1441108, Longitude = 79.9356856\n"
     ]
    }
   ],
   "source": [
    "try:\n",
    "    url_string = driver.current_url\n",
    "    print(\"URL Extracted: \", url_string)\n",
    "    lat_lng = re.findall(r'@(.*)data',url_string)\n",
    "    if len(lat_lng):\n",
    "        lat_lng_list = lat_lng[0].split(\",\")\n",
    "        if len(lat_lng_list)>=2:\n",
    "            lat = lat_lng_list[0]\n",
    "            lng = lat_lng_list[1]\n",
    "        print(\"Latitude = {}, Longitude = {}\".format(lat, lng))\n",
    "\n",
    "except Exception as e:\n",
    "        print(\"Error: \", str(e))"
   ]
  },
  {
   "cell_type": "markdown",
   "id": "ffb4d489",
   "metadata": {},
   "source": [
    "Q-6- Write a program to scrap details of all the funding deals for second quarter (i.e Jan 21 – March 21) from trak.in."
   ]
  },
  {
   "cell_type": "code",
   "execution_count": 128,
   "id": "2da5daec",
   "metadata": {},
   "outputs": [],
   "source": [
    "driver = webdriver.Chrome(r'C:\\Users\\Mukti\\Downloads\\chromedriver_win32\\chromedriver.exe')\n",
    "driver.get('https://trak.in/')"
   ]
  },
  {
   "cell_type": "code",
   "execution_count": 129,
   "id": "88efe376",
   "metadata": {},
   "outputs": [],
   "source": [
    "button = driver.find_element_by_xpath('//li[@id=\"menu-item-51510\"]/a').get_attribute('href')\n",
    "driver.get(button)"
   ]
  },
  {
   "cell_type": "code",
   "execution_count": 28,
   "id": "f54229bc",
   "metadata": {},
   "outputs": [],
   "source": [
    "fund_dict = {}\n",
    "fund_dict['Date'] = []\n",
    "fund_dict['Startup Name'] = []\n",
    "fund_dict['Industry/Vertical'] = []\n",
    "fund_dict['Sub-Vertical'] = []\n",
    "fund_dict['Location'] = []\n",
    "fund_dict['Investor'] = []\n",
    "fund_dict['Investment Type'] = []\n",
    "fund_dict['Amount(in USD)'] = []"
   ]
  },
  {
   "cell_type": "code",
   "execution_count": 29,
   "id": "00c952f7",
   "metadata": {},
   "outputs": [],
   "source": [
    "for i in range(48,51):\n",
    "    driver.find_element_by_xpath('//div[@id=\"tablepress-{}_wrapper\"]/div/label/select/option[4]'.format(i)).click()\n",
    "\n",
    "    # Date\n",
    "    dt = driver.find_elements_by_xpath('//table[@id=\"tablepress-{}\"]/tbody/tr/td[2]'.format(i))\n",
    "    for d in dt:\n",
    "        fund_dict['Date'].append(d.text)\n",
    "\n",
    "    # Startup Name\n",
    "    sn = driver.find_elements_by_xpath('//table[@id=\"tablepress-{}\"]/tbody/tr/td[3]'.format(i))\n",
    "    for n in sn:\n",
    "        fund_dict['Startup Name'].append(n.text)\n",
    "    \n",
    "    # Industry/Vertical\n",
    "    ind = driver.find_elements_by_xpath('//table[@id=\"tablepress-{}\"]/tbody/tr/td[4]'.format(i))\n",
    "    for n in ind:\n",
    "        fund_dict['Industry/Vertical'].append(n.text)\n",
    "    \n",
    "    # Sub-Vertical\n",
    "    sv = driver.find_elements_by_xpath('//table[@id=\"tablepress-{}\"]/tbody/tr/td[5]'.format(i))\n",
    "    for s in sv:\n",
    "        fund_dict['Sub-Vertical'].append(s.text)\n",
    "\n",
    "    # Location\n",
    "    loc = driver.find_elements_by_xpath('//table[@id=\"tablepress-{}\"]/tbody/tr/td[6]'.format(i))\n",
    "    for l in loc:\n",
    "        fund_dict['Location'].append(l.text)\n",
    "    \n",
    "    # Investor\n",
    "    inv = driver.find_elements_by_xpath('//table[@id=\"tablepress-{}\"]/tbody/tr/td[7]'.format(i))\n",
    "    for n in inv:\n",
    "        fund_dict['Investor'].append(n.text)\n",
    "    \n",
    "    # Investment Type\n",
    "    invt = driver.find_elements_by_xpath('//table[@id=\"tablepress-{}\"]/tbody/tr/td[8]'.format(i))\n",
    "    for n in invt:\n",
    "        fund_dict['Investment Type'].append(n.text)\n",
    "    \n",
    "    # Amount\n",
    "    amt = driver.find_elements_by_xpath('//table[@id=\"tablepress-{}\"]/tbody/tr/td[9]'.format(i))\n",
    "    for a in amt:\n",
    "        fund_dict['Amount(in USD)'].append(a.text)"
   ]
  },
  {
   "cell_type": "code",
   "execution_count": 30,
   "id": "1fcc9da7",
   "metadata": {},
   "outputs": [
    {
     "data": {
      "text/html": [
       "<div>\n",
       "<style scoped>\n",
       "    .dataframe tbody tr th:only-of-type {\n",
       "        vertical-align: middle;\n",
       "    }\n",
       "\n",
       "    .dataframe tbody tr th {\n",
       "        vertical-align: top;\n",
       "    }\n",
       "\n",
       "    .dataframe thead th {\n",
       "        text-align: right;\n",
       "    }\n",
       "</style>\n",
       "<table border=\"1\" class=\"dataframe\">\n",
       "  <thead>\n",
       "    <tr style=\"text-align: right;\">\n",
       "      <th></th>\n",
       "      <th>Date</th>\n",
       "      <th>Startup Name</th>\n",
       "      <th>Industry/Vertical</th>\n",
       "      <th>Sub-Vertical</th>\n",
       "      <th>Location</th>\n",
       "      <th>Investor</th>\n",
       "      <th>Investment Type</th>\n",
       "      <th>Amount(in USD)</th>\n",
       "    </tr>\n",
       "  </thead>\n",
       "  <tbody>\n",
       "    <tr>\n",
       "      <th>0</th>\n",
       "      <td>15/07/2020</td>\n",
       "      <td>Flipkart</td>\n",
       "      <td>E-commerce</td>\n",
       "      <td>E-commerce</td>\n",
       "      <td>Bangalore</td>\n",
       "      <td>Walmart Inc</td>\n",
       "      <td>M&amp;A</td>\n",
       "      <td>1,200,000,000</td>\n",
       "    </tr>\n",
       "    <tr>\n",
       "      <th>1</th>\n",
       "      <td>16/07/2020</td>\n",
       "      <td>Vedantu</td>\n",
       "      <td>EduTech</td>\n",
       "      <td>Online Tutoring</td>\n",
       "      <td>Bangalore</td>\n",
       "      <td>Coatue Management</td>\n",
       "      <td>Series D</td>\n",
       "      <td>100,000,000</td>\n",
       "    </tr>\n",
       "    <tr>\n",
       "      <th>2</th>\n",
       "      <td>16/07/2020</td>\n",
       "      <td>Crio</td>\n",
       "      <td>EduTech</td>\n",
       "      <td>Learning Platform for Developers</td>\n",
       "      <td>Bangalore</td>\n",
       "      <td>021 Capital</td>\n",
       "      <td>pre-Series A</td>\n",
       "      <td>934,160</td>\n",
       "    </tr>\n",
       "    <tr>\n",
       "      <th>3</th>\n",
       "      <td>14/07/2020</td>\n",
       "      <td>goDutch</td>\n",
       "      <td>FinTech</td>\n",
       "      <td>Group Payments</td>\n",
       "      <td>Mumbai</td>\n",
       "      <td>Matrix India,Y Combinator, Global Founders Cap...</td>\n",
       "      <td>Seed</td>\n",
       "      <td>1,700,000</td>\n",
       "    </tr>\n",
       "    <tr>\n",
       "      <th>4</th>\n",
       "      <td>13/07/2020</td>\n",
       "      <td>Mystifly</td>\n",
       "      <td>Airfare Marketplace</td>\n",
       "      <td>Ticketing, Airline Retailing, and Post-Ticketi...</td>\n",
       "      <td>Singapore and Bangalore</td>\n",
       "      <td>Recruit Co. Ltd.</td>\n",
       "      <td>pre-Series B</td>\n",
       "      <td>3,300,000</td>\n",
       "    </tr>\n",
       "    <tr>\n",
       "      <th>5</th>\n",
       "      <td>09/07/2020</td>\n",
       "      <td>JetSynthesys</td>\n",
       "      <td>Gaming and Entertainment</td>\n",
       "      <td>Gaming and Entertainment</td>\n",
       "      <td>Pune</td>\n",
       "      <td>Adar Poonawalla and Kris Gopalakrishnan.</td>\n",
       "      <td>Venture-Series Unknown</td>\n",
       "      <td>400,000</td>\n",
       "    </tr>\n",
       "    <tr>\n",
       "      <th>6</th>\n",
       "      <td>10/07/2020</td>\n",
       "      <td>gigIndia</td>\n",
       "      <td>Marketplace</td>\n",
       "      <td>Crowd Sourcing, Freelance</td>\n",
       "      <td>Pune</td>\n",
       "      <td>Incubate Fund India and Beyond Next Ventures</td>\n",
       "      <td>pre-Series A</td>\n",
       "      <td>974,200</td>\n",
       "    </tr>\n",
       "    <tr>\n",
       "      <th>7</th>\n",
       "      <td>15/07/2020</td>\n",
       "      <td>PumPumPum</td>\n",
       "      <td>Automotive Rental</td>\n",
       "      <td>Used Car-leasing platform</td>\n",
       "      <td>Gurgaon</td>\n",
       "      <td>Early Adapters Syndicate</td>\n",
       "      <td>Seed</td>\n",
       "      <td>292,800</td>\n",
       "    </tr>\n",
       "    <tr>\n",
       "      <th>8</th>\n",
       "      <td>14/07/2020</td>\n",
       "      <td>FLYX</td>\n",
       "      <td>OTT Player</td>\n",
       "      <td>Streaming Social Network</td>\n",
       "      <td>New York and Delhi</td>\n",
       "      <td>Raj Mishra, founder of AIT Global Inc</td>\n",
       "      <td>pre-Seed</td>\n",
       "      <td>200,000</td>\n",
       "    </tr>\n",
       "    <tr>\n",
       "      <th>9</th>\n",
       "      <td>13/07/2020</td>\n",
       "      <td>Open Appliances Pvt. Ltd.</td>\n",
       "      <td>Information Technology</td>\n",
       "      <td>Internet-of-Things Security Solutions</td>\n",
       "      <td>Bangalore</td>\n",
       "      <td>Unicorn India Ventures</td>\n",
       "      <td>Venture-Series Unknown</td>\n",
       "      <td>500,000</td>\n",
       "    </tr>\n",
       "    <tr>\n",
       "      <th>10</th>\n",
       "      <td>15/08/2020</td>\n",
       "      <td>Practo</td>\n",
       "      <td>HealthTech</td>\n",
       "      <td>Health care and Wellness</td>\n",
       "      <td>Bangalore</td>\n",
       "      <td>A1A Company</td>\n",
       "      <td>Series F</td>\n",
       "      <td>32,000,000</td>\n",
       "    </tr>\n",
       "    <tr>\n",
       "      <th>11</th>\n",
       "      <td>13/08/2020</td>\n",
       "      <td>Medlife</td>\n",
       "      <td>E-commerce</td>\n",
       "      <td>Online Pharmacy</td>\n",
       "      <td>Bangalore</td>\n",
       "      <td>Prasid Uno Family Trust and SC Credit Fund</td>\n",
       "      <td></td>\n",
       "      <td>23,000,000</td>\n",
       "    </tr>\n",
       "    <tr>\n",
       "      <th>12</th>\n",
       "      <td>13/08/2020</td>\n",
       "      <td>HungerBox</td>\n",
       "      <td>FoodTech</td>\n",
       "      <td>Online Food Delivery Service</td>\n",
       "      <td>Bangalore</td>\n",
       "      <td>One97, Sabre Partners Trust, Pratithi Investme...</td>\n",
       "      <td>Series D1</td>\n",
       "      <td>1,560,000</td>\n",
       "    </tr>\n",
       "    <tr>\n",
       "      <th>13</th>\n",
       "      <td>04/08/2020</td>\n",
       "      <td>Dunzo</td>\n",
       "      <td>Hyper-local Logistics</td>\n",
       "      <td>Online Delivery Services</td>\n",
       "      <td>Bangalore</td>\n",
       "      <td>Existing Backers</td>\n",
       "      <td>In Progress</td>\n",
       "      <td>30,000,000</td>\n",
       "    </tr>\n",
       "    <tr>\n",
       "      <th>14</th>\n",
       "      <td>11/08/2020</td>\n",
       "      <td>Terra.do</td>\n",
       "      <td>EduTech</td>\n",
       "      <td>Online Climate School, E-learning</td>\n",
       "      <td>Stanford, California,</td>\n",
       "      <td>Stanford Angels and Entrepreneurs (India), BEE...</td>\n",
       "      <td>Seed</td>\n",
       "      <td>1,400,000</td>\n",
       "    </tr>\n",
       "    <tr>\n",
       "      <th>15</th>\n",
       "      <td>12/08/2020</td>\n",
       "      <td>Classplus</td>\n",
       "      <td>EduTech</td>\n",
       "      <td>E-learning, Online Tutoring</td>\n",
       "      <td>Noida</td>\n",
       "      <td>Falcon Edge</td>\n",
       "      <td>In Progress</td>\n",
       "      <td>upto 15,000,000</td>\n",
       "    </tr>\n",
       "    <tr>\n",
       "      <th>16</th>\n",
       "      <td>14/08/2020</td>\n",
       "      <td>Niyo</td>\n",
       "      <td>FinTech</td>\n",
       "      <td>Financial Services</td>\n",
       "      <td>Bangalore</td>\n",
       "      <td>Niyo Solutions Inc.</td>\n",
       "      <td></td>\n",
       "      <td>6,000,000</td>\n",
       "    </tr>\n",
       "    <tr>\n",
       "      <th>17</th>\n",
       "      <td>10/08/2020</td>\n",
       "      <td>ZestMoney</td>\n",
       "      <td>FinTech</td>\n",
       "      <td>Financial Services</td>\n",
       "      <td>Bangalore</td>\n",
       "      <td>Primrose Hills Ventures</td>\n",
       "      <td></td>\n",
       "      <td>10,670,000</td>\n",
       "    </tr>\n",
       "    <tr>\n",
       "      <th>18</th>\n",
       "      <td>07/08/2020</td>\n",
       "      <td>FreshToHome</td>\n",
       "      <td>E-commerce</td>\n",
       "      <td>Food Delivery</td>\n",
       "      <td>Bangalore</td>\n",
       "      <td>Ascent Capital</td>\n",
       "      <td>Venture</td>\n",
       "      <td>16,200,000</td>\n",
       "    </tr>\n",
       "    <tr>\n",
       "      <th>19</th>\n",
       "      <td>13/08/2020</td>\n",
       "      <td>Eduvanz</td>\n",
       "      <td>FinTech</td>\n",
       "      <td>Financial Services</td>\n",
       "      <td>Mumbai</td>\n",
       "      <td>Sequoia India, Unitus</td>\n",
       "      <td>Series A</td>\n",
       "      <td>5,000,000</td>\n",
       "    </tr>\n",
       "    <tr>\n",
       "      <th>20</th>\n",
       "      <td>03/08/2020</td>\n",
       "      <td>CrowdPouch</td>\n",
       "      <td>FinTech</td>\n",
       "      <td>Financial Services</td>\n",
       "      <td>Bangalore</td>\n",
       "      <td>Elina Investments Pvt. Ltd</td>\n",
       "      <td>Angel</td>\n",
       "      <td>NA</td>\n",
       "    </tr>\n",
       "    <tr>\n",
       "      <th>21</th>\n",
       "      <td>04/08/2020</td>\n",
       "      <td>DrinkPrime</td>\n",
       "      <td>Water Purification</td>\n",
       "      <td>Water Purification</td>\n",
       "      <td>Bangalore</td>\n",
       "      <td>Sequoia Surge, ON Mauritius</td>\n",
       "      <td>Pre-Series A</td>\n",
       "      <td>2,880,000</td>\n",
       "    </tr>\n",
       "    <tr>\n",
       "      <th>22</th>\n",
       "      <td>08/09/2020</td>\n",
       "      <td>Byju’s</td>\n",
       "      <td>EduTech</td>\n",
       "      <td>Online Tutoring</td>\n",
       "      <td>Bangalore</td>\n",
       "      <td>Silver Lake, Tiger Global, General Atlantic an...</td>\n",
       "      <td>Private Equity</td>\n",
       "      <td>500,000,000</td>\n",
       "    </tr>\n",
       "    <tr>\n",
       "      <th>23</th>\n",
       "      <td>12/09/2020</td>\n",
       "      <td>mCaffeine</td>\n",
       "      <td>Personal Care</td>\n",
       "      <td>Skincare &amp; Haircare</td>\n",
       "      <td>Mumbai</td>\n",
       "      <td>Amicus Capital Private Equity I LLP, Amicus Ca...</td>\n",
       "      <td>Series B</td>\n",
       "      <td>3,000,000</td>\n",
       "    </tr>\n",
       "    <tr>\n",
       "      <th>24</th>\n",
       "      <td>09/09/2020</td>\n",
       "      <td>Qshala</td>\n",
       "      <td>EduTech</td>\n",
       "      <td>Online Curiosity Platform for Kids</td>\n",
       "      <td>Bangalore</td>\n",
       "      <td>Rainmatter Capital</td>\n",
       "      <td>Angel</td>\n",
       "      <td>370,000</td>\n",
       "    </tr>\n",
       "    <tr>\n",
       "      <th>25</th>\n",
       "      <td>02/09/2020</td>\n",
       "      <td>Winzo</td>\n",
       "      <td>Online Gaming</td>\n",
       "      <td>Online Gaming</td>\n",
       "      <td>New Delhi</td>\n",
       "      <td>Kalaari Capital Partners, IndigoEdge Managemen...</td>\n",
       "      <td>Series B</td>\n",
       "      <td>15,500,000</td>\n",
       "    </tr>\n",
       "    <tr>\n",
       "      <th>26</th>\n",
       "      <td>09/09/2020</td>\n",
       "      <td>Hippo Video</td>\n",
       "      <td>Video Customer Experience(CX) Platform</td>\n",
       "      <td>Video Customer Experience(CX) Platform</td>\n",
       "      <td>Newark, Delaware, United States of Amercia</td>\n",
       "      <td>Alpha Wave Incubation, Exfinity Venture Partne...</td>\n",
       "      <td>Series A</td>\n",
       "      <td>4,500,000</td>\n",
       "    </tr>\n",
       "    <tr>\n",
       "      <th>27</th>\n",
       "      <td>07/09/2020</td>\n",
       "      <td>Melorra</td>\n",
       "      <td>E-commerce</td>\n",
       "      <td>Online Jewelry Store</td>\n",
       "      <td>Bangalore</td>\n",
       "      <td>Shadow Holdings, Lightbox.</td>\n",
       "      <td>Debt Financing</td>\n",
       "      <td>upto 8,900,000</td>\n",
       "    </tr>\n",
       "    <tr>\n",
       "      <th>28</th>\n",
       "      <td>07/09/2020</td>\n",
       "      <td>1mg</td>\n",
       "      <td>E-commerce</td>\n",
       "      <td>Online Pharmacy</td>\n",
       "      <td>Gurgaon</td>\n",
       "      <td>Gaja Capital, Tata Capital, Partners Group</td>\n",
       "      <td>In Progress</td>\n",
       "      <td>100,000,000</td>\n",
       "    </tr>\n",
       "    <tr>\n",
       "      <th>29</th>\n",
       "      <td>31/08/2020</td>\n",
       "      <td>mfine</td>\n",
       "      <td>HealthTech</td>\n",
       "      <td>On-Demand Healthcare Services</td>\n",
       "      <td>Bangalore</td>\n",
       "      <td>Caretech Pte Inc</td>\n",
       "      <td>Series B</td>\n",
       "      <td>5,400,000</td>\n",
       "    </tr>\n",
       "    <tr>\n",
       "      <th>30</th>\n",
       "      <td>31/08/2020</td>\n",
       "      <td>Apna</td>\n",
       "      <td>Human Resources</td>\n",
       "      <td>Recruitment Platform</td>\n",
       "      <td>Bangalore</td>\n",
       "      <td>Lightspeed India and Sequoia Capital India</td>\n",
       "      <td>Series A</td>\n",
       "      <td>8,000,000</td>\n",
       "    </tr>\n",
       "    <tr>\n",
       "      <th>31</th>\n",
       "      <td>03/09/2020</td>\n",
       "      <td>Railofy</td>\n",
       "      <td>Transportation</td>\n",
       "      <td>WL &amp; RAC protection platform</td>\n",
       "      <td>Mumbai</td>\n",
       "      <td>Chiratae Ventures</td>\n",
       "      <td>Seed</td>\n",
       "      <td>950,000</td>\n",
       "    </tr>\n",
       "    <tr>\n",
       "      <th>32</th>\n",
       "      <td>08/09/2020</td>\n",
       "      <td>Cell Propulsion</td>\n",
       "      <td>Automobile</td>\n",
       "      <td>Electric Mobility Solutions</td>\n",
       "      <td>Bangalore</td>\n",
       "      <td>growX Ventures and Micelio</td>\n",
       "      <td>pre-Series A</td>\n",
       "      <td>NA</td>\n",
       "    </tr>\n",
       "  </tbody>\n",
       "</table>\n",
       "</div>"
      ],
      "text/plain": [
       "          Date               Startup Name  \\\n",
       "0   15/07/2020                   Flipkart   \n",
       "1   16/07/2020                    Vedantu   \n",
       "2   16/07/2020                       Crio   \n",
       "3   14/07/2020                    goDutch   \n",
       "4   13/07/2020                   Mystifly   \n",
       "5   09/07/2020               JetSynthesys   \n",
       "6   10/07/2020                   gigIndia   \n",
       "7   15/07/2020                  PumPumPum   \n",
       "8   14/07/2020                       FLYX   \n",
       "9   13/07/2020  Open Appliances Pvt. Ltd.   \n",
       "10  15/08/2020                     Practo   \n",
       "11  13/08/2020                    Medlife   \n",
       "12  13/08/2020                  HungerBox   \n",
       "13  04/08/2020                      Dunzo   \n",
       "14  11/08/2020                   Terra.do   \n",
       "15  12/08/2020                  Classplus   \n",
       "16  14/08/2020                       Niyo   \n",
       "17  10/08/2020                  ZestMoney   \n",
       "18  07/08/2020                FreshToHome   \n",
       "19  13/08/2020                    Eduvanz   \n",
       "20  03/08/2020                 CrowdPouch   \n",
       "21  04/08/2020                 DrinkPrime   \n",
       "22  08/09/2020                     Byju’s   \n",
       "23  12/09/2020                  mCaffeine   \n",
       "24  09/09/2020                     Qshala   \n",
       "25  02/09/2020                      Winzo   \n",
       "26  09/09/2020                Hippo Video   \n",
       "27  07/09/2020                    Melorra   \n",
       "28  07/09/2020                        1mg   \n",
       "29  31/08/2020                      mfine   \n",
       "30  31/08/2020                       Apna   \n",
       "31  03/09/2020                    Railofy   \n",
       "32  08/09/2020            Cell Propulsion   \n",
       "\n",
       "                         Industry/Vertical  \\\n",
       "0                               E-commerce   \n",
       "1                                  EduTech   \n",
       "2                                  EduTech   \n",
       "3                                  FinTech   \n",
       "4                      Airfare Marketplace   \n",
       "5                 Gaming and Entertainment   \n",
       "6                              Marketplace   \n",
       "7                        Automotive Rental   \n",
       "8                               OTT Player   \n",
       "9                   Information Technology   \n",
       "10                              HealthTech   \n",
       "11                              E-commerce   \n",
       "12                                FoodTech   \n",
       "13                   Hyper-local Logistics   \n",
       "14                                 EduTech   \n",
       "15                                 EduTech   \n",
       "16                                 FinTech   \n",
       "17                                 FinTech   \n",
       "18                              E-commerce   \n",
       "19                                 FinTech   \n",
       "20                                 FinTech   \n",
       "21                      Water Purification   \n",
       "22                                 EduTech   \n",
       "23                           Personal Care   \n",
       "24                                 EduTech   \n",
       "25                           Online Gaming   \n",
       "26  Video Customer Experience(CX) Platform   \n",
       "27                              E-commerce   \n",
       "28                              E-commerce   \n",
       "29                              HealthTech   \n",
       "30                         Human Resources   \n",
       "31                          Transportation   \n",
       "32                              Automobile   \n",
       "\n",
       "                                         Sub-Vertical  \\\n",
       "0                                          E-commerce   \n",
       "1                                     Online Tutoring   \n",
       "2                    Learning Platform for Developers   \n",
       "3                                      Group Payments   \n",
       "4   Ticketing, Airline Retailing, and Post-Ticketi...   \n",
       "5                            Gaming and Entertainment   \n",
       "6                           Crowd Sourcing, Freelance   \n",
       "7                           Used Car-leasing platform   \n",
       "8                            Streaming Social Network   \n",
       "9               Internet-of-Things Security Solutions   \n",
       "10                           Health care and Wellness   \n",
       "11                                    Online Pharmacy   \n",
       "12                       Online Food Delivery Service   \n",
       "13                           Online Delivery Services   \n",
       "14                  Online Climate School, E-learning   \n",
       "15                        E-learning, Online Tutoring   \n",
       "16                                 Financial Services   \n",
       "17                                 Financial Services   \n",
       "18                                      Food Delivery   \n",
       "19                                 Financial Services   \n",
       "20                                 Financial Services   \n",
       "21                                 Water Purification   \n",
       "22                                    Online Tutoring   \n",
       "23                                Skincare & Haircare   \n",
       "24                 Online Curiosity Platform for Kids   \n",
       "25                                      Online Gaming   \n",
       "26             Video Customer Experience(CX) Platform   \n",
       "27                               Online Jewelry Store   \n",
       "28                                    Online Pharmacy   \n",
       "29                      On-Demand Healthcare Services   \n",
       "30                               Recruitment Platform   \n",
       "31                       WL & RAC protection platform   \n",
       "32                        Electric Mobility Solutions   \n",
       "\n",
       "                                      Location  \\\n",
       "0                                    Bangalore   \n",
       "1                                    Bangalore   \n",
       "2                                    Bangalore   \n",
       "3                                       Mumbai   \n",
       "4                      Singapore and Bangalore   \n",
       "5                                         Pune   \n",
       "6                                         Pune   \n",
       "7                                      Gurgaon   \n",
       "8                           New York and Delhi   \n",
       "9                                    Bangalore   \n",
       "10                                   Bangalore   \n",
       "11                                   Bangalore   \n",
       "12                                   Bangalore   \n",
       "13                                   Bangalore   \n",
       "14                       Stanford, California,   \n",
       "15                                       Noida   \n",
       "16                                   Bangalore   \n",
       "17                                   Bangalore   \n",
       "18                                   Bangalore   \n",
       "19                                      Mumbai   \n",
       "20                                   Bangalore   \n",
       "21                                   Bangalore   \n",
       "22                                   Bangalore   \n",
       "23                                      Mumbai   \n",
       "24                                   Bangalore   \n",
       "25                                   New Delhi   \n",
       "26  Newark, Delaware, United States of Amercia   \n",
       "27                                   Bangalore   \n",
       "28                                     Gurgaon   \n",
       "29                                   Bangalore   \n",
       "30                                   Bangalore   \n",
       "31                                      Mumbai   \n",
       "32                                   Bangalore   \n",
       "\n",
       "                                             Investor         Investment Type  \\\n",
       "0                                         Walmart Inc                     M&A   \n",
       "1                                   Coatue Management                Series D   \n",
       "2                                         021 Capital            pre-Series A   \n",
       "3   Matrix India,Y Combinator, Global Founders Cap...                    Seed   \n",
       "4                                    Recruit Co. Ltd.            pre-Series B   \n",
       "5            Adar Poonawalla and Kris Gopalakrishnan.  Venture-Series Unknown   \n",
       "6        Incubate Fund India and Beyond Next Ventures            pre-Series A   \n",
       "7                            Early Adapters Syndicate                    Seed   \n",
       "8               Raj Mishra, founder of AIT Global Inc                pre-Seed   \n",
       "9                              Unicorn India Ventures  Venture-Series Unknown   \n",
       "10                                        A1A Company                Series F   \n",
       "11         Prasid Uno Family Trust and SC Credit Fund                           \n",
       "12  One97, Sabre Partners Trust, Pratithi Investme...               Series D1   \n",
       "13                                   Existing Backers             In Progress   \n",
       "14  Stanford Angels and Entrepreneurs (India), BEE...                    Seed   \n",
       "15                                        Falcon Edge             In Progress   \n",
       "16                                Niyo Solutions Inc.                           \n",
       "17                            Primrose Hills Ventures                           \n",
       "18                                     Ascent Capital                 Venture   \n",
       "19                              Sequoia India, Unitus                Series A   \n",
       "20                         Elina Investments Pvt. Ltd                   Angel   \n",
       "21                        Sequoia Surge, ON Mauritius            Pre-Series A   \n",
       "22  Silver Lake, Tiger Global, General Atlantic an...          Private Equity   \n",
       "23  Amicus Capital Private Equity I LLP, Amicus Ca...                Series B   \n",
       "24                                 Rainmatter Capital                   Angel   \n",
       "25  Kalaari Capital Partners, IndigoEdge Managemen...                Series B   \n",
       "26  Alpha Wave Incubation, Exfinity Venture Partne...                Series A   \n",
       "27                         Shadow Holdings, Lightbox.          Debt Financing   \n",
       "28         Gaja Capital, Tata Capital, Partners Group             In Progress   \n",
       "29                                   Caretech Pte Inc                Series B   \n",
       "30         Lightspeed India and Sequoia Capital India                Series A   \n",
       "31                                  Chiratae Ventures                    Seed   \n",
       "32                         growX Ventures and Micelio            pre-Series A   \n",
       "\n",
       "     Amount(in USD)  \n",
       "0     1,200,000,000  \n",
       "1       100,000,000  \n",
       "2           934,160  \n",
       "3         1,700,000  \n",
       "4         3,300,000  \n",
       "5           400,000  \n",
       "6           974,200  \n",
       "7           292,800  \n",
       "8           200,000  \n",
       "9           500,000  \n",
       "10       32,000,000  \n",
       "11       23,000,000  \n",
       "12        1,560,000  \n",
       "13       30,000,000  \n",
       "14        1,400,000  \n",
       "15  upto 15,000,000  \n",
       "16        6,000,000  \n",
       "17       10,670,000  \n",
       "18       16,200,000  \n",
       "19        5,000,000  \n",
       "20               NA  \n",
       "21        2,880,000  \n",
       "22      500,000,000  \n",
       "23        3,000,000  \n",
       "24          370,000  \n",
       "25       15,500,000  \n",
       "26        4,500,000  \n",
       "27   upto 8,900,000  \n",
       "28      100,000,000  \n",
       "29        5,400,000  \n",
       "30        8,000,000  \n",
       "31          950,000  \n",
       "32               NA  "
      ]
     },
     "execution_count": 30,
     "metadata": {},
     "output_type": "execute_result"
    }
   ],
   "source": [
    "df = pd.DataFrame(fund_dict)\n",
    "df"
   ]
  },
  {
   "cell_type": "markdown",
   "id": "98eead3f",
   "metadata": {},
   "source": [
    "Q-7-Write a program to scrap all the available details of best gaming laptops from digit.in."
   ]
  },
  {
   "cell_type": "code",
   "execution_count": 3,
   "id": "207d3edd",
   "metadata": {},
   "outputs": [],
   "source": [
    "driver = webdriver.Chrome(r'C:\\Users\\Mukti\\Downloads\\chromedriver_win32\\chromedriver.exe')\n",
    "driver.get('https://www.digit.in/')"
   ]
  },
  {
   "cell_type": "code",
   "execution_count": 9,
   "id": "b7bc054c",
   "metadata": {},
   "outputs": [],
   "source": [
    "#clickng on top 10 option \n",
    "top_10=driver.find_element_by_xpath(\"//div[@class='menu']/ul/li[3]/a\")\n",
    "top_10.click()\n",
    "\n",
    "#clicking on laptops option\n",
    "laptops=driver.find_element_by_xpath(\"/html/body/div[7]/div/div[2]/div[2]/ul/li[10]/a\")\n",
    "laptops.click()\n",
    "#best gaming laptops link\n",
    "best_gaming=driver.find_element_by_xpath('/html/body/div[6]/div[1]/div[4]/div[1]/a')\n",
    "driver.get(best_gaming.get_attribute('href'))"
   ]
  },
  {
   "cell_type": "code",
   "execution_count": 11,
   "id": "2cb6f990",
   "metadata": {},
   "outputs": [],
   "source": [
    "#intialising lists\n",
    "name = []\n",
    "price = []\n",
    "OS = []\n",
    "display = []\n",
    "processor = []\n",
    "HDD = []\n",
    "RAM = []\n",
    "weight = []\n",
    "dimension = []\n",
    "GPU = []\n",
    "\n",
    "#names\n",
    "names=driver.find_elements_by_xpath(\"//div[@class='right-container']/div/a/h3\")\n",
    "for i in names:\n",
    "    name.append(i.text)\n",
    "    \n",
    "#os\n",
    "os=driver.find_elements_by_xpath(\"//div[@class='product-detail']/div/ul/li[1]/div/div\")\n",
    "for i in os:\n",
    "    OS.append(i.text)\n",
    "    \n",
    "#display\n",
    "displays=driver.find_elements_by_xpath(\"//div[@class='product-detail']/div/ul/li[2]/div/div\")\n",
    "for i in displays:\n",
    "    display.append(i.text)\n",
    "    \n",
    "#processor\n",
    "processors=driver.find_elements_by_xpath(\"//div[@class='product-detail']/div/ul/li[3]/div/div\")\n",
    "for i in processors:\n",
    "    processor.append(i.text)\n",
    "processor\n",
    "\n",
    "#memory\n",
    "memories=driver.find_elements_by_xpath(\"//div[@class='Spcs-details'][1]/table/tbody/tr[6]/td[1]\")#list of specificaion name\n",
    "memories_spec=driver.find_elements_by_xpath(\"//div[@class='Spcs-details'][1]/table/tbody/tr[6]/td[3]\")#values of specifiations \n",
    "for i in range(len(memories)):\n",
    "        if memories[i].text=='Memory':\n",
    "            HDD.append(memories_spec[i].text.split('/')[0])\n",
    "            RAM.append(memories_spec[i].text.split('/')[1])\n",
    "        else:\n",
    "            HDD.append('No details available')#append no details as value for memory is missing in some of the laptops\n",
    "            RAM.append('No details available')#append no details as value for memory is missing in some of the laptops\n",
    "\n",
    "#weight\n",
    "weights=driver.find_elements_by_xpath(\"//div[@class='Spcs-details']/table/tbody/tr/td[1]\")#list of specificaion name\n",
    "weight_spec=driver.find_elements_by_xpath(\"//div[@class='Spcs-details']/table/tbody/tr/td[3]\")#values of specifiations\n",
    "for i in range(len(weights)):\n",
    "        if weights[i].text=='Weight':\n",
    "            weight.append(weight_spec[i].text)\n",
    "        \n",
    "#dimension\n",
    "dimension=[]\n",
    "dims=driver.find_elements_by_xpath(\"//div[@class='Spcs-details']/table/tbody/tr/td[1]\")#list of specificaion name\n",
    "dims_spec=driver.find_elements_by_xpath(\"//div[@class='Spcs-details']/table/tbody/tr/td[3]\")#values of specifiations\n",
    "for i in range(len(dims)):\n",
    "        if dims[i].text=='Dimension':\n",
    "            dimension.append(dims_spec[i].text)\n",
    "\n",
    "#graphical processor\n",
    "GPUs=driver.find_elements_by_xpath(\"//div[@class='Spcs-details']/table/tbody/tr/td[1]\")#list of specificaion name\n",
    "GPUs_spec=driver.find_elements_by_xpath(\"//div[@class='Spcs-details']/table/tbody/tr/td[3]\")#values of specifiations\n",
    "for i in range(len(GPUs)):\n",
    "        if GPUs[i].text=='Graphics Processor':\n",
    "            GPU.append(GPUs_spec[i].text)\n",
    "        \n",
    "full_specs=[]\n",
    "urls=driver.find_elements_by_xpath(\"//div[@class='full-specs']/span\")#getting the url of full specs links\n",
    "for i in urls:\n",
    "    if i.get_attribute('data-href'):\n",
    "        full_specs.append(i.get_attribute('data-href'))\n",
    "    \n",
    "for i in full_specs:#iterating throug every laptops full specs' page\n",
    "    driver.get(i)\n",
    "    try:\n",
    "        prices=driver.find_element_by_xpath(\"//div[@class='Block-price']/b\")\n",
    "        price.append(prices.text)\n",
    "    except NoSuchElementException:#exception handling for no price details\n",
    "        price.append(\"No details available\")\n",
    "        \n",
    "df=pd.DataFrame({\"Name\":name,\n",
    "                \"Price\":price,\n",
    "                \"OS\":OS,\n",
    "                \"Display\":display,\n",
    "                \"HDD\":HDD,\n",
    "                 \"RAM\":RAM,\n",
    "                \"processor\":processor,\n",
    "                \"weight\":weight,\n",
    "                \"Dimension\":dimension,\n",
    "                \"Graphical processor\":GPU})"
   ]
  },
  {
   "cell_type": "code",
   "execution_count": 12,
   "id": "4ac25b25",
   "metadata": {},
   "outputs": [
    {
     "data": {
      "text/html": [
       "<div>\n",
       "<style scoped>\n",
       "    .dataframe tbody tr th:only-of-type {\n",
       "        vertical-align: middle;\n",
       "    }\n",
       "\n",
       "    .dataframe tbody tr th {\n",
       "        vertical-align: top;\n",
       "    }\n",
       "\n",
       "    .dataframe thead th {\n",
       "        text-align: right;\n",
       "    }\n",
       "</style>\n",
       "<table border=\"1\" class=\"dataframe\">\n",
       "  <thead>\n",
       "    <tr style=\"text-align: right;\">\n",
       "      <th></th>\n",
       "      <th>Name</th>\n",
       "      <th>Price</th>\n",
       "      <th>OS</th>\n",
       "      <th>Display</th>\n",
       "      <th>HDD</th>\n",
       "      <th>RAM</th>\n",
       "      <th>processor</th>\n",
       "      <th>weight</th>\n",
       "      <th>Dimension</th>\n",
       "      <th>Graphical processor</th>\n",
       "    </tr>\n",
       "  </thead>\n",
       "  <tbody>\n",
       "  </tbody>\n",
       "</table>\n",
       "</div>"
      ],
      "text/plain": [
       "Empty DataFrame\n",
       "Columns: [Name, Price, OS, Display, HDD, RAM, processor, weight, Dimension, Graphical processor]\n",
       "Index: []"
      ]
     },
     "execution_count": 12,
     "metadata": {},
     "output_type": "execute_result"
    }
   ],
   "source": [
    "df"
   ]
  },
  {
   "cell_type": "markdown",
   "id": "30001dd2",
   "metadata": {},
   "source": [
    "Q-8 - Write a python program to scrape the details for all billionaires from www.forbes.com. Details to be scrapped: “Rank”, “Name”, “Net worth”, “Age”, “Citizenship”, “Source”, “Industry”."
   ]
  },
  {
   "cell_type": "code",
   "execution_count": 33,
   "id": "ee242666",
   "metadata": {},
   "outputs": [],
   "source": [
    "driver.get(\"https://www.forbes.com./?sh=3cae9bb143da\")"
   ]
  },
  {
   "cell_type": "code",
   "execution_count": 34,
   "id": "57317315",
   "metadata": {},
   "outputs": [],
   "source": [
    "Rank=[]\n",
    "Name=[]\n",
    "Net_worth=[]\n",
    "Age=[]\n",
    "Citizenship=[]\n",
    "Source=[]\n",
    "Industry=[]"
   ]
  },
  {
   "cell_type": "code",
   "execution_count": 55,
   "id": "073b8342",
   "metadata": {},
   "outputs": [],
   "source": [
    "table=driver.find_elements_by_xpath(\"//li[@class='header__channel header__color--centennial-silver header__hoverable']\")\n"
   ]
  },
  {
   "cell_type": "code",
   "execution_count": 58,
   "id": "f4aeb95a",
   "metadata": {},
   "outputs": [],
   "source": [
    "header=driver.find_element_by_xpath(\"//a[@class='section__link']\")"
   ]
  },
  {
   "cell_type": "code",
   "execution_count": 65,
   "id": "5c239af9",
   "metadata": {},
   "outputs": [],
   "source": [
    "rank=driver.find_elements_by_class_name('rank')\n",
    "for i in Rank:\n",
    "    if i.text is None:\n",
    "        Rank.append(\"-\")\n",
    "    else:\n",
    "        Rank.append(i.text)"
   ]
  },
  {
   "cell_type": "code",
   "execution_count": 67,
   "id": "fba3b8b6",
   "metadata": {},
   "outputs": [
    {
     "data": {
      "text/plain": [
       "[<selenium.webdriver.remote.webelement.WebElement (session=\"626936c08f4ca3dddb15617aa7104af9\", element=\"9c274eb5-4b9a-4e2a-8351-057cca26de69\")>,\n",
       " <selenium.webdriver.remote.webelement.WebElement (session=\"626936c08f4ca3dddb15617aa7104af9\", element=\"c1b6a0cd-5554-4419-aa24-b8bb1357b357\")>,\n",
       " <selenium.webdriver.remote.webelement.WebElement (session=\"626936c08f4ca3dddb15617aa7104af9\", element=\"c70300fa-c219-43f4-a1f7-0b5e2261f211\")>,\n",
       " <selenium.webdriver.remote.webelement.WebElement (session=\"626936c08f4ca3dddb15617aa7104af9\", element=\"eaf6e0ae-ba42-48a8-a5bf-792681f09de4\")>,\n",
       " <selenium.webdriver.remote.webelement.WebElement (session=\"626936c08f4ca3dddb15617aa7104af9\", element=\"eab64d27-9c74-4c11-9eb8-cee46e874a6d\")>,\n",
       " <selenium.webdriver.remote.webelement.WebElement (session=\"626936c08f4ca3dddb15617aa7104af9\", element=\"e90c732c-dd11-4fa1-8337-0bbcc7d4cfe2\")>,\n",
       " <selenium.webdriver.remote.webelement.WebElement (session=\"626936c08f4ca3dddb15617aa7104af9\", element=\"f2a249f4-d029-4d4c-a975-1c8cae8246b5\")>,\n",
       " <selenium.webdriver.remote.webelement.WebElement (session=\"626936c08f4ca3dddb15617aa7104af9\", element=\"e2acf633-58db-4ca9-8f52-d0f760e32dec\")>,\n",
       " <selenium.webdriver.remote.webelement.WebElement (session=\"626936c08f4ca3dddb15617aa7104af9\", element=\"f788b1f7-6fac-4270-803c-282320cbb6f7\")>,\n",
       " <selenium.webdriver.remote.webelement.WebElement (session=\"626936c08f4ca3dddb15617aa7104af9\", element=\"ee4cc898-68b4-4756-a44c-47e2ab57bde5\")>]"
      ]
     },
     "execution_count": 67,
     "metadata": {},
     "output_type": "execute_result"
    }
   ],
   "source": [
    "rank[0:10]"
   ]
  },
  {
   "cell_type": "code",
   "execution_count": 77,
   "id": "1bc68dd5",
   "metadata": {},
   "outputs": [],
   "source": [
    "rank=driver.find_elements_by_xpath('/html/body/div[1]/div[1]/div/div/div[3]/div[2]/div[2]/div[2]/div[1]/div[4]/div[2]')\n",
    "for i in Rank:\n",
    "    if i.text is Name:\n",
    "        Name.append(\"-\")\n",
    "    else:\n",
    "        Name.append(i.text)"
   ]
  },
  {
   "cell_type": "code",
   "execution_count": 78,
   "id": "e29c656c",
   "metadata": {},
   "outputs": [
    {
     "data": {
      "text/plain": [
       "[]"
      ]
     },
     "execution_count": 78,
     "metadata": {},
     "output_type": "execute_result"
    }
   ],
   "source": [
    "Name"
   ]
  },
  {
   "cell_type": "markdown",
   "id": "1a57522d",
   "metadata": {},
   "source": [
    "Q-9-Write a program to extract at least 500 Comments, Comment upvote and time when comment was posted from any YouTube Video."
   ]
  },
  {
   "cell_type": "code",
   "execution_count": 79,
   "id": "2027d59a",
   "metadata": {},
   "outputs": [],
   "source": [
    "driver = webdriver.Chrome(r'C:\\Users\\Mukti\\Downloads\\chromedriver_win32\\chromedriver.exe')\n",
    "driver.get(\"https://www.youtube.com/\")"
   ]
  },
  {
   "cell_type": "code",
   "execution_count": 83,
   "id": "84dbbfdc",
   "metadata": {},
   "outputs": [],
   "source": [
    "# Fetching URLS\n",
    "urls=[]\n",
    "for i in driver.find_elements_by_xpath(\"//a[@class='yt-simple-endpoint style-scope ytd-rich-grid-media']\"):\n",
    "    urls.append(i.get_attribute(\"href\"))"
   ]
  },
  {
   "cell_type": "code",
   "execution_count": 84,
   "id": "0aaacb23",
   "metadata": {},
   "outputs": [
    {
     "data": {
      "text/plain": [
       "['https://www.youtube.com/c/AdityaMusicNMovies',\n",
       " 'https://www.youtube.com/watch?v=EEqq0_Etuos',\n",
       " 'https://www.youtube.com/c/SillyPointChannel',\n",
       " 'https://www.youtube.com/watch?v=1LzDlfN8nNc',\n",
       " 'https://www.youtube.com/c/setindia',\n",
       " 'https://www.youtube.com/watch?v=7rUAVd-AUfE',\n",
       " 'https://www.youtube.com/user/zeemusiccompany',\n",
       " 'https://www.youtube.com/watch?v=_wHJNT0-OEQ',\n",
       " 'https://www.youtube.com/c/RajGroverOffical',\n",
       " 'https://www.youtube.com/watch?v=I-Gv7PR76us',\n",
       " 'https://www.youtube.com/c/%E7%93%9C%E5%93%A5%E8%BF%BD%E5%89%A7',\n",
       " 'https://www.youtube.com/watch?v=i1UDIq0bPsg',\n",
       " 'https://www.youtube.com/c/TanmayBhatYouTube',\n",
       " 'https://www.youtube.com/watch?v=_qKX-7aXkZw',\n",
       " 'https://www.youtube.com/channel/UCQRJXvkfbbcm3KTxSNn0HiQ',\n",
       " 'https://www.youtube.com/watch?v=eMvGmIkmF7Y',\n",
       " 'https://www.youtube.com/c/shemaroobollywoodcomedy',\n",
       " 'https://www.youtube.com/watch?v=rdclz9qfSZY',\n",
       " 'https://www.youtube.com/c/SonyMusicIndia',\n",
       " 'https://www.youtube.com/watch?v=6eGCi4SVy94',\n",
       " 'https://www.youtube.com/c/NetflixIndiaOfficial',\n",
       " 'https://www.youtube.com/watch?v=ZsI82MHVhcI',\n",
       " 'https://www.youtube.com/doordarshan',\n",
       " 'https://www.youtube.com/watch?v=PwmeHNAIouA',\n",
       " 'https://www.youtube.com/c/shemaroobollywoodcomedy',\n",
       " 'https://www.youtube.com/watch?v=HcC_1WbUIqc',\n",
       " 'https://www.youtube.com/c/Round2hellVlog',\n",
       " 'https://www.youtube.com/watch?v=Ar2M9afNYMg',\n",
       " 'https://www.youtube.com/doordarshan',\n",
       " 'https://www.youtube.com/watch?v=XLzF-zO1kK4',\n",
       " 'https://www.youtube.com/c/NarendraModi',\n",
       " 'https://www.youtube.com/watch?v=00-J7j1tY4Y',\n",
       " 'https://www.youtube.com/c/RajGroverOffical',\n",
       " 'https://www.youtube.com/watch?v=GiyN7E2sSx4',\n",
       " 'https://www.youtube.com/c/JungleePictures',\n",
       " 'https://www.youtube.com/watch?v=HpMsvH7DpPc',\n",
       " 'https://www.youtube.com/c/IndorePhysicalAcademySatyadhiSharmaClasses',\n",
       " 'https://www.youtube.com/watch?v=7Hz4wyYecu8',\n",
       " 'https://www.youtube.com/c/HasteRaho',\n",
       " 'https://www.youtube.com/watch?v=5ptvx5QraMg',\n",
       " 'https://www.youtube.com/aashiqui2',\n",
       " 'https://www.youtube.com/watch?v=hcMzwMrr1tE',\n",
       " 'https://www.youtube.com/c/TechBurner',\n",
       " 'https://www.youtube.com/watch?v=l0JWNn6axXk',\n",
       " 'https://www.youtube.com/c/FilterCopy',\n",
       " 'https://www.youtube.com/watch?v=zZc9MvwxdXo',\n",
       " 'https://www.youtube.com/channel/UCBZQAxIn4Mxc2_P2LNsO_RA',\n",
       " 'https://www.youtube.com/watch?v=UiiqUL0Adfc',\n",
       " 'https://www.youtube.com/c/InterestingFactsClub',\n",
       " 'https://www.youtube.com/watch?v=u9X5SQCDnio',\n",
       " 'https://www.youtube.com/c/BingeSocietyTheGreatestMovieScenes',\n",
       " 'https://www.youtube.com/watch?v=6XwhiSCalX8',\n",
       " 'https://www.youtube.com/c/NileRedShorts',\n",
       " 'https://www.youtube.com/watch?v=nqedbR9SKMA',\n",
       " 'https://www.youtube.com/channel/UC-YKMwyFOYWMzA2K5LukjhA',\n",
       " 'https://www.youtube.com/watch?v=BzfPV5dC1I0',\n",
       " 'https://www.youtube.com/c/DMDesiMelodies',\n",
       " 'https://www.youtube.com/watch?v=NwdQx2P_ytk',\n",
       " 'https://www.youtube.com/c/ZubairSarookhOfficial',\n",
       " 'https://www.youtube.com/watch?v=6CLjKX8SCA0',\n",
       " 'https://www.youtube.com/c/KOTARO_OTTER',\n",
       " 'https://www.youtube.com/watch?v=SAK117AmzSE',\n",
       " 'https://www.youtube.com/channel/UCRel61i1pJDs9dBk6tCwSbQ',\n",
       " 'https://www.youtube.com/watch?v=mS60nG6bJwo']"
      ]
     },
     "execution_count": 84,
     "metadata": {},
     "output_type": "execute_result"
    }
   ],
   "source": [
    "urls"
   ]
  },
  {
   "cell_type": "code",
   "execution_count": 85,
   "id": "18dd40d0",
   "metadata": {},
   "outputs": [],
   "source": [
    "# Difining Variables\n",
    "Title=[]\n",
    "Comments=[]"
   ]
  },
  {
   "cell_type": "code",
   "execution_count": 86,
   "id": "2ab46b29",
   "metadata": {},
   "outputs": [],
   "source": [
    "for i in urls:\n",
    "    driver.get(i)\n",
    "    time.sleep(2)\n",
    "    # fetching job title\n",
    "    try:\n",
    "        title = driver.find_element_by_xpath(\"//div[@id='style-scope ytd-channel-name']\")\n",
    "        Title.append(job.text.replace(\"/n\",\"new line\"))\n",
    "    except :\n",
    "        Title.append('-')\n",
    "        \n",
    "    # Fetching Description\n",
    "    try:\n",
    "        Comme=driver.find_element_by_xpath(\"//span[@dir='style-scope yt-formatted-string']\")\n",
    "        Comments.append(job_desc.text)\n",
    "    except:\n",
    "        Comments.append('-')"
   ]
  },
  {
   "cell_type": "code",
   "execution_count": 87,
   "id": "0e78d029",
   "metadata": {},
   "outputs": [
    {
     "data": {
      "text/plain": [
       "['-',\n",
       " '-',\n",
       " '-',\n",
       " '-',\n",
       " '-',\n",
       " '-',\n",
       " '-',\n",
       " '-',\n",
       " '-',\n",
       " '-',\n",
       " '-',\n",
       " '-',\n",
       " '-',\n",
       " '-',\n",
       " '-',\n",
       " '-',\n",
       " '-',\n",
       " '-',\n",
       " '-',\n",
       " '-',\n",
       " '-',\n",
       " '-',\n",
       " '-',\n",
       " '-',\n",
       " '-',\n",
       " '-',\n",
       " '-',\n",
       " '-',\n",
       " '-',\n",
       " '-',\n",
       " '-',\n",
       " '-',\n",
       " '-',\n",
       " '-',\n",
       " '-',\n",
       " '-',\n",
       " '-',\n",
       " '-',\n",
       " '-',\n",
       " '-',\n",
       " '-',\n",
       " '-',\n",
       " '-',\n",
       " '-',\n",
       " '-',\n",
       " '-',\n",
       " '-',\n",
       " '-',\n",
       " '-',\n",
       " '-',\n",
       " '-',\n",
       " '-',\n",
       " '-',\n",
       " '-',\n",
       " '-',\n",
       " '-',\n",
       " '-',\n",
       " '-',\n",
       " '-',\n",
       " '-',\n",
       " '-',\n",
       " '-',\n",
       " '-',\n",
       " '-']"
      ]
     },
     "execution_count": 87,
     "metadata": {},
     "output_type": "execute_result"
    }
   ],
   "source": [
    "Title"
   ]
  },
  {
   "cell_type": "code",
   "execution_count": 88,
   "id": "344e84d5",
   "metadata": {},
   "outputs": [
    {
     "data": {
      "text/plain": [
       "['-',\n",
       " '-',\n",
       " '-',\n",
       " '-',\n",
       " '-',\n",
       " '-',\n",
       " '-',\n",
       " '-',\n",
       " '-',\n",
       " '-',\n",
       " '-',\n",
       " '-',\n",
       " '-',\n",
       " '-',\n",
       " '-',\n",
       " '-',\n",
       " '-',\n",
       " '-',\n",
       " '-',\n",
       " '-',\n",
       " '-',\n",
       " '-',\n",
       " '-',\n",
       " '-',\n",
       " '-',\n",
       " '-',\n",
       " '-',\n",
       " '-',\n",
       " '-',\n",
       " '-',\n",
       " '-',\n",
       " '-',\n",
       " '-',\n",
       " '-',\n",
       " '-',\n",
       " '-',\n",
       " '-',\n",
       " '-',\n",
       " '-',\n",
       " '-',\n",
       " '-',\n",
       " '-',\n",
       " '-',\n",
       " '-',\n",
       " '-',\n",
       " '-',\n",
       " '-',\n",
       " '-',\n",
       " '-',\n",
       " '-',\n",
       " '-',\n",
       " '-',\n",
       " '-',\n",
       " '-',\n",
       " '-',\n",
       " '-',\n",
       " '-',\n",
       " '-',\n",
       " '-',\n",
       " '-',\n",
       " '-',\n",
       " '-',\n",
       " '-',\n",
       " '-']"
      ]
     },
     "execution_count": 88,
     "metadata": {},
     "output_type": "execute_result"
    }
   ],
   "source": [
    "Comments"
   ]
  },
  {
   "cell_type": "markdown",
   "id": "dd891966",
   "metadata": {},
   "source": [
    "Q-10-Write a python program to scrape a data for all available Hostels from https://www.hostelworld.com/ in “London” location. You have to scrape hostel name, distance from city centre, ratings, total reviews, overall reviews, privates from price, dorms from price, facilities and property description."
   ]
  },
  {
   "cell_type": "code",
   "execution_count": 92,
   "id": "4fad621e",
   "metadata": {},
   "outputs": [],
   "source": [
    "driver = webdriver.Chrome(r'C:\\Users\\Mukti\\Downloads\\chromedriver_win32\\chromedriver.exe')\n",
    "driver.get(\" https://www.hostelworld.com/s?q=London,%20England&country=England&city=London&type=city&id=3&from=2022-01-28&to=2022-01-31&guests=2&page=1\")"
   ]
  },
  {
   "cell_type": "code",
   "execution_count": 108,
   "id": "533960c7",
   "metadata": {},
   "outputs": [],
   "source": [
    "# Fetching name\n",
    "name=[]\n",
    "for i in driver.find_elements_by_xpath(\"//h2[@class='title title-6']\"):\n",
    "    name.append(i.text)"
   ]
  },
  {
   "cell_type": "code",
   "execution_count": 109,
   "id": "c902f3d3",
   "metadata": {},
   "outputs": [
    {
     "data": {
      "text/plain": [
       "['Mornington Camden',\n",
       " 'Smart Russell Square Hostel',\n",
       " 'Smart Camden Inn Hostel',\n",
       " 'Selina Camden',\n",
       " 'Queen Elizabeth Chelsea',\n",
       " 'Pickwick Hall',\n",
       " 'New Cross Inn Hostel',\n",
       " 'No.8 Willesden Hostel London',\n",
       " 'Safestay London Elephant & Castle',\n",
       " 'Barmy Badger Backpackers',\n",
       " 'The London Home Hostel',\n",
       " 'No.8 Seven Sisters',\n",
       " 'Park Villa',\n",
       " 'Astor Hyde Park',\n",
       " \"Wombat's The City Hostel London\",\n",
       " \"St Christopher's Greenwich\",\n",
       " \"St Christopher's Oasis-Female Only\",\n",
       " \"St Christopher's Camden\",\n",
       " \"St Christopher's Shepherds Bush\",\n",
       " \"St Christopher's Hammersmith\",\n",
       " \"St Christopher's Inn - Liverpool Street\",\n",
       " 'PubLove @ The White Ferry, Victoria',\n",
       " 'Smart Hyde Park Inn Hostel',\n",
       " 'Smart Hyde Park View Hostel',\n",
       " 'Safestay London Kensington Holland Park',\n",
       " 'Urbany Hostel London',\n",
       " 'Astor Kensington',\n",
       " 'Phoenix Hostel',\n",
       " 'Prime Backpackers Angel',\n",
       " 'YHA London Earls Court']"
      ]
     },
     "execution_count": 109,
     "metadata": {},
     "output_type": "execute_result"
    }
   ],
   "source": [
    "name"
   ]
  },
  {
   "cell_type": "code",
   "execution_count": 110,
   "id": "268e3b03",
   "metadata": {},
   "outputs": [
    {
     "data": {
      "text/plain": [
       "['Hostel - 4.1km from city centre Show on Map',\n",
       " 'Hostel - 2.6km from city centre Show on Map',\n",
       " 'Hostel - 4.4km from city centre Show on Map',\n",
       " 'Hostel - 5.5km from city centre Show on Map',\n",
       " 'Hostel - 5.7km from city centre Show on Map',\n",
       " 'Hostel - 2.3km from city centre Show on Map',\n",
       " 'Hostel - 6.1km from city centre Show on Map',\n",
       " 'Hostel - 10km from city centre Show on Map',\n",
       " 'Hostel - 1.7km from city centre Show on Map',\n",
       " 'Hostel - 5.5km from city centre Show on Map',\n",
       " 'Hostel - 8.2km from city centre Show on Map',\n",
       " 'Hostel - 9km from city centre Show on Map',\n",
       " 'Hostel - 6.3km from city centre Show on Map',\n",
       " 'Hostel - 4.3km from city centre Show on Map',\n",
       " 'Hostel - 3.6km from city centre Show on Map',\n",
       " 'Hostel - 7.6km from city centre Show on Map',\n",
       " 'Hostel - 1.8km from city centre Show on Map',\n",
       " 'Hostel - 4.3km from city centre Show on Map',\n",
       " 'Hostel - 7km from city centre Show on Map',\n",
       " 'Hostel - 7.5km from city centre Show on Map',\n",
       " 'Hostel - 3.2km from city centre Show on Map',\n",
       " 'Hostel - 2.4km from city centre Show on Map',\n",
       " 'Hostel - 5km from city centre Show on Map',\n",
       " 'Hostel - 5km from city centre Show on Map',\n",
       " 'Hostel - 5.9km from city centre Show on Map',\n",
       " 'Hostel - 5.4km from city centre Show on Map',\n",
       " 'Hostel - 4.9km from city centre Show on Map',\n",
       " 'Hostel - 4.2km from city centre Show on Map',\n",
       " 'Hostel - 3.6km from city centre Show on Map',\n",
       " 'Hostel - 5.1km from city centre Show on Map']"
      ]
     },
     "execution_count": 110,
     "metadata": {},
     "output_type": "execute_result"
    }
   ],
   "source": [
    "# Fetching name\n",
    "distance_city_centre=[]\n",
    "for i in driver.find_elements_by_xpath(\"//a[@class='show-on-map']\"):\n",
    "    distance_city_centre.append(i.text)\n",
    "    \n",
    "distance_city_centre"
   ]
  },
  {
   "cell_type": "code",
   "execution_count": 112,
   "id": "746fce83",
   "metadata": {},
   "outputs": [
    {
     "data": {
      "text/plain": [
       "['8.3',\n",
       " '6.7',\n",
       " '8.5',\n",
       " '9.2',\n",
       " '7.5',\n",
       " '9.0',\n",
       " '7.4',\n",
       " '7.6',\n",
       " '8.0',\n",
       " '9.3',\n",
       " '6.8',\n",
       " '8.3',\n",
       " '8.5',\n",
       " '8.8',\n",
       " '7.1',\n",
       " '7.9',\n",
       " '7.2',\n",
       " '8.3',\n",
       " '7.6',\n",
       " '8.5',\n",
       " '8.4',\n",
       " '6.8',\n",
       " '7.7',\n",
       " '8.0',\n",
       " '9.6',\n",
       " '7.3',\n",
       " '7.8',\n",
       " '9.2',\n",
       " '9.7']"
      ]
     },
     "execution_count": 112,
     "metadata": {},
     "output_type": "execute_result"
    }
   ],
   "source": [
    "rating=[]\n",
    "for i in driver.find_elements_by_xpath(\"//div[@class='score orange big']\"):\n",
    "    rating.append(i.text)\n",
    "    \n",
    "rating"
   ]
  },
  {
   "cell_type": "code",
   "execution_count": 113,
   "id": "72695606",
   "metadata": {},
   "outputs": [
    {
     "data": {
      "text/plain": [
       "['44 Total Reviews',\n",
       " '9567 Total Reviews',\n",
       " '2740 Total Reviews',\n",
       " '15 Total Reviews',\n",
       " '3214 Total Reviews',\n",
       " '2276 Total Reviews',\n",
       " '1055 Total Reviews',\n",
       " '4645 Total Reviews',\n",
       " '4026 Total Reviews',\n",
       " '1688 Total Reviews',\n",
       " '253 Total Reviews',\n",
       " '3686 Total Reviews',\n",
       " '854 Total Reviews',\n",
       " '11385 Total Reviews',\n",
       " '13370 Total Reviews',\n",
       " '3155 Total Reviews',\n",
       " '620 Total Reviews',\n",
       " '3731 Total Reviews',\n",
       " '642 Total Reviews',\n",
       " '3972 Total Reviews',\n",
       " '374 Total Reviews',\n",
       " '188 Total Reviews',\n",
       " '6261 Total Reviews',\n",
       " '4518 Total Reviews',\n",
       " '1108 Total Reviews',\n",
       " '188 Total Reviews',\n",
       " '6341 Total Reviews',\n",
       " '3481 Total Reviews',\n",
       " '531 Total Reviews',\n",
       " '1385 Total Reviews']"
      ]
     },
     "execution_count": 113,
     "metadata": {},
     "output_type": "execute_result"
    }
   ],
   "source": [
    "total_reviews=[]\n",
    "for i in driver.find_elements_by_xpath(\"//div[@class='reviews']\"):\n",
    "    total_reviews.append(i.text)\n",
    "    \n",
    "total_reviews"
   ]
  },
  {
   "cell_type": "code",
   "execution_count": 121,
   "id": "87428e35",
   "metadata": {},
   "outputs": [
    {
     "data": {
      "text/plain": [
       "['Rs3277',\n",
       " 'Rs5197',\n",
       " 'Rs12901',\n",
       " 'Rs4112',\n",
       " 'Rs6678',\n",
       " 'Rs1673.24 Rs1506',\n",
       " 'Rs9713',\n",
       " 'Rs6206',\n",
       " 'Rs5565',\n",
       " 'Rs6418',\n",
       " 'Rs1720',\n",
       " 'Rs3008.92 Rs2257',\n",
       " 'Rs1243.03 Rs1119',\n",
       " 'Rs1748.57 Rs1574',\n",
       " 'Rs5092.07 Rs4583']"
      ]
     },
     "execution_count": 121,
     "metadata": {},
     "output_type": "execute_result"
    }
   ],
   "source": [
    "privates_from_price=[]\n",
    "for i in driver.find_elements_by_xpath(\"//div[@class='price title-5']\"):\n",
    "    privates_from_price.append(i.text)\n",
    "    \n",
    "privates_from_price[0:30:2]"
   ]
  },
  {
   "cell_type": "code",
   "execution_count": 125,
   "id": "f2ee41c3",
   "metadata": {},
   "outputs": [
    {
     "data": {
      "text/plain": [
       "['Rs3277',\n",
       " 'Rs5197',\n",
       " 'Rs12901',\n",
       " 'Rs4112',\n",
       " 'Rs6678',\n",
       " 'Rs1673.24 Rs1506',\n",
       " 'Rs9713',\n",
       " 'Rs6206',\n",
       " 'Rs5565',\n",
       " 'Rs6418',\n",
       " 'Rs1720',\n",
       " 'Rs3008.92 Rs2257',\n",
       " 'Rs1243.03 Rs1119',\n",
       " 'Rs1748.57 Rs1574',\n",
       " 'Rs5092.07 Rs4583',\n",
       " 'Rs4867.22 Rs4381',\n",
       " 'Rs7637.36 Rs6874',\n",
       " 'Rs1922',\n",
       " 'Rs1181',\n",
       " 'Rs1254']"
      ]
     },
     "execution_count": 125,
     "metadata": {},
     "output_type": "execute_result"
    }
   ],
   "source": [
    "dorms_from_price=[]\n",
    "for i in driver.find_elements_by_xpath(\"//div[@class='price title-5']\"):\n",
    "    dorms_from_price.append(i.text)\n",
    "    \n",
    "dorms_from_price[0:40:2]"
   ]
  },
  {
   "cell_type": "code",
   "execution_count": 127,
   "id": "77102cda",
   "metadata": {},
   "outputs": [
    {
     "data": {
      "text/plain": [
       "['Fantastic Cleanliness',\n",
       " 'Awesome Cleanliness',\n",
       " 'Fantastic Cleanliness',\n",
       " 'Fantastic Cleanliness',\n",
       " 'Awesome Cleanliness',\n",
       " 'Fantastic Cleanliness',\n",
       " 'Awesome Cleanliness',\n",
       " 'Awesome Cleanliness',\n",
       " 'Excellent Cleanliness',\n",
       " 'Fantastic Cleanliness',\n",
       " 'Good Cleanliness',\n",
       " 'Excellent Cleanliness',\n",
       " 'Excellent Cleanliness',\n",
       " 'Fantastic Cleanliness',\n",
       " 'Awesome Cleanliness',\n",
       " 'Excellent Cleanliness',\n",
       " 'Awesome Cleanliness',\n",
       " 'Awesome Cleanliness',\n",
       " 'Excellent Cleanliness',\n",
       " 'Fantastic Cleanliness',\n",
       " 'Excellent Cleanliness',\n",
       " 'Good Cleanliness',\n",
       " 'Excellent Cleanliness',\n",
       " 'Excellent Cleanliness',\n",
       " 'Fantastic Cleanliness',\n",
       " 'Excellent Cleanliness',\n",
       " 'Fantastic Cleanliness',\n",
       " 'Fantastic Cleanliness']"
      ]
     },
     "execution_count": 127,
     "metadata": {},
     "output_type": "execute_result"
    }
   ],
   "source": [
    "facilities_and_property_description=[]\n",
    "for i in driver.find_elements_by_xpath(\"//div[@class='cleanliness']\"):\n",
    "    facilities_and_property_description.append(i.text)\n",
    "    \n",
    "facilities_and_property_description"
   ]
  },
  {
   "cell_type": "code",
   "execution_count": null,
   "id": "1a1eee99",
   "metadata": {},
   "outputs": [],
   "source": []
  }
 ],
 "metadata": {
  "kernelspec": {
   "display_name": "Python 3",
   "language": "python",
   "name": "python3"
  },
  "language_info": {
   "codemirror_mode": {
    "name": "ipython",
    "version": 3
   },
   "file_extension": ".py",
   "mimetype": "text/x-python",
   "name": "python",
   "nbconvert_exporter": "python",
   "pygments_lexer": "ipython3",
   "version": "3.8.8"
  }
 },
 "nbformat": 4,
 "nbformat_minor": 5
}
